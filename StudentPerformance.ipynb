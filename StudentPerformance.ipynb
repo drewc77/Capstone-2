{
 "cells": [
  {
   "cell_type": "code",
   "execution_count": 29,
   "metadata": {},
   "outputs": [],
   "source": [
    "import pandas as pd\n",
    "import numpy as np\n",
    "import matplotlib.pyplot as plt\n",
    "\n"
   ]
  },
  {
   "cell_type": "code",
   "execution_count": 41,
   "metadata": {},
   "outputs": [
    {
     "name": "stdout",
     "output_type": "stream",
     "text": [
      "<class 'pandas.core.frame.DataFrame'>\n",
      "RangeIndex: 1000 entries, 0 to 999\n",
      "Data columns (total 8 columns):\n",
      " #   Column                       Non-Null Count  Dtype \n",
      "---  ------                       --------------  ----- \n",
      " 0   gender                       1000 non-null   object\n",
      " 1   race/ethnicity               1000 non-null   object\n",
      " 2   parental level of education  1000 non-null   object\n",
      " 3   lunch                        1000 non-null   object\n",
      " 4   test preparation course      1000 non-null   object\n",
      " 5   math score                   1000 non-null   int64 \n",
      " 6   reading score                1000 non-null   int64 \n",
      " 7   writing score                1000 non-null   int64 \n",
      "dtypes: int64(3), object(5)\n",
      "memory usage: 62.6+ KB\n",
      "['female' 'male']\n",
      "['none' 'completed']\n",
      "['standard' 'free/reduced']\n",
      "[\"bachelor's degree\" 'some college' \"master's degree\" \"associate's degree\"\n",
      " 'high school' 'some high school']\n",
      "['group B' 'group C' 'group A' 'group D' 'group E']\n",
      "66.089\n",
      "69.169\n",
      "68.054\n",
      "0      74\n",
      "1      88\n",
      "2      93\n",
      "3      44\n",
      "4      75\n",
      "       ..\n",
      "995    95\n",
      "996    55\n",
      "997    65\n",
      "998    77\n",
      "999    86\n",
      "Name: writing score, Length: 1000, dtype: int64\n"
     ]
    }
   ],
   "source": [
    "student_perf = pd.read_csv('..\\drewc\\OneDrive\\Documents\\GitHub\\Andrew-Call\\Datasets\\StudentsPerformance.csv')\n",
    "student_perf.info()\n",
    "print(student_perf['gender'].unique())\n",
    "print(student_perf['test preparation course'].unique())\n",
    "print(student_perf['lunch'].unique())\n",
    "print(student_perf['parental level of education'].unique())\n",
    "print(student_perf['race/ethnicity'].unique())\n",
    "print(student_perf['math score'].mean())\n",
    "print(student_perf['reading score'].mean())\n",
    "print(student_perf['writing score'].mean())\n"
   ]
  },
  {
   "cell_type": "code",
   "execution_count": null,
   "metadata": {},
   "outputs": [],
   "source": []
  }
 ],
 "metadata": {
  "kernelspec": {
   "display_name": "Python 3",
   "language": "python",
   "name": "python3"
  },
  "language_info": {
   "codemirror_mode": {
    "name": "ipython",
    "version": 3
   },
   "file_extension": ".py",
   "mimetype": "text/x-python",
   "name": "python",
   "nbconvert_exporter": "python",
   "pygments_lexer": "ipython3",
   "version": "3.8.5"
  }
 },
 "nbformat": 4,
 "nbformat_minor": 4
}
