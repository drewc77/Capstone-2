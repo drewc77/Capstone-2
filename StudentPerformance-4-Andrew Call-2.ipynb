{
 "cells": [
  {
   "cell_type": "code",
   "execution_count": 1,
   "metadata": {},
   "outputs": [],
   "source": [
    "import pandas as pd\n",
    "import numpy as np\n",
    "import matplotlib.pyplot as plt\n",
    "import seaborn as sns"
   ]
  },
  {
   "cell_type": "markdown",
   "metadata": {},
   "source": [
    "After Importing what I need, Ive got to load my file in as a dataframe.  Then I want to see the basic info on it, how many columns, data types, rows, etc.\n",
    "Then I want to check the quality of data in my not integer value columns, by printing out all of the unique observations found. This will tell me if there are variations in the input, such as the case or spacing, that need to be addressed before attempting to group data."
   ]
  },
  {
   "cell_type": "code",
   "execution_count": 2,
   "metadata": {},
   "outputs": [
    {
     "name": "stdout",
     "output_type": "stream",
     "text": [
      "<class 'pandas.core.frame.DataFrame'>\n",
      "RangeIndex: 1000 entries, 0 to 999\n",
      "Data columns (total 8 columns):\n",
      " #   Column                       Non-Null Count  Dtype \n",
      "---  ------                       --------------  ----- \n",
      " 0   gender                       1000 non-null   object\n",
      " 1   race/ethnicity               1000 non-null   object\n",
      " 2   parental level of education  1000 non-null   object\n",
      " 3   lunch                        1000 non-null   object\n",
      " 4   test preparation course      1000 non-null   object\n",
      " 5   math score                   1000 non-null   int64 \n",
      " 6   reading score                1000 non-null   int64 \n",
      " 7   writing score                1000 non-null   int64 \n",
      "dtypes: int64(3), object(5)\n",
      "memory usage: 62.6+ KB\n",
      "['female' 'male']\n",
      "['none' 'completed']\n",
      "['standard' 'free/reduced']\n",
      "[\"bachelor's degree\" 'some college' \"master's degree\" \"associate's degree\"\n",
      " 'high school' 'some high school']\n",
      "['group B' 'group C' 'group A' 'group D' 'group E']\n"
     ]
    }
   ],
   "source": [
    "student_perf = pd.read_csv('..\\data\\StudentsPerformance.csv')\n",
    "student_perf.info()\n",
    "print(student_perf['gender'].unique())\n",
    "print(student_perf['test preparation course'].unique())\n",
    "print(student_perf['lunch'].unique())\n",
    "print(student_perf['parental level of education'].unique())\n",
    "print(student_perf['race/ethnicity'].unique())\n"
   ]
  },
  {
   "cell_type": "markdown",
   "metadata": {},
   "source": [
    "Now, I want to check if there are any values out of range, in this case below zero or above 100.\n",
    "I also want to see if there are any scores missing."
   ]
  },
  {
   "cell_type": "code",
   "execution_count": 3,
   "metadata": {},
   "outputs": [
    {
     "name": "stdout",
     "output_type": "stream",
     "text": [
      "0 100\n",
      "17 100\n",
      "10 100\n",
      "0\n",
      "0\n",
      "0\n"
     ]
    }
   ],
   "source": [
    "print(student_perf['math score'].min(), student_perf['math score'].max())\n",
    "print(student_perf['reading score'].min(), student_perf['reading score'].max())\n",
    "print(student_perf['writing score'].min(), student_perf['writing score'].max())\n",
    "print(student_perf['math score'].isna().sum())\n",
    "print(student_perf['reading score'].isna().sum())\n",
    "print(student_perf['writing score'].isna().sum())"
   ]
  },
  {
   "cell_type": "markdown",
   "metadata": {},
   "source": [
    "Next, I want to take the average value of the 3 test scores for each student #, and use it to create an overall test score column.  For now, I am not going to focus on the achievement by subject, just overall achievement.  \n",
    "After making the new column, i just want to make sure the values are as expected.  I sorted the values to check for any outliers, and to get an idea of the data for students at both ends of the range."
   ]
  },
  {
   "cell_type": "code",
   "execution_count": 4,
   "metadata": {},
   "outputs": [
    {
     "name": "stdout",
     "output_type": "stream",
     "text": [
      "67.77066666666664\n",
      "76     26.000000\n",
      "327    23.333333\n",
      "596    23.000000\n",
      "980    18.333333\n",
      "59      9.000000\n",
      "Name: avg_test_score, dtype: float64\n"
     ]
    },
    {
     "data": {
      "text/plain": [
       "962    100.000000\n",
       "916    100.000000\n",
       "458    100.000000\n",
       "114     99.666667\n",
       "179     99.000000\n",
       "Name: avg_test_score, dtype: float64"
      ]
     },
     "execution_count": 4,
     "metadata": {},
     "output_type": "execute_result"
    }
   ],
   "source": [
    "student_perf['avg_test_score'] = (student_perf['math score'] + student_perf['reading score'] + student_perf['writing score']) / 3\n",
    "print(student_perf['avg_test_score'].mean())\n",
    "sorted_avg_score = student_perf['avg_test_score'].sort_values(ascending = False)\n",
    "print(sorted_avg_score.tail())\n",
    "sorted_avg_score.head()\n"
   ]
  },
  {
   "cell_type": "markdown",
   "metadata": {},
   "source": [
    "Now, I believe my data is ready to be subsetted in to my different groupings based on each variable, allowing me to make the correct calculations needed in order to identify the strongest correlations.  I will start by dividing the students in to 2 groups based on the 2 options under the lunch variable, and comparing the average scores.  From there, I will move on to the other attributes."
   ]
  },
  {
   "cell_type": "code",
   "execution_count": 5,
   "metadata": {
    "scrolled": true
   },
   "outputs": [
    {
     "name": "stdout",
     "output_type": "stream",
     "text": [
      "62.199061032863845\n",
      "70.83720930232563\n",
      "9.0\n",
      "26.0\n",
      "97.66666666666667\n"
     ]
    }
   ],
   "source": [
    "free_reduced = student_perf[student_perf.lunch == 'free/reduced']\n",
    "not_free = student_perf[student_perf.lunch != 'free/reduced']\n",
    "print(free_reduced['avg_test_score'].mean())\n",
    "print(not_free['avg_test_score'].mean())\n",
    "print(free_reduced['avg_test_score'].min())\n",
    "print(not_free['avg_test_score'].min())\n",
    "print(free_reduced['avg_test_score'].max())\n"
   ]
  },
  {
   "cell_type": "markdown",
   "metadata": {},
   "source": [
    "# EXPLORATORY DATA ANALYSIS"
   ]
  },
  {
   "cell_type": "markdown",
   "metadata": {},
   "source": [
    "The first thing I want to take another look at for data analysis is the 3 test scores, and how they correlate with one another.  The strength of correlation may help decide if it is necessary to analyze performance for each test individually, or to simply work with the overall averages.  There also may be a specifically strong correlation, such as between reading and writing, that may allow me to combine their scores in to 1."
   ]
  },
  {
   "cell_type": "code",
   "execution_count": 6,
   "metadata": {},
   "outputs": [
    {
     "name": "stdout",
     "output_type": "stream",
     "text": [
      "               math score  reading score  writing score\n",
      "math score       1.000000       0.817580       0.802642\n",
      "reading score    0.817580       1.000000       0.954598\n",
      "writing score    0.802642       0.954598       1.000000\n"
     ]
    }
   ],
   "source": [
    "#creating new database of just the 3 test scores\n",
    "test_grades = student_perf[['math score','reading score','writing score']]\n",
    "tg_corr = test_grades.corr()\n",
    "print(tg_corr)"
   ]
  },
  {
   "cell_type": "markdown",
   "metadata": {},
   "source": [
    "There is a fairly strong correlation between all scores, but there is an extremely high correlation of over .95 between reading and writing scores.  Because of this, I will combine those 2 scores for plotting purposes in to a reading/writing score column."
   ]
  },
  {
   "cell_type": "code",
   "execution_count": 7,
   "metadata": {},
   "outputs": [],
   "source": [
    "student_perf['r/w score'] = (student_perf['reading score'] + student_perf['writing score'])/2"
   ]
  },
  {
   "cell_type": "markdown",
   "metadata": {},
   "source": [
    "The first thing I want to look at is the breakdown of scores between for my 4 most important features; whether a student has taken the test prep, whether a student qualifies for free/reduced lunch(families in the lower income brackets qualify for free/reduced lunch), the parent of the student's educational level, as well as which race/ethnicity category the student falls in to.  I also have a classification on gender, however at this point, I am more interested in the determinant characteristics of the 4 features listed above."
   ]
  },
  {
   "cell_type": "code",
   "execution_count": 8,
   "metadata": {},
   "outputs": [
    {
     "name": "stdout",
     "output_type": "stream",
     "text": [
      "The # of students on standard lunch: 645\n",
      "The # of students on free/reduced lunch: 355\n"
     ]
    }
   ],
   "source": [
    "#Starting with whether a student qualifies for free/reduced lunch, first I want to see how large a sample I have for each \n",
    "#category, and then look at the means for each subset:\n",
    "\n",
    "lunch_scores = student_perf[['lunch', 'math score', 'r/w score']]\n",
    "not_free = student_perf[student_perf['lunch'] == 'standard']\n",
    "free_reduced = student_perf[student_perf['lunch'] == 'free/reduced']\n",
    "print('The # of students on standard lunch:', len(not_free))\n",
    "print('The # of students on free/reduced lunch:', len(free_reduced))\n"
   ]
  },
  {
   "cell_type": "code",
   "execution_count": 9,
   "metadata": {},
   "outputs": [
    {
     "name": "stdout",
     "output_type": "stream",
     "text": [
      "The mean math score of those on standard lunch is: 70.03\n",
      "The mean math score of those on free/reduced lunch is: 58.92\n",
      "The mean reading/writing score of those on standard lunch is: 71.24\n",
      "The mean reading/writing score of those on free/reduced lunch is: 63.84\n"
     ]
    }
   ],
   "source": [
    "print('The mean math score of those on standard lunch is:', round(np.mean(not_free['math score']), 2))\n",
    "print('The mean math score of those on free/reduced lunch is:', round(np.mean(free_reduced['math score']), 2))\n",
    "print('The mean reading/writing score of those on standard lunch is:', round(np.mean(not_free['r/w score']), 2))\n",
    "print('The mean reading/writing score of those on free/reduced lunch is:', round(np.mean(free_reduced['r/w score']), 2))"
   ]
  },
  {
   "cell_type": "markdown",
   "metadata": {},
   "source": [
    "There's an over 11 point difference in the mean of the math scores, and around a 7.5 difference in the mean of the reading/writing scores between standard and free/reduced lunch students. The next step is to take a closer look at the overall range and distribution of the scores within these 2 categories."
   ]
  },
  {
   "cell_type": "code",
   "execution_count": 10,
   "metadata": {},
   "outputs": [
    {
     "data": {
      "image/png": "[encoded data removed]",
      "text/plain": [
       "<Figure size 432x288 with 1 Axes>"
      ]
     },
     "metadata": {
      "needs_background": "light"
     },
     "output_type": "display_data"
    }
   ],
   "source": [
    "_ = plt.boxplot([not_free['math score'], free_reduced['math score']])\n",
    "_ = plt.xlabel('Free/Reduced Lunch?')\n",
    "_ = plt.ylabel('Math Test Score')\n",
    "_ = plt.xticks([1, 2], ['Standard', 'Free/Reduced']) \n",
    "plt.show()\n"
   ]
  },
  {
   "cell_type": "code",
   "execution_count": 11,
   "metadata": {},
   "outputs": [
    {
     "data": {
      "image/png": "[encoded data removed]",
      "text/plain": [
       "<Figure size 432x288 with 1 Axes>"
      ]
     },
     "metadata": {
      "needs_background": "light"
     },
     "output_type": "display_data"
    }
   ],
   "source": [
    "_ = plt.boxplot([not_free['r/w score'], free_reduced['r/w score']])\n",
    "_ = plt.xlabel('Free/Reduced Lunch?')\n",
    "_ = plt.ylabel('Reading/Writing Test Score')\n",
    "_ = plt.xticks([1, 2], ['Standard', 'Free/Reduced'])\n",
    "plt.show()"
   ]
  },
  {
   "cell_type": "markdown",
   "metadata": {},
   "source": [
    "There's a clear difference between the performance of those who qualify for free/reduced lunch and those who don't, which is unsurprising.  While free/reduced lunch seems to be a variable that drives test scores, qualifying for free/reduced lunch is often a variable driven by another variable, parental education level.  Next, I want to see just how closely correlated parental education level is to whether one qualifies for free/reduced lunch.\n",
    "I want to do this by looking at each of the subsets for parental education level to determine how many within that subset also qualify for free/reduced lunch. "
   ]
  },
  {
   "cell_type": "code",
   "execution_count": 12,
   "metadata": {},
   "outputs": [
    {
     "data": {
      "image/png": "[encoded data removed]",
      "text/plain": [
       "<Figure size 432x288 with 1 Axes>"
      ]
     },
     "metadata": {
      "needs_background": "light"
     },
     "output_type": "display_data"
    }
   ],
   "source": [
    "#Subsetting the 'parental level of education'\n",
    "master = student_perf[student_perf['parental level of education']==\"master's degree\"]\n",
    "bachelor = student_perf[student_perf['parental level of education']==\"bachelor's degree\"]\n",
    "assoc = student_perf[student_perf['parental level of education']==\"associate's degree\"]\n",
    "some_coll = student_perf[student_perf['parental level of education']=='some college']\n",
    "high_only = student_perf[student_perf['parental level of education']=='high school']\n",
    "some_high = student_perf[student_perf['parental level of education']=='some high school']\n",
    "\n",
    "plt.hist(student_perf['parental level of education'], bins=6)\n",
    "plt.xticks(rotation=90)\n",
    "plt.show()\n",
    "\n",
    "#I want to order these by ascending level of education, but have not figured out how to do that yet."
   ]
  },
  {
   "cell_type": "markdown",
   "metadata": {},
   "source": [
    "The Distribution of the parental level of education column shows over 80% of our student's fall in to the 4 categories within associate's degree and below. \n",
    "What I am most interested in is how much the free/reduced lunch category is determined by parental education level, to see if free/reduced lunch is simply a product of education level in this dataset."
   ]
  },
  {
   "cell_type": "code",
   "execution_count": 13,
   "metadata": {},
   "outputs": [
    {
     "name": "stdout",
     "output_type": "stream",
     "text": [
      "0.5932203389830508\n",
      "0.659217877094972\n"
     ]
    }
   ],
   "source": [
    "print((np.sum(master.lunch=='standard'))/(np.sum(len(master))))\n",
    "print((np.sum(some_high.lunch=='standard'))/(np.sum(len(some_high))))"
   ]
  },
  {
   "cell_type": "markdown",
   "metadata": {},
   "source": [
    "Just by looking at the highest and lowest education levels, there appears to be no relationship between parental level of education and the family income level(which is used to determine free/reduced lunch) in this dataset.\n",
    "That is counter to what the vast majority of previous research in the field shows, but for the sake of the project, I will stick to the information in this dataset and assume there is no correlation here.  Knowing that these are completely independent variables in the dataset, I'll go on to look at the test scores by education level."
   ]
  },
  {
   "cell_type": "code",
   "execution_count": 14,
   "metadata": {},
   "outputs": [
    {
     "data": {
      "image/png": "[encoded data removed]",
      "text/plain": [
       "<Figure size 432x288 with 1 Axes>"
      ]
     },
     "metadata": {
      "needs_background": "light"
     },
     "output_type": "display_data"
    }
   ],
   "source": [
    "ed_list = ['some high school', 'high school', 'some college', \"associate's degree\", \"bachelor's degree\", \"master's degree\"]\n",
    "sns.stripplot(x='parental level of education', y='math score', data=student_perf, marker='.', order=ed_list)\n",
    "plt.xticks(rotation=90)\n",
    "plt.show()"
   ]
  },
  {
   "cell_type": "code",
   "execution_count": 15,
   "metadata": {},
   "outputs": [
    {
     "data": {
      "image/png": "[encoded data removed]",
      "text/plain": [
       "<Figure size 432x288 with 1 Axes>"
      ]
     },
     "metadata": {
      "needs_background": "light"
     },
     "output_type": "display_data"
    }
   ],
   "source": [
    "sns.stripplot(x='parental level of education', y='r/w score', data=student_perf, marker='.', order=ed_list)\n",
    "plt.xticks(rotation=90)\n",
    "plt.show()"
   ]
  },
  {
   "cell_type": "markdown",
   "metadata": {},
   "source": [
    "There does appear to be a slight, but clear movement towards higher scores among the higher education levels, especially in the reading/writing scores.  It seems that high scores in both areas can come from any category of parental education level, but with lower levels of parental level of education, there's a wider range of scores and a number of scores well below the minimums of other groups in the higher education levels. "
   ]
  },
  {
   "cell_type": "code",
   "execution_count": 16,
   "metadata": {},
   "outputs": [
    {
     "name": "stdout",
     "output_type": "stream",
     "text": [
      "65.91\n",
      "63.58\n",
      "69.15\n",
      "70.41\n",
      "73.19\n",
      "75.53\n"
     ]
    }
   ],
   "source": [
    "print(round(np.mean(some_high['r/w score']), 2))\n",
    "print(round(np.mean(high_only['r/w score']), 2))\n",
    "print(round(np.mean(some_coll['r/w score']), 2))\n",
    "print(round(np.mean(assoc['r/w score']), 2))\n",
    "print(round(np.mean(bachelor['r/w score']), 2))\n",
    "print(round(np.mean(master['r/w score']), 2))"
   ]
  },
  {
   "cell_type": "code",
   "execution_count": 17,
   "metadata": {},
   "outputs": [
    {
     "name": "stdout",
     "output_type": "stream",
     "text": [
      "63.5\n",
      "62.14\n",
      "67.13\n",
      "67.88\n",
      "69.39\n",
      "69.75\n"
     ]
    }
   ],
   "source": [
    "print(round(np.mean(some_high['math score']), 2))\n",
    "print(round(np.mean(high_only['math score']), 2))\n",
    "print(round(np.mean(some_coll['math score']), 2))\n",
    "print(round(np.mean(assoc['math score']), 2))\n",
    "print(round(np.mean(bachelor['math score']), 2))\n",
    "print(round(np.mean(master['math score']), 2))"
   ]
  },
  {
   "cell_type": "markdown",
   "metadata": {},
   "source": [
    "Outside of the lowest 2 levels, there does appear to be a gradual increase in the mean as the parental education level, \n",
    "but there are larger increase in both sets from the 2nd to the 3rd levels, and from the 4th to the 5th levels. It may be \n",
    "worth in combining some of our levels, creating 3 total categories; high school and below, some college/associates, and \n",
    "bachelor's/master's for further analysis.  However, either way, we can see a positive correlation here between higher parental levels of education and higher scores.  This time, Reading and writing scores show the larger disparities.\n",
    "\n",
    "The next category to look at is whether a student took completed the test preparation course."
   ]
  },
  {
   "cell_type": "code",
   "execution_count": 18,
   "metadata": {},
   "outputs": [
    {
     "name": "stdout",
     "output_type": "stream",
     "text": [
      "There are 358 students that took the test prep. 642 did not.\n",
      "The mean math score for students who took the prep course: 69.69553072625699\n",
      "The mean math score for students who did NOT take the prep course: 64.0778816199377\n",
      "The mean reading/writing score for students who took the prep course: 74.15642458100558\n",
      "The mean reading/writing score for students who did NOT take the prep course: 65.51947040498442\n"
     ]
    }
   ],
   "source": [
    "prepped = student_perf[student_perf['test preparation course']=='completed']\n",
    "no_prep = student_perf[student_perf['test preparation course']!='completed']\n",
    "\n",
    "print('There are', len(prepped), 'students that took the test prep.', len(no_prep), 'did not.')\n",
    "print('The mean math score for students who took the prep course:', np.mean(prepped['math score']))\n",
    "print('The mean math score for students who did NOT take the prep course:', np.mean(no_prep['math score']))\n",
    "\n",
    "print('The mean reading/writing score for students who took the prep course:', np.mean(prepped['r/w score']))\n",
    "print('The mean reading/writing score for students who did NOT take the prep course:', np.mean(no_prep['r/w score']))"
   ]
  },
  {
   "cell_type": "code",
   "execution_count": 19,
   "metadata": {},
   "outputs": [
    {
     "data": {
      "image/png": "[encoded data removed]",
      "text/plain": [
       "<Figure size 432x288 with 1 Axes>"
      ]
     },
     "metadata": {
      "needs_background": "light"
     },
     "output_type": "display_data"
    }
   ],
   "source": [
    "_ = plt.boxplot([prepped['math score'], no_prep['math score']])\n",
    "_ = plt.xlabel('Completed Test Preparation?')\n",
    "_ = plt.ylabel('Math Test Score')\n",
    "_ = plt.xticks([1, 2], ['completed', 'none'])\n",
    "plt.show()"
   ]
  },
  {
   "cell_type": "code",
   "execution_count": 20,
   "metadata": {},
   "outputs": [
    {
     "data": {
      "image/png": "[encoded data removed]",
      "text/plain": [
       "<Figure size 432x288 with 1 Axes>"
      ]
     },
     "metadata": {
      "needs_background": "light"
     },
     "output_type": "display_data"
    }
   ],
   "source": [
    "_ = plt.boxplot([prepped['r/w score'], no_prep['r/w score']])\n",
    "_ = plt.xlabel('Completed Test Preparation?')\n",
    "_ = plt.ylabel('Reading/Writing Test Score')\n",
    "_ = plt.xticks([1, 2], ['completed', 'none'])\n",
    "plt.show()"
   ]
  },
  {
   "cell_type": "markdown",
   "metadata": {},
   "source": [
    "It's clear that test prep helped, although it wasnt a guarantee of test success. Those who took test_prep scored 5.5 points on average higher on the math test, and 8.5 points on average higher for the reading and writing tests.\n",
    "Like with the free and reduced lunch category, however, whether a student took the test prep course may be a product of another category. "
   ]
  },
  {
   "cell_type": "code",
   "execution_count": 21,
   "metadata": {},
   "outputs": [
    {
     "name": "stdout",
     "output_type": "stream",
     "text": [
      "0.6340782122905028\n",
      "0.645\n"
     ]
    }
   ],
   "source": [
    "print((np.sum(prepped['lunch']=='standard'))/len(prepped))\n",
    "print((np.sum(student_perf['lunch']=='standard'))/len(student_perf))"
   ]
  },
  {
   "cell_type": "code",
   "execution_count": 22,
   "metadata": {},
   "outputs": [
    {
     "name": "stdout",
     "output_type": "stream",
     "text": [
      "0.36901408450704226\n",
      "0.351937984496124\n"
     ]
    }
   ],
   "source": [
    "print((np.sum(free_reduced['test preparation course']=='completed'))/len(free_reduced))\n",
    "print((np.sum(not_free['test preparation course']=='completed'))/len(not_free))"
   ]
  },
  {
   "cell_type": "markdown",
   "metadata": {},
   "source": [
    "The Percentages both ways appear to be extremely similar.  It doesnt appear students were more likely to take the test prep based on whether or not they receive free or reduced lunch, which is determined by family income."
   ]
  },
  {
   "cell_type": "code",
   "execution_count": 23,
   "metadata": {},
   "outputs": [
    {
     "data": {
      "image/png": "[encoded data removed]",
      "text/plain": [
       "<Figure size 432x288 with 1 Axes>"
      ]
     },
     "metadata": {
      "needs_background": "light"
     },
     "output_type": "display_data"
    }
   ],
   "source": [
    "sns.countplot(x=student_perf['parental level of education'], hue=student_perf['test preparation course'], order=ed_list)\n",
    "plt.xticks(rotation=90)\n",
    "plt.show()"
   ]
  },
  {
   "cell_type": "markdown",
   "metadata": {},
   "source": [
    "There is some slight variation, but among all parental education levels, more students did NOT complete the test prep course than did.  Of all the education levels, those on the lowest level (some high school) were actually more likely in our sample to take the prep course than any other group.  This may explain why the average test scores were actually higher among students with parents that had some high school than for students with parents that finished high school, but went no further."
   ]
  },
  {
   "cell_type": "code",
   "execution_count": 24,
   "metadata": {
    "scrolled": true
   },
   "outputs": [
    {
     "data": {
      "image/png": "[encoded data removed]",
      "text/plain": [
       "<Figure size 432x288 with 1 Axes>"
      ]
     },
     "metadata": {
      "needs_background": "light"
     },
     "output_type": "display_data"
    }
   ],
   "source": [
    "group_A = student_perf[student_perf['race/ethnicity']=='group A']\n",
    "group_B = student_perf[student_perf['race/ethnicity']=='group B']\n",
    "group_C = student_perf[student_perf['race/ethnicity']=='group C']\n",
    "group_D = student_perf[student_perf['race/ethnicity']=='group D']\n",
    "group_E = student_perf[student_perf['race/ethnicity']=='group E']\n",
    "\n",
    "_ = plt.boxplot([group_A['math score'], group_B['math score'], group_C['math score'], group_D['math score'], \n",
    "                 group_E['math score']])\n",
    "_ = plt.xticks([1, 2, 3, 4, 5], ['Group A', 'Group B', 'Group C', 'Group D', 'Group E'])\n",
    "plt.show()"
   ]
  },
  {
   "cell_type": "code",
   "execution_count": 25,
   "metadata": {},
   "outputs": [
    {
     "data": {
      "image/png": "[encoded data removed]",
      "text/plain": [
       "<Figure size 432x288 with 1 Axes>"
      ]
     },
     "metadata": {
      "needs_background": "light"
     },
     "output_type": "display_data"
    }
   ],
   "source": [
    "_ = plt.boxplot([group_A['r/w score'], group_B['r/w score'], group_C['r/w score'], group_D['r/w score'], group_E['r/w score']])\n",
    "_ = plt.xticks([1, 2, 3, 4, 5], ['Group A', 'Group B', 'Group C', 'Group D', 'Group E'])\n",
    "plt.show()"
   ]
  },
  {
   "cell_type": "raw",
   "metadata": {},
   "source": [
    "Group E has the highest overall mean test scores, then Group D, then Group C, then Group B, and then Group A.  However, the very lowest individual scores come from groups B and C, who both have outliers on the low end.  In math, the minimum couple of scores in Group D are actually lower than the minimum score in Group A, which is the only group to not have any outliers on the low end in either of the test types."
   ]
  },
  {
   "cell_type": "code",
   "execution_count": 26,
   "metadata": {},
   "outputs": [
    {
     "data": {
      "image/png": "[encoded data removed]",
      "text/plain": [
       "<Figure size 432x288 with 1 Axes>"
      ]
     },
     "metadata": {
      "needs_background": "light"
     },
     "output_type": "display_data"
    }
   ],
   "source": [
    "sns.countplot(x=student_perf['race/ethnicity'], hue=student_perf['lunch'], order=['Group A', 'Group B', 'Group C', 'Group D', 'Group E'])\n",
    "plt.show()\n",
    "\n",
    "# Not sure why this isn't showing?"
   ]
  },
  {
   "cell_type": "markdown",
   "metadata": {},
   "source": [
    "# Conclusion - EDA\n",
    "\n",
    "It seems that all 4 of our features each have an effect on scores for both math and reading/writing. The strongest correlation in scores of our first 3 categories appears to be whether a student qualifies for free and reduced lunch. According to the data, those students who do qualify, and thus are on or below the poverty line, are likely to score almost a whole letter grade lower in math, and more than one full letter grade lower in reading/writing.\n",
    "At the same time, there was also a similar significance in the level of parental education, with students of parents with higher education levels scoring higher than their counterparts.  This however, did not seem as strong as the free and reduced lunch qualifier. I also found that the test preparation course bumped up scores for all categories, particularly when it came to the reading and writing tests.  \n",
    "Lastly, there was also a gradual increase in mean performance moving through the racial categories, starting on A and ending on E, with Group E outperforming Group A by a full letter grade and a half. This proved the largest disparity between groups in any of the 4 categories analyzed."
   ]
  },
  {
   "cell_type": "markdown",
   "metadata": {},
   "source": [
    "# Pre-processing and Training Data Development\n",
    "\n",
    "Next steps include getting dummy variables of our categorical data, Scaling the data, and creating our training and testing splits for modelling."
   ]
  },
  {
   "cell_type": "code",
   "execution_count": 27,
   "metadata": {},
   "outputs": [],
   "source": [
    "from sklearn.preprocessing import StandardScaler\n",
    "from sklearn.model_selection import train_test_split"
   ]
  },
  {
   "cell_type": "code",
   "execution_count": 28,
   "metadata": {},
   "outputs": [
    {
     "data": {
      "text/html": [
       "<div>\n",
       "<style scoped>\n",
       "    .dataframe tbody tr th:only-of-type {\n",
       "        vertical-align: middle;\n",
       "    }\n",
       "\n",
       "    .dataframe tbody tr th {\n",
       "        vertical-align: top;\n",
       "    }\n",
       "\n",
       "    .dataframe thead th {\n",
       "        text-align: right;\n",
       "    }\n",
       "</style>\n",
       "<table border=\"1\" class=\"dataframe\">\n",
       "  <thead>\n",
       "    <tr style=\"text-align: right;\">\n",
       "      <th></th>\n",
       "      <th>standard</th>\n",
       "    </tr>\n",
       "  </thead>\n",
       "  <tbody>\n",
       "    <tr>\n",
       "      <th>0</th>\n",
       "      <td>1</td>\n",
       "    </tr>\n",
       "    <tr>\n",
       "      <th>1</th>\n",
       "      <td>1</td>\n",
       "    </tr>\n",
       "    <tr>\n",
       "      <th>2</th>\n",
       "      <td>1</td>\n",
       "    </tr>\n",
       "    <tr>\n",
       "      <th>3</th>\n",
       "      <td>0</td>\n",
       "    </tr>\n",
       "    <tr>\n",
       "      <th>4</th>\n",
       "      <td>1</td>\n",
       "    </tr>\n",
       "  </tbody>\n",
       "</table>\n",
       "</div>"
      ],
      "text/plain": [
       "   standard\n",
       "0         1\n",
       "1         1\n",
       "2         1\n",
       "3         0\n",
       "4         1"
      ]
     },
     "execution_count": 28,
     "metadata": {},
     "output_type": "execute_result"
    }
   ],
   "source": [
    "dum_lunch = pd.get_dummies(student_perf['lunch'], drop_first=True)\n",
    "dum_lunch.head()"
   ]
  },
  {
   "cell_type": "code",
   "execution_count": 29,
   "metadata": {},
   "outputs": [
    {
     "data": {
      "text/html": [
       "<div>\n",
       "<style scoped>\n",
       "    .dataframe tbody tr th:only-of-type {\n",
       "        vertical-align: middle;\n",
       "    }\n",
       "\n",
       "    .dataframe tbody tr th {\n",
       "        vertical-align: top;\n",
       "    }\n",
       "\n",
       "    .dataframe thead th {\n",
       "        text-align: right;\n",
       "    }\n",
       "</style>\n",
       "<table border=\"1\" class=\"dataframe\">\n",
       "  <thead>\n",
       "    <tr style=\"text-align: right;\">\n",
       "      <th></th>\n",
       "      <th>none</th>\n",
       "    </tr>\n",
       "  </thead>\n",
       "  <tbody>\n",
       "    <tr>\n",
       "      <th>0</th>\n",
       "      <td>1</td>\n",
       "    </tr>\n",
       "    <tr>\n",
       "      <th>1</th>\n",
       "      <td>0</td>\n",
       "    </tr>\n",
       "    <tr>\n",
       "      <th>2</th>\n",
       "      <td>1</td>\n",
       "    </tr>\n",
       "    <tr>\n",
       "      <th>3</th>\n",
       "      <td>1</td>\n",
       "    </tr>\n",
       "    <tr>\n",
       "      <th>4</th>\n",
       "      <td>1</td>\n",
       "    </tr>\n",
       "  </tbody>\n",
       "</table>\n",
       "</div>"
      ],
      "text/plain": [
       "   none\n",
       "0     1\n",
       "1     0\n",
       "2     1\n",
       "3     1\n",
       "4     1"
      ]
     },
     "execution_count": 29,
     "metadata": {},
     "output_type": "execute_result"
    }
   ],
   "source": [
    "dum_prep = pd.get_dummies(student_perf['test preparation course'], drop_first=True)\n",
    "dum_prep.head()"
   ]
  },
  {
   "cell_type": "code",
   "execution_count": 30,
   "metadata": {},
   "outputs": [
    {
     "data": {
      "text/plain": [
       "0      4\n",
       "1      2\n",
       "2      5\n",
       "3      3\n",
       "4      2\n",
       "      ..\n",
       "995    5\n",
       "996    1\n",
       "997    1\n",
       "998    2\n",
       "999    2\n",
       "Name: parental level of education, Length: 1000, dtype: int64"
      ]
     },
     "execution_count": 30,
     "metadata": {},
     "output_type": "execute_result"
    }
   ],
   "source": [
    "parent_ed_map = {\"master's degree\": 5, \"bachelor's degree\": 4, \"associate's degree\": 3, \"some college\": 2, \"high school\": 1, \"some high school\": 0}\n",
    "parent_educ_ord = student_perf['parental level of education'].map(parent_ed_map)\n",
    "parent_educ_ord"
   ]
  },
  {
   "cell_type": "code",
   "execution_count": 31,
   "metadata": {},
   "outputs": [
    {
     "data": {
      "text/html": [
       "<div>\n",
       "<style scoped>\n",
       "    .dataframe tbody tr th:only-of-type {\n",
       "        vertical-align: middle;\n",
       "    }\n",
       "\n",
       "    .dataframe tbody tr th {\n",
       "        vertical-align: top;\n",
       "    }\n",
       "\n",
       "    .dataframe thead th {\n",
       "        text-align: right;\n",
       "    }\n",
       "</style>\n",
       "<table border=\"1\" class=\"dataframe\">\n",
       "  <thead>\n",
       "    <tr style=\"text-align: right;\">\n",
       "      <th></th>\n",
       "      <th>group B</th>\n",
       "      <th>group C</th>\n",
       "      <th>group D</th>\n",
       "      <th>group E</th>\n",
       "    </tr>\n",
       "  </thead>\n",
       "  <tbody>\n",
       "    <tr>\n",
       "      <th>0</th>\n",
       "      <td>1</td>\n",
       "      <td>0</td>\n",
       "      <td>0</td>\n",
       "      <td>0</td>\n",
       "    </tr>\n",
       "    <tr>\n",
       "      <th>1</th>\n",
       "      <td>0</td>\n",
       "      <td>1</td>\n",
       "      <td>0</td>\n",
       "      <td>0</td>\n",
       "    </tr>\n",
       "    <tr>\n",
       "      <th>2</th>\n",
       "      <td>1</td>\n",
       "      <td>0</td>\n",
       "      <td>0</td>\n",
       "      <td>0</td>\n",
       "    </tr>\n",
       "    <tr>\n",
       "      <th>3</th>\n",
       "      <td>0</td>\n",
       "      <td>0</td>\n",
       "      <td>0</td>\n",
       "      <td>0</td>\n",
       "    </tr>\n",
       "    <tr>\n",
       "      <th>4</th>\n",
       "      <td>0</td>\n",
       "      <td>1</td>\n",
       "      <td>0</td>\n",
       "      <td>0</td>\n",
       "    </tr>\n",
       "  </tbody>\n",
       "</table>\n",
       "</div>"
      ],
      "text/plain": [
       "   group B  group C  group D  group E\n",
       "0        1        0        0        0\n",
       "1        0        1        0        0\n",
       "2        1        0        0        0\n",
       "3        0        0        0        0\n",
       "4        0        1        0        0"
      ]
     },
     "execution_count": 31,
     "metadata": {},
     "output_type": "execute_result"
    }
   ],
   "source": [
    "dum_ethnic = pd.get_dummies(student_perf['race/ethnicity'], drop_first=True)\n",
    "dum_ethnic.head()"
   ]
  },
  {
   "cell_type": "code",
   "execution_count": 32,
   "metadata": {},
   "outputs": [
    {
     "data": {
      "text/html": [
       "<div>\n",
       "<style scoped>\n",
       "    .dataframe tbody tr th:only-of-type {\n",
       "        vertical-align: middle;\n",
       "    }\n",
       "\n",
       "    .dataframe tbody tr th {\n",
       "        vertical-align: top;\n",
       "    }\n",
       "\n",
       "    .dataframe thead th {\n",
       "        text-align: right;\n",
       "    }\n",
       "</style>\n",
       "<table border=\"1\" class=\"dataframe\">\n",
       "  <thead>\n",
       "    <tr style=\"text-align: right;\">\n",
       "      <th></th>\n",
       "      <th>standard</th>\n",
       "      <th>no prep</th>\n",
       "      <th>parental level of education</th>\n",
       "      <th>group B</th>\n",
       "      <th>group C</th>\n",
       "      <th>group D</th>\n",
       "      <th>group E</th>\n",
       "    </tr>\n",
       "  </thead>\n",
       "  <tbody>\n",
       "    <tr>\n",
       "      <th>0</th>\n",
       "      <td>1</td>\n",
       "      <td>1</td>\n",
       "      <td>4</td>\n",
       "      <td>1</td>\n",
       "      <td>0</td>\n",
       "      <td>0</td>\n",
       "      <td>0</td>\n",
       "    </tr>\n",
       "    <tr>\n",
       "      <th>1</th>\n",
       "      <td>1</td>\n",
       "      <td>0</td>\n",
       "      <td>2</td>\n",
       "      <td>0</td>\n",
       "      <td>1</td>\n",
       "      <td>0</td>\n",
       "      <td>0</td>\n",
       "    </tr>\n",
       "    <tr>\n",
       "      <th>2</th>\n",
       "      <td>1</td>\n",
       "      <td>1</td>\n",
       "      <td>5</td>\n",
       "      <td>1</td>\n",
       "      <td>0</td>\n",
       "      <td>0</td>\n",
       "      <td>0</td>\n",
       "    </tr>\n",
       "    <tr>\n",
       "      <th>3</th>\n",
       "      <td>0</td>\n",
       "      <td>1</td>\n",
       "      <td>3</td>\n",
       "      <td>0</td>\n",
       "      <td>0</td>\n",
       "      <td>0</td>\n",
       "      <td>0</td>\n",
       "    </tr>\n",
       "    <tr>\n",
       "      <th>4</th>\n",
       "      <td>1</td>\n",
       "      <td>1</td>\n",
       "      <td>2</td>\n",
       "      <td>0</td>\n",
       "      <td>1</td>\n",
       "      <td>0</td>\n",
       "      <td>0</td>\n",
       "    </tr>\n",
       "  </tbody>\n",
       "</table>\n",
       "</div>"
      ],
      "text/plain": [
       "   standard  no prep  parental level of education  group B  group C  group D  \\\n",
       "0         1        1                            4        1        0        0   \n",
       "1         1        0                            2        0        1        0   \n",
       "2         1        1                            5        1        0        0   \n",
       "3         0        1                            3        0        0        0   \n",
       "4         1        1                            2        0        1        0   \n",
       "\n",
       "   group E  \n",
       "0        0  \n",
       "1        0  \n",
       "2        0  \n",
       "3        0  \n",
       "4        0  "
      ]
     },
     "execution_count": 32,
     "metadata": {},
     "output_type": "execute_result"
    }
   ],
   "source": [
    "dummies = pd.concat([dum_lunch, dum_prep, parent_educ_ord, dum_ethnic], axis = 1)\n",
    "dummies = dummies.rename({'none':'no prep'}, axis = 1)\n",
    "dummies.head()"
   ]
  },
  {
   "cell_type": "code",
   "execution_count": 33,
   "metadata": {},
   "outputs": [],
   "source": [
    "#All of this will have to be repeated with the reading/writing score, but starting with math scores...\n",
    "\n",
    "X = dummies\n",
    "y = student_perf['math score']"
   ]
  },
  {
   "cell_type": "code",
   "execution_count": 34,
   "metadata": {},
   "outputs": [],
   "source": [
    "X_train, X_test, y_train, y_test = train_test_split(X, y, test_size = 0.2, random_state=42)"
   ]
  },
  {
   "cell_type": "markdown",
   "metadata": {},
   "source": [
    "# Modeling\n",
    "It's time to try some models to see how well we can predict student scores based on these main identifiers. Our dependent variable is the test score, which is continuous, so I'll be using regression models.\n"
   ]
  },
  {
   "cell_type": "code",
   "execution_count": 35,
   "metadata": {},
   "outputs": [],
   "source": [
    "from sklearn.linear_model import LinearRegression, LogisticRegression, Ridge, Lasso, ElasticNet\n",
    "from sklearn.metrics import mean_squared_error, r2_score, mean_absolute_error\n",
    "from sklearn.ensemble import RandomForestRegressor\n",
    "from sklearn.dummy import DummyRegressor\n"
   ]
  },
  {
   "cell_type": "markdown",
   "metadata": {},
   "source": [
    "First, I want to see how just randomly picking the mean works as a predictor. I know my models don't work well if they're not doing any better than the Dummy Regressor model."
   ]
  },
  {
   "cell_type": "code",
   "execution_count": 36,
   "metadata": {},
   "outputs": [
    {
     "name": "stdout",
     "output_type": "stream",
     "text": [
      "The R2 score is: -0.01703929204145327\n",
      "The mean absolute error is: 12.339850000000002\n",
      "The mean squared error is: 247.4847140625\n"
     ]
    }
   ],
   "source": [
    "dumb_reg = DummyRegressor(strategy='mean')\n",
    "dumb_reg.fit(X_train, y_train)\n",
    "y_d_pred_temp = dumb_reg.predict(X_train)\n",
    "y_d_pred = y_d_pred_temp[0:200]\n",
    "print('The R2 score is:', r2_score(y_test, y_d_pred))\n",
    "print('The mean absolute error is:', mean_absolute_error(y_test, y_d_pred))\n",
    "print('The mean squared error is:', mean_squared_error(y_test, y_d_pred))"
   ]
  },
  {
   "cell_type": "markdown",
   "metadata": {},
   "source": [
    "Trying Linear Regression first."
   ]
  },
  {
   "cell_type": "code",
   "execution_count": 37,
   "metadata": {},
   "outputs": [
    {
     "name": "stdout",
     "output_type": "stream",
     "text": [
      "The R2 score is: 0.14588626468794297\n",
      "The mean absolute error is: 11.53126182993281\n",
      "The mean squared error is: 207.83866976885946\n"
     ]
    }
   ],
   "source": [
    "regr = LinearRegression()\n",
    "regr.fit(X_train, y_train)\n",
    "y_pred = regr.predict(X_test)\n",
    "print('The R2 score is:', r2_score(y_test, y_pred))\n",
    "print('The mean absolute error is:', mean_absolute_error(y_test, y_pred))\n",
    "print('The mean squared error is:', mean_squared_error(y_test, y_pred))"
   ]
  },
  {
   "cell_type": "markdown",
   "metadata": {},
   "source": [
    "Random Forest Regression"
   ]
  },
  {
   "cell_type": "code",
   "execution_count": 38,
   "metadata": {},
   "outputs": [
    {
     "name": "stdout",
     "output_type": "stream",
     "text": [
      "The R2 score is: -0.04216904671319055\n",
      "The mean absolute error is: 12.355020202901388\n",
      "The mean squared error is: 253.59974835671306\n"
     ]
    }
   ],
   "source": [
    "model = RandomForestRegressor()\n",
    "model.fit(X_train, y_train)\n",
    "y_pred = model.predict(X_test)\n",
    "print('The R2 score is:', r2_score(y_test, y_pred))\n",
    "print('The mean absolute error is:', mean_absolute_error(y_test, y_pred))\n",
    "print('The mean squared error is:', mean_squared_error(y_test, y_pred))"
   ]
  },
  {
   "cell_type": "markdown",
   "metadata": {},
   "source": [
    "Logistic Regression"
   ]
  },
  {
   "cell_type": "code",
   "execution_count": 39,
   "metadata": {},
   "outputs": [
    {
     "name": "stdout",
     "output_type": "stream",
     "text": [
      "The R2 score is: -0.11661373626192995\n",
      "The mean absolute error is: 13.155\n",
      "The mean squared error is: 271.715\n"
     ]
    }
   ],
   "source": [
    "model = LogisticRegression(max_iter=1000)\n",
    "model.fit(X_train, y_train)\n",
    "y_pred = model.predict(X_test)\n",
    "print('The R2 score is:', r2_score(y_test, y_pred))\n",
    "print('The mean absolute error is:', mean_absolute_error(y_test, y_pred))\n",
    "print('The mean squared error is:', mean_squared_error(y_test, y_pred))"
   ]
  },
  {
   "cell_type": "markdown",
   "metadata": {},
   "source": [
    "Ridge"
   ]
  },
  {
   "cell_type": "code",
   "execution_count": 40,
   "metadata": {},
   "outputs": [
    {
     "name": "stdout",
     "output_type": "stream",
     "text": [
      "The R2 score is: 0.14564177486294894\n",
      "The mean absolute error is: 11.53215403703216\n",
      "The mean squared error is: 207.8981635316898\n"
     ]
    }
   ],
   "source": [
    "model = Ridge()\n",
    "model.fit(X_train, y_train)\n",
    "y_pred = model.predict(X_test)\n",
    "print('The R2 score is:', r2_score(y_test, y_pred))\n",
    "print('The mean absolute error is:', mean_absolute_error(y_test, y_pred))\n",
    "print('The mean squared error is:', mean_squared_error(y_test, y_pred))"
   ]
  },
  {
   "cell_type": "markdown",
   "metadata": {},
   "source": [
    "Lasso"
   ]
  },
  {
   "cell_type": "code",
   "execution_count": 41,
   "metadata": {},
   "outputs": [
    {
     "name": "stdout",
     "output_type": "stream",
     "text": [
      "The R2 score is: 0.11691387514397289\n",
      "The mean absolute error is: 11.543313499129226\n",
      "The mean squared error is: 214.8887646846659\n"
     ]
    }
   ],
   "source": [
    "model = Lasso()\n",
    "model.fit(X_train, y_train)\n",
    "y_pred = model.predict(X_test)\n",
    "print('The R2 score is:', r2_score(y_test, y_pred))\n",
    "print('The mean absolute error is:', mean_absolute_error(y_test, y_pred))\n",
    "print('The mean squared error is:', mean_squared_error(y_test, y_pred))"
   ]
  },
  {
   "cell_type": "markdown",
   "metadata": {},
   "source": [
    "ElasticNet"
   ]
  },
  {
   "cell_type": "code",
   "execution_count": 42,
   "metadata": {},
   "outputs": [
    {
     "name": "stdout",
     "output_type": "stream",
     "text": [
      "The R2 score is: 0.07827834785367394\n",
      "The mean absolute error is: 11.800577070013851\n",
      "The mean squared error is: 224.29027207864354\n"
     ]
    }
   ],
   "source": [
    "model = ElasticNet()\n",
    "model.fit(X_train, y_train)\n",
    "y_pred = model.predict(X_test)\n",
    "print('The R2 score is:', r2_score(y_test, y_pred))\n",
    "print('The mean absolute error is:', mean_absolute_error(y_test, y_pred))\n",
    "print('The mean squared error is:', mean_squared_error(y_test, y_pred))"
   ]
  },
  {
   "cell_type": "markdown",
   "metadata": {},
   "source": [
    "Time to repeat, this time with the Reading and Writing Scores."
   ]
  },
  {
   "cell_type": "code",
   "execution_count": 43,
   "metadata": {},
   "outputs": [],
   "source": [
    "X = dummies\n",
    "y = student_perf['r/w score']\n",
    "X_train, X_test, y_train, y_test = train_test_split(X, y, test_size = 0.2, random_state=42)"
   ]
  },
  {
   "cell_type": "markdown",
   "metadata": {},
   "source": [
    "Dummy Regressor"
   ]
  },
  {
   "cell_type": "code",
   "execution_count": 44,
   "metadata": {},
   "outputs": [
    {
     "name": "stdout",
     "output_type": "stream",
     "text": [
      "The R2 score is: -0.017056323720227917\n",
      "The mean absolute error is: 11.9598875\n",
      "The mean squared error is: 231.56213789062497\n"
     ]
    }
   ],
   "source": [
    "dumb_reg = DummyRegressor(strategy='mean')\n",
    "dumb_reg.fit(X_train, y_train)\n",
    "y_d_pred_temp = dumb_reg.predict(X_train)\n",
    "y_d_pred = y_d_pred_temp[0:200]\n",
    "print('The R2 score is:', r2_score(y_test, y_d_pred))\n",
    "print('The mean absolute error is:', mean_absolute_error(y_test, y_d_pred))\n",
    "print('The mean squared error is:', mean_squared_error(y_test, y_d_pred))"
   ]
  },
  {
   "cell_type": "markdown",
   "metadata": {},
   "source": [
    "Linear Regression"
   ]
  },
  {
   "cell_type": "code",
   "execution_count": 45,
   "metadata": {
    "scrolled": true
   },
   "outputs": [
    {
     "name": "stdout",
     "output_type": "stream",
     "text": [
      "The R2 score is: 0.18091461258470176\n",
      "The mean absolute error is: 10.641257930622869\n",
      "The mean squared error is: 186.48835762711553\n"
     ]
    }
   ],
   "source": [
    "regr = LinearRegression()\n",
    "regr.fit(X_train, y_train)\n",
    "y_pred = regr.predict(X_test)\n",
    "print('The R2 score is:', r2_score(y_test, y_pred))\n",
    "print('The mean absolute error is:', mean_absolute_error(y_test, y_pred))\n",
    "print('The mean squared error is:', mean_squared_error(y_test, y_pred))"
   ]
  },
  {
   "cell_type": "markdown",
   "metadata": {},
   "source": [
    "Random Forest Regression"
   ]
  },
  {
   "cell_type": "code",
   "execution_count": 46,
   "metadata": {},
   "outputs": [
    {
     "name": "stdout",
     "output_type": "stream",
     "text": [
      "The R2 score is: 0.021515690710480095\n",
      "The mean absolute error is: 11.60468772740116\n",
      "The mean squared error is: 222.78010889575904\n"
     ]
    }
   ],
   "source": [
    "model = RandomForestRegressor()\n",
    "model.fit(X_train, y_train)\n",
    "y_pred = model.predict(X_test)\n",
    "print('The R2 score is:', r2_score(y_test, y_pred))\n",
    "print('The mean absolute error is:', mean_absolute_error(y_test, y_pred))\n",
    "print('The mean squared error is:', mean_squared_error(y_test, y_pred))"
   ]
  },
  {
   "cell_type": "markdown",
   "metadata": {},
   "source": [
    "Ridge"
   ]
  },
  {
   "cell_type": "code",
   "execution_count": 47,
   "metadata": {},
   "outputs": [
    {
     "name": "stdout",
     "output_type": "stream",
     "text": [
      "The R2 score is: 0.18056281291950338\n",
      "The mean absolute error is: 10.643084072675043\n",
      "The mean squared error is: 186.56845494393332\n"
     ]
    }
   ],
   "source": [
    "model = Ridge()\n",
    "model.fit(X_train, y_train)\n",
    "y_pred = model.predict(X_test)\n",
    "print('The R2 score is:', r2_score(y_test, y_pred))\n",
    "print('The mean absolute error is:', mean_absolute_error(y_test, y_pred))\n",
    "print('The mean squared error is:', mean_squared_error(y_test, y_pred))"
   ]
  },
  {
   "cell_type": "markdown",
   "metadata": {},
   "source": [
    "Lasso"
   ]
  },
  {
   "cell_type": "code",
   "execution_count": 48,
   "metadata": {},
   "outputs": [
    {
     "name": "stdout",
     "output_type": "stream",
     "text": [
      "The R2 score is: 0.13463800422866212\n",
      "The mean absolute error is: 10.990734359950489\n",
      "The mean squared error is: 197.0245591287734\n"
     ]
    }
   ],
   "source": [
    "model = Lasso()\n",
    "model.fit(X_train, y_train)\n",
    "y_pred = model.predict(X_test)\n",
    "print('The R2 score is:', r2_score(y_test, y_pred))\n",
    "print('The mean absolute error is:', mean_absolute_error(y_test, y_pred))\n",
    "print('The mean squared error is:', mean_squared_error(y_test, y_pred))"
   ]
  },
  {
   "cell_type": "markdown",
   "metadata": {},
   "source": [
    "ElasticNet"
   ]
  },
  {
   "cell_type": "code",
   "execution_count": 49,
   "metadata": {},
   "outputs": [
    {
     "name": "stdout",
     "output_type": "stream",
     "text": [
      "The R2 score is: 0.09414578927749684\n",
      "The mean absolute error is: 11.278744011433874\n",
      "The mean squared error is: 206.2437770258914\n"
     ]
    }
   ],
   "source": [
    "model = ElasticNet()\n",
    "model.fit(X_train, y_train)\n",
    "y_pred = model.predict(X_test)\n",
    "print('The R2 score is:', r2_score(y_test, y_pred))\n",
    "print('The mean absolute error is:', mean_absolute_error(y_test, y_pred))\n",
    "print('The mean squared error is:', mean_squared_error(y_test, y_pred))"
   ]
  },
  {
   "cell_type": "markdown",
   "metadata": {},
   "source": [
    "# Initial Conclusions: Modeling\n",
    "\n",
    "Unfortunately, none of the models were overly successful at predicting scores of either kind, with a couple of them actually performing worse than if we had simply picked the mean as a prediction. On both tests, the best predictors were the Linear Regression and Ridge Regression Models. The random Forest Regressor and Logistic Regression models performed the worst. However, the best R2 score we received was just over 0.18 and the lowest mean absolute error was 10.64 from both our Ridge and Linear Regression models, when used on the reading/writing scores.  When used on the math scores, the mean absolute error increased slightly to 11.5. \n",
    "\n",
    "What I'd like to see now is if the model can be more accurate if I adjust the features used.  I'm going to start by eliminating a feature, starting with the ethnic group variable. This will leave me with 3 features for modeling purposes. \n"
   ]
  },
  {
   "cell_type": "code",
   "execution_count": 50,
   "metadata": {},
   "outputs": [],
   "source": [
    "X = dummies.drop(['group B', 'group C', 'group D', 'group E'], axis=1)\n",
    "y = student_perf['math score']\n",
    "X_train, X_test, y_train, y_test = train_test_split(X, y, test_size = 0.2, random_state=42)"
   ]
  },
  {
   "cell_type": "code",
   "execution_count": 51,
   "metadata": {},
   "outputs": [
    {
     "name": "stdout",
     "output_type": "stream",
     "text": [
      "The R2 score is: 0.12734914789365637\n",
      "The mean absolute error is: 11.669409770726347\n",
      "The mean squared error is: 212.34946211019428\n"
     ]
    }
   ],
   "source": [
    "regr = LinearRegression()\n",
    "regr.fit(X_train, y_train)\n",
    "y_pred = regr.predict(X_test)\n",
    "print('The R2 score is:', r2_score(y_test, y_pred))\n",
    "print('The mean absolute error is:', mean_absolute_error(y_test, y_pred))\n",
    "print('The mean squared error is:', mean_squared_error(y_test, y_pred))"
   ]
  },
  {
   "cell_type": "markdown",
   "metadata": {},
   "source": [
    "Random Forest Regression"
   ]
  },
  {
   "cell_type": "code",
   "execution_count": 52,
   "metadata": {},
   "outputs": [
    {
     "name": "stdout",
     "output_type": "stream",
     "text": [
      "The R2 score is: 0.09343625945294731\n",
      "The mean absolute error is: 11.765225331198607\n",
      "The mean squared error is: 220.60177012273493\n"
     ]
    }
   ],
   "source": [
    "model = RandomForestRegressor()\n",
    "model.fit(X_train, y_train)\n",
    "y_pred = model.predict(X_test)\n",
    "print('The R2 score is:', r2_score(y_test, y_pred))\n",
    "print('The mean absolute error is:', mean_absolute_error(y_test, y_pred))\n",
    "print('The mean squared error is:', mean_squared_error(y_test, y_pred))"
   ]
  },
  {
   "cell_type": "markdown",
   "metadata": {},
   "source": [
    "Ridge"
   ]
  },
  {
   "cell_type": "code",
   "execution_count": 53,
   "metadata": {},
   "outputs": [
    {
     "name": "stdout",
     "output_type": "stream",
     "text": [
      "The R2 score is: 0.12776281541675905\n",
      "The mean absolute error is: 11.665850446615245\n",
      "The mean squared error is: 212.24880091699052\n"
     ]
    }
   ],
   "source": [
    "model = Ridge()\n",
    "model.fit(X_train, y_train)\n",
    "y_pred = model.predict(X_test)\n",
    "print('The R2 score is:', r2_score(y_test, y_pred))\n",
    "print('The mean absolute error is:', mean_absolute_error(y_test, y_pred))\n",
    "print('The mean squared error is:', mean_squared_error(y_test, y_pred))"
   ]
  },
  {
   "cell_type": "markdown",
   "metadata": {},
   "source": [
    "Lasso"
   ]
  },
  {
   "cell_type": "code",
   "execution_count": 54,
   "metadata": {},
   "outputs": [
    {
     "name": "stdout",
     "output_type": "stream",
     "text": [
      "The R2 score is: 0.11487004201930506\n",
      "The mean absolute error is: 11.559995449739695\n",
      "The mean squared error is: 215.38610776708953\n"
     ]
    }
   ],
   "source": [
    "model = Lasso()\n",
    "model.fit(X_train, y_train)\n",
    "y_pred = model.predict(X_test)\n",
    "print('The R2 score is:', r2_score(y_test, y_pred))\n",
    "print('The mean absolute error is:', mean_absolute_error(y_test, y_pred))\n",
    "print('The mean squared error is:', mean_squared_error(y_test, y_pred))"
   ]
  },
  {
   "cell_type": "markdown",
   "metadata": {},
   "source": [
    "ElasticNet"
   ]
  },
  {
   "cell_type": "code",
   "execution_count": 55,
   "metadata": {},
   "outputs": [
    {
     "name": "stdout",
     "output_type": "stream",
     "text": [
      "The R2 score is: 0.07311142606707555\n",
      "The mean absolute error is: 11.83258375185232\n",
      "The mean squared error is: 225.54758255911955\n"
     ]
    }
   ],
   "source": [
    "model = ElasticNet()\n",
    "model.fit(X_train, y_train)\n",
    "y_pred = model.predict(X_test)\n",
    "print('The R2 score is:', r2_score(y_test, y_pred))\n",
    "print('The mean absolute error is:', mean_absolute_error(y_test, y_pred))\n",
    "print('The mean squared error is:', mean_squared_error(y_test, y_pred))"
   ]
  },
  {
   "cell_type": "markdown",
   "metadata": {},
   "source": [
    "This made the model perform worse in most cases.  Next, I'll leave out the column with parental education level."
   ]
  },
  {
   "cell_type": "code",
   "execution_count": 56,
   "metadata": {},
   "outputs": [],
   "source": [
    "X = dummies.drop('parental level of education', axis = 1)\n",
    "y = student_perf['math score']\n",
    "X_train, X_test, y_train, y_test = train_test_split(X, y, test_size = 0.2, random_state=42)"
   ]
  },
  {
   "cell_type": "code",
   "execution_count": 57,
   "metadata": {},
   "outputs": [
    {
     "name": "stdout",
     "output_type": "stream",
     "text": [
      "The R2 score is: 0.09636599420493286\n",
      "The mean absolute error is: 11.846385480177611\n",
      "The mean squared error is: 219.88885315576238\n"
     ]
    }
   ],
   "source": [
    "regr = LinearRegression()\n",
    "regr.fit(X_train, y_train)\n",
    "y_pred = regr.predict(X_test)\n",
    "print('The R2 score is:', r2_score(y_test, y_pred))\n",
    "print('The mean absolute error is:', mean_absolute_error(y_test, y_pred))\n",
    "print('The mean squared error is:', mean_squared_error(y_test, y_pred))"
   ]
  },
  {
   "cell_type": "markdown",
   "metadata": {},
   "source": [
    "Random Forest Regression"
   ]
  },
  {
   "cell_type": "code",
   "execution_count": 58,
   "metadata": {},
   "outputs": [
    {
     "name": "stdout",
     "output_type": "stream",
     "text": [
      "The R2 score is: 0.0737480969336386\n",
      "The mean absolute error is: 11.93661028929088\n",
      "The mean squared error is: 225.39265608912348\n"
     ]
    }
   ],
   "source": [
    "model = RandomForestRegressor()\n",
    "model.fit(X_train, y_train)\n",
    "y_pred = model.predict(X_test)\n",
    "print('The R2 score is:', r2_score(y_test, y_pred))\n",
    "print('The mean absolute error is:', mean_absolute_error(y_test, y_pred))\n",
    "print('The mean squared error is:', mean_squared_error(y_test, y_pred))"
   ]
  },
  {
   "cell_type": "markdown",
   "metadata": {},
   "source": [
    "Ridge"
   ]
  },
  {
   "cell_type": "code",
   "execution_count": 59,
   "metadata": {},
   "outputs": [
    {
     "name": "stdout",
     "output_type": "stream",
     "text": [
      "The R2 score is: 0.09596902134354013\n",
      "The mean absolute error is: 11.848089964698351\n",
      "The mean squared error is: 219.9854518966971\n"
     ]
    }
   ],
   "source": [
    "model = Ridge()\n",
    "model.fit(X_train, y_train)\n",
    "y_pred = model.predict(X_test)\n",
    "print('The R2 score is:', r2_score(y_test, y_pred))\n",
    "print('The mean absolute error is:', mean_absolute_error(y_test, y_pred))\n",
    "print('The mean squared error is:', mean_squared_error(y_test, y_pred))"
   ]
  },
  {
   "cell_type": "markdown",
   "metadata": {},
   "source": [
    "Lasso"
   ]
  },
  {
   "cell_type": "code",
   "execution_count": 60,
   "metadata": {},
   "outputs": [
    {
     "name": "stdout",
     "output_type": "stream",
     "text": [
      "The R2 score is: 0.0788775295497608\n",
      "The mean absolute error is: 11.75956386980997\n",
      "The mean squared error is: 224.1444681634085\n"
     ]
    }
   ],
   "source": [
    "model = Lasso()\n",
    "model.fit(X_train, y_train)\n",
    "y_pred = model.predict(X_test)\n",
    "print('The R2 score is:', r2_score(y_test, y_pred))\n",
    "print('The mean absolute error is:', mean_absolute_error(y_test, y_pred))\n",
    "print('The mean squared error is:', mean_squared_error(y_test, y_pred))"
   ]
  },
  {
   "cell_type": "markdown",
   "metadata": {},
   "source": [
    "ElasticNet"
   ]
  },
  {
   "cell_type": "code",
   "execution_count": 61,
   "metadata": {},
   "outputs": [
    {
     "name": "stdout",
     "output_type": "stream",
     "text": [
      "The R2 score is: 0.041777418160017676\n",
      "The mean absolute error is: 11.974992247065256\n",
      "The mean squared error is: 233.17234990881036\n"
     ]
    }
   ],
   "source": [
    "model = ElasticNet()\n",
    "model.fit(X_train, y_train)\n",
    "y_pred = model.predict(X_test)\n",
    "print('The R2 score is:', r2_score(y_test, y_pred))\n",
    "print('The mean absolute error is:', mean_absolute_error(y_test, y_pred))\n",
    "print('The mean squared error is:', mean_squared_error(y_test, y_pred))"
   ]
  },
  {
   "cell_type": "markdown",
   "metadata": {},
   "source": [
    "The model also gets worse after parental level of education is removed. Removing Standard or free lunch."
   ]
  },
  {
   "cell_type": "code",
   "execution_count": 62,
   "metadata": {},
   "outputs": [],
   "source": [
    "X = dummies.drop('standard', axis = 1)\n",
    "y = student_perf['math score']\n",
    "X_train, X_test, y_train, y_test = train_test_split(X, y, test_size = 0.2, random_state=42)"
   ]
  },
  {
   "cell_type": "code",
   "execution_count": 63,
   "metadata": {},
   "outputs": [
    {
     "name": "stdout",
     "output_type": "stream",
     "text": [
      "The R2 score is: 0.08136993438172768\n",
      "The mean absolute error is: 11.74814148042065\n",
      "The mean squared error is: 223.53797035944538\n"
     ]
    }
   ],
   "source": [
    "regr = LinearRegression()\n",
    "regr.fit(X_train, y_train)\n",
    "y_pred = regr.predict(X_test)\n",
    "print('The R2 score is:', r2_score(y_test, y_pred))\n",
    "print('The mean absolute error is:', mean_absolute_error(y_test, y_pred))\n",
    "print('The mean squared error is:', mean_squared_error(y_test, y_pred))"
   ]
  },
  {
   "cell_type": "markdown",
   "metadata": {},
   "source": [
    "Random Forest Regression"
   ]
  },
  {
   "cell_type": "code",
   "execution_count": 64,
   "metadata": {},
   "outputs": [
    {
     "name": "stdout",
     "output_type": "stream",
     "text": [
      "The R2 score is: -0.021789673286969125\n",
      "The mean absolute error is: 12.428094217707661\n",
      "The mean squared error is: 248.6406642341738\n"
     ]
    }
   ],
   "source": [
    "model = RandomForestRegressor()\n",
    "model.fit(X_train, y_train)\n",
    "y_pred = model.predict(X_test)\n",
    "print('The R2 score is:', r2_score(y_test, y_pred))\n",
    "print('The mean absolute error is:', mean_absolute_error(y_test, y_pred))\n",
    "print('The mean squared error is:', mean_squared_error(y_test, y_pred))"
   ]
  },
  {
   "cell_type": "markdown",
   "metadata": {},
   "source": [
    "Ridge"
   ]
  },
  {
   "cell_type": "code",
   "execution_count": 65,
   "metadata": {},
   "outputs": [
    {
     "name": "stdout",
     "output_type": "stream",
     "text": [
      "The R2 score is: 0.0803569405762472\n",
      "The mean absolute error is: 11.754594546482213\n",
      "The mean squared error is: 223.78447065128094\n"
     ]
    }
   ],
   "source": [
    "model = Ridge()\n",
    "model.fit(X_train, y_train)\n",
    "y_pred = model.predict(X_test)\n",
    "print('The R2 score is:', r2_score(y_test, y_pred))\n",
    "print('The mean absolute error is:', mean_absolute_error(y_test, y_pred))\n",
    "print('The mean squared error is:', mean_squared_error(y_test, y_pred))"
   ]
  },
  {
   "cell_type": "markdown",
   "metadata": {},
   "source": [
    "Lasso"
   ]
  },
  {
   "cell_type": "code",
   "execution_count": 66,
   "metadata": {},
   "outputs": [
    {
     "name": "stdout",
     "output_type": "stream",
     "text": [
      "The R2 score is: 0.03144433554750792\n",
      "The mean absolute error is: 12.11265699783908\n",
      "The mean squared error is: 235.68678569880632\n"
     ]
    }
   ],
   "source": [
    "model = Lasso()\n",
    "model.fit(X_train, y_train)\n",
    "y_pred = model.predict(X_test)\n",
    "print('The R2 score is:', r2_score(y_test, y_pred))\n",
    "print('The mean absolute error is:', mean_absolute_error(y_test, y_pred))\n",
    "print('The mean squared error is:', mean_squared_error(y_test, y_pred))"
   ]
  },
  {
   "cell_type": "markdown",
   "metadata": {},
   "source": [
    "ElasticNet"
   ]
  },
  {
   "cell_type": "code",
   "execution_count": 67,
   "metadata": {},
   "outputs": [
    {
     "name": "stdout",
     "output_type": "stream",
     "text": [
      "The R2 score is: 0.031226649999247402\n",
      "The mean absolute error is: 12.105897187653984\n",
      "The mean squared error is: 235.73975695182315\n"
     ]
    }
   ],
   "source": [
    "model = ElasticNet()\n",
    "model.fit(X_train, y_train)\n",
    "y_pred = model.predict(X_test)\n",
    "print('The R2 score is:', r2_score(y_test, y_pred))\n",
    "print('The mean absolute error is:', mean_absolute_error(y_test, y_pred))\n",
    "print('The mean squared error is:', mean_squared_error(y_test, y_pred))"
   ]
  },
  {
   "cell_type": "markdown",
   "metadata": {},
   "source": [
    "The models also get worse without the Lunch variable. The last of the 4 to remove is the test prep course variable."
   ]
  },
  {
   "cell_type": "code",
   "execution_count": 68,
   "metadata": {},
   "outputs": [],
   "source": [
    "X = dummies.drop('no prep', axis = 1)\n",
    "y = student_perf['math score']\n",
    "X_train, X_test, y_train, y_test = train_test_split(X, y, test_size = 0.2, random_state=42)"
   ]
  },
  {
   "cell_type": "code",
   "execution_count": 69,
   "metadata": {},
   "outputs": [
    {
     "name": "stdout",
     "output_type": "stream",
     "text": [
      "The R2 score is: 0.13152175057825288\n",
      "The mean absolute error is: 11.449000314120656\n",
      "The mean squared error is: 211.33410764908888\n"
     ]
    }
   ],
   "source": [
    "regr = LinearRegression()\n",
    "regr.fit(X_train, y_train)\n",
    "y_pred = regr.predict(X_test)\n",
    "print('The R2 score is:', r2_score(y_test, y_pred))\n",
    "print('The mean absolute error is:', mean_absolute_error(y_test, y_pred))\n",
    "print('The mean squared error is:', mean_squared_error(y_test, y_pred))"
   ]
  },
  {
   "cell_type": "markdown",
   "metadata": {},
   "source": [
    "Random Forest Regression"
   ]
  },
  {
   "cell_type": "code",
   "execution_count": 70,
   "metadata": {},
   "outputs": [
    {
     "name": "stdout",
     "output_type": "stream",
     "text": [
      "The R2 score is: 0.013959934043030087\n",
      "The mean absolute error is: 12.126701062064932\n",
      "The mean squared error is: 239.9414119858635\n"
     ]
    }
   ],
   "source": [
    "model = RandomForestRegressor()\n",
    "model.fit(X_train, y_train)\n",
    "y_pred = model.predict(X_test)\n",
    "print('The R2 score is:', r2_score(y_test, y_pred))\n",
    "print('The mean absolute error is:', mean_absolute_error(y_test, y_pred))\n",
    "print('The mean squared error is:', mean_squared_error(y_test, y_pred))"
   ]
  },
  {
   "cell_type": "markdown",
   "metadata": {},
   "source": [
    "Ridge"
   ]
  },
  {
   "cell_type": "code",
   "execution_count": 71,
   "metadata": {},
   "outputs": [
    {
     "name": "stdout",
     "output_type": "stream",
     "text": [
      "The R2 score is: 0.1311439863312115\n",
      "The mean absolute error is: 11.450947130803307\n",
      "The mean squared error is: 211.42603219654112\n"
     ]
    }
   ],
   "source": [
    "model = Ridge()\n",
    "model.fit(X_train, y_train)\n",
    "y_pred = model.predict(X_test)\n",
    "print('The R2 score is:', r2_score(y_test, y_pred))\n",
    "print('The mean absolute error is:', mean_absolute_error(y_test, y_pred))\n",
    "print('The mean squared error is:', mean_squared_error(y_test, y_pred))"
   ]
  },
  {
   "cell_type": "markdown",
   "metadata": {},
   "source": [
    "Lasso"
   ]
  },
  {
   "cell_type": "code",
   "execution_count": 72,
   "metadata": {},
   "outputs": [
    {
     "name": "stdout",
     "output_type": "stream",
     "text": [
      "The R2 score is: 0.10791937843789323\n",
      "The mean absolute error is: 11.538497572992618\n",
      "The mean squared error is: 217.07747112192857\n"
     ]
    }
   ],
   "source": [
    "model = Lasso()\n",
    "model.fit(X_train, y_train)\n",
    "y_pred = model.predict(X_test)\n",
    "print('The R2 score is:', r2_score(y_test, y_pred))\n",
    "print('The mean absolute error is:', mean_absolute_error(y_test, y_pred))\n",
    "print('The mean squared error is:', mean_squared_error(y_test, y_pred))"
   ]
  },
  {
   "cell_type": "markdown",
   "metadata": {},
   "source": [
    "ElasticNet"
   ]
  },
  {
   "cell_type": "code",
   "execution_count": 73,
   "metadata": {},
   "outputs": [
    {
     "name": "stdout",
     "output_type": "stream",
     "text": [
      "The R2 score is: 0.0709570978353532\n",
      "The mean absolute error is: 11.835292382493027\n",
      "The mean squared error is: 226.07181334410168\n"
     ]
    }
   ],
   "source": [
    "model = ElasticNet()\n",
    "model.fit(X_train, y_train)\n",
    "y_pred = model.predict(X_test)\n",
    "print('The R2 score is:', r2_score(y_test, y_pred))\n",
    "print('The mean absolute error is:', mean_absolute_error(y_test, y_pred))\n",
    "print('The mean squared error is:', mean_squared_error(y_test, y_pred))"
   ]
  },
  {
   "cell_type": "markdown",
   "metadata": {},
   "source": [
    "Removing the last variable made the least amount of difference, but still, the models work best using all 4 of our original features.\n",
    "The next thing I'd like to try is to divide the student scores in to 2 categorical variables of simply \"pass\" and \"fail\", and see how well classification models can predict passes and fails.  I'll be using 70 as the minimum score for passing the test."
   ]
  },
  {
   "cell_type": "code",
   "execution_count": 74,
   "metadata": {},
   "outputs": [],
   "source": [
    "student_perf['math pass/fail'] = student_perf['math score'].apply(lambda x: 1 if x >= 70 else 0)  \n",
    "student_perf['r/w pass/fail'] = student_perf['r/w score'].apply(lambda x: 1 if x >= 70 else 0)"
   ]
  },
  {
   "cell_type": "code",
   "execution_count": 75,
   "metadata": {},
   "outputs": [
    {
     "data": {
      "text/html": [
       "<div>\n",
       "<style scoped>\n",
       "    .dataframe tbody tr th:only-of-type {\n",
       "        vertical-align: middle;\n",
       "    }\n",
       "\n",
       "    .dataframe tbody tr th {\n",
       "        vertical-align: top;\n",
       "    }\n",
       "\n",
       "    .dataframe thead th {\n",
       "        text-align: right;\n",
       "    }\n",
       "</style>\n",
       "<table border=\"1\" class=\"dataframe\">\n",
       "  <thead>\n",
       "    <tr style=\"text-align: right;\">\n",
       "      <th></th>\n",
       "      <th>gender</th>\n",
       "      <th>race/ethnicity</th>\n",
       "      <th>parental level of education</th>\n",
       "      <th>lunch</th>\n",
       "      <th>test preparation course</th>\n",
       "      <th>math score</th>\n",
       "      <th>reading score</th>\n",
       "      <th>writing score</th>\n",
       "      <th>avg_test_score</th>\n",
       "      <th>r/w score</th>\n",
       "      <th>math pass/fail</th>\n",
       "      <th>r/w pass/fail</th>\n",
       "    </tr>\n",
       "  </thead>\n",
       "  <tbody>\n",
       "    <tr>\n",
       "      <th>0</th>\n",
       "      <td>female</td>\n",
       "      <td>group B</td>\n",
       "      <td>bachelor's degree</td>\n",
       "      <td>standard</td>\n",
       "      <td>none</td>\n",
       "      <td>72</td>\n",
       "      <td>72</td>\n",
       "      <td>74</td>\n",
       "      <td>72.666667</td>\n",
       "      <td>73.0</td>\n",
       "      <td>1</td>\n",
       "      <td>1</td>\n",
       "    </tr>\n",
       "    <tr>\n",
       "      <th>1</th>\n",
       "      <td>female</td>\n",
       "      <td>group C</td>\n",
       "      <td>some college</td>\n",
       "      <td>standard</td>\n",
       "      <td>completed</td>\n",
       "      <td>69</td>\n",
       "      <td>90</td>\n",
       "      <td>88</td>\n",
       "      <td>82.333333</td>\n",
       "      <td>89.0</td>\n",
       "      <td>0</td>\n",
       "      <td>1</td>\n",
       "    </tr>\n",
       "    <tr>\n",
       "      <th>2</th>\n",
       "      <td>female</td>\n",
       "      <td>group B</td>\n",
       "      <td>master's degree</td>\n",
       "      <td>standard</td>\n",
       "      <td>none</td>\n",
       "      <td>90</td>\n",
       "      <td>95</td>\n",
       "      <td>93</td>\n",
       "      <td>92.666667</td>\n",
       "      <td>94.0</td>\n",
       "      <td>1</td>\n",
       "      <td>1</td>\n",
       "    </tr>\n",
       "    <tr>\n",
       "      <th>3</th>\n",
       "      <td>male</td>\n",
       "      <td>group A</td>\n",
       "      <td>associate's degree</td>\n",
       "      <td>free/reduced</td>\n",
       "      <td>none</td>\n",
       "      <td>47</td>\n",
       "      <td>57</td>\n",
       "      <td>44</td>\n",
       "      <td>49.333333</td>\n",
       "      <td>50.5</td>\n",
       "      <td>0</td>\n",
       "      <td>0</td>\n",
       "    </tr>\n",
       "    <tr>\n",
       "      <th>4</th>\n",
       "      <td>male</td>\n",
       "      <td>group C</td>\n",
       "      <td>some college</td>\n",
       "      <td>standard</td>\n",
       "      <td>none</td>\n",
       "      <td>76</td>\n",
       "      <td>78</td>\n",
       "      <td>75</td>\n",
       "      <td>76.333333</td>\n",
       "      <td>76.5</td>\n",
       "      <td>1</td>\n",
       "      <td>1</td>\n",
       "    </tr>\n",
       "    <tr>\n",
       "      <th>...</th>\n",
       "      <td>...</td>\n",
       "      <td>...</td>\n",
       "      <td>...</td>\n",
       "      <td>...</td>\n",
       "      <td>...</td>\n",
       "      <td>...</td>\n",
       "      <td>...</td>\n",
       "      <td>...</td>\n",
       "      <td>...</td>\n",
       "      <td>...</td>\n",
       "      <td>...</td>\n",
       "      <td>...</td>\n",
       "    </tr>\n",
       "    <tr>\n",
       "      <th>995</th>\n",
       "      <td>female</td>\n",
       "      <td>group E</td>\n",
       "      <td>master's degree</td>\n",
       "      <td>standard</td>\n",
       "      <td>completed</td>\n",
       "      <td>88</td>\n",
       "      <td>99</td>\n",
       "      <td>95</td>\n",
       "      <td>94.000000</td>\n",
       "      <td>97.0</td>\n",
       "      <td>1</td>\n",
       "      <td>1</td>\n",
       "    </tr>\n",
       "    <tr>\n",
       "      <th>996</th>\n",
       "      <td>male</td>\n",
       "      <td>group C</td>\n",
       "      <td>high school</td>\n",
       "      <td>free/reduced</td>\n",
       "      <td>none</td>\n",
       "      <td>62</td>\n",
       "      <td>55</td>\n",
       "      <td>55</td>\n",
       "      <td>57.333333</td>\n",
       "      <td>55.0</td>\n",
       "      <td>0</td>\n",
       "      <td>0</td>\n",
       "    </tr>\n",
       "    <tr>\n",
       "      <th>997</th>\n",
       "      <td>female</td>\n",
       "      <td>group C</td>\n",
       "      <td>high school</td>\n",
       "      <td>free/reduced</td>\n",
       "      <td>completed</td>\n",
       "      <td>59</td>\n",
       "      <td>71</td>\n",
       "      <td>65</td>\n",
       "      <td>65.000000</td>\n",
       "      <td>68.0</td>\n",
       "      <td>0</td>\n",
       "      <td>0</td>\n",
       "    </tr>\n",
       "    <tr>\n",
       "      <th>998</th>\n",
       "      <td>female</td>\n",
       "      <td>group D</td>\n",
       "      <td>some college</td>\n",
       "      <td>standard</td>\n",
       "      <td>completed</td>\n",
       "      <td>68</td>\n",
       "      <td>78</td>\n",
       "      <td>77</td>\n",
       "      <td>74.333333</td>\n",
       "      <td>77.5</td>\n",
       "      <td>0</td>\n",
       "      <td>1</td>\n",
       "    </tr>\n",
       "    <tr>\n",
       "      <th>999</th>\n",
       "      <td>female</td>\n",
       "      <td>group D</td>\n",
       "      <td>some college</td>\n",
       "      <td>free/reduced</td>\n",
       "      <td>none</td>\n",
       "      <td>77</td>\n",
       "      <td>86</td>\n",
       "      <td>86</td>\n",
       "      <td>83.000000</td>\n",
       "      <td>86.0</td>\n",
       "      <td>1</td>\n",
       "      <td>1</td>\n",
       "    </tr>\n",
       "  </tbody>\n",
       "</table>\n",
       "<p>1000 rows × 12 columns</p>\n",
       "</div>"
      ],
      "text/plain": [
       "     gender race/ethnicity parental level of education         lunch  \\\n",
       "0    female        group B           bachelor's degree      standard   \n",
       "1    female        group C                some college      standard   \n",
       "2    female        group B             master's degree      standard   \n",
       "3      male        group A          associate's degree  free/reduced   \n",
       "4      male        group C                some college      standard   \n",
       "..      ...            ...                         ...           ...   \n",
       "995  female        group E             master's degree      standard   \n",
       "996    male        group C                 high school  free/reduced   \n",
       "997  female        group C                 high school  free/reduced   \n",
       "998  female        group D                some college      standard   \n",
       "999  female        group D                some college  free/reduced   \n",
       "\n",
       "    test preparation course  math score  reading score  writing score  \\\n",
       "0                      none          72             72             74   \n",
       "1                 completed          69             90             88   \n",
       "2                      none          90             95             93   \n",
       "3                      none          47             57             44   \n",
       "4                      none          76             78             75   \n",
       "..                      ...         ...            ...            ...   \n",
       "995               completed          88             99             95   \n",
       "996                    none          62             55             55   \n",
       "997               completed          59             71             65   \n",
       "998               completed          68             78             77   \n",
       "999                    none          77             86             86   \n",
       "\n",
       "     avg_test_score  r/w score  math pass/fail  r/w pass/fail  \n",
       "0         72.666667       73.0               1              1  \n",
       "1         82.333333       89.0               0              1  \n",
       "2         92.666667       94.0               1              1  \n",
       "3         49.333333       50.5               0              0  \n",
       "4         76.333333       76.5               1              1  \n",
       "..              ...        ...             ...            ...  \n",
       "995       94.000000       97.0               1              1  \n",
       "996       57.333333       55.0               0              0  \n",
       "997       65.000000       68.0               0              0  \n",
       "998       74.333333       77.5               0              1  \n",
       "999       83.000000       86.0               1              1  \n",
       "\n",
       "[1000 rows x 12 columns]"
      ]
     },
     "execution_count": 75,
     "metadata": {},
     "output_type": "execute_result"
    }
   ],
   "source": [
    "student_perf"
   ]
  },
  {
   "cell_type": "code",
   "execution_count": 76,
   "metadata": {},
   "outputs": [],
   "source": [
    "X = dummies\n",
    "y = student_perf['math pass/fail']\n",
    "X_train, X_test, y_train, y_test = train_test_split(X, y, test_size = 0.2, random_state=42)\n"
   ]
  },
  {
   "cell_type": "code",
   "execution_count": 77,
   "metadata": {},
   "outputs": [],
   "source": [
    "from sklearn.ensemble import RandomForestClassifier"
   ]
  },
  {
   "cell_type": "code",
   "execution_count": 78,
   "metadata": {},
   "outputs": [],
   "source": [
    "model = RandomForestClassifier()\n",
    "model.fit(X_train, y_train)\n",
    "y_pred = model.predict(X_test)"
   ]
  },
  {
   "cell_type": "code",
   "execution_count": 79,
   "metadata": {},
   "outputs": [],
   "source": [
    "from sklearn.metrics import accuracy_score, classification_report, confusion_matrix, f1_score, precision_score, recall_score"
   ]
  },
  {
   "cell_type": "code",
   "execution_count": 80,
   "metadata": {},
   "outputs": [
    {
     "name": "stdout",
     "output_type": "stream",
     "text": [
      "F1 Score: 0.47\n",
      "Accuracy Score: 0.62\n",
      "Precision Score: 0.51\n",
      "Recall Score: 0.44\n"
     ]
    }
   ],
   "source": [
    "print('F1 Score:', round(f1_score(y_test, y_pred), 2))\n",
    "print('Accuracy Score:', round(accuracy_score(y_test, y_pred), 2))\n",
    "print('Precision Score:', round(precision_score(y_test, y_pred), 2))\n",
    "print('Recall Score:', round(recall_score(y_test, y_pred), 2))"
   ]
  },
  {
   "cell_type": "code",
   "execution_count": 81,
   "metadata": {},
   "outputs": [
    {
     "data": {
      "text/plain": [
       "array([[89, 33],\n",
       "       [44, 34]], dtype=int64)"
      ]
     },
     "execution_count": 81,
     "metadata": {},
     "output_type": "execute_result"
    }
   ],
   "source": [
    "confusion_matrix(y_test, y_pred)"
   ]
  },
  {
   "cell_type": "code",
   "execution_count": 82,
   "metadata": {},
   "outputs": [],
   "source": [
    "X = dummies\n",
    "y = student_perf['r/w pass/fail']\n",
    "X_train, X_test, y_train, y_test = train_test_split(X, y, test_size = 0.2, random_state=42)"
   ]
  },
  {
   "cell_type": "code",
   "execution_count": 83,
   "metadata": {},
   "outputs": [],
   "source": [
    "model = RandomForestClassifier()\n",
    "model.fit(X_train, y_train)\n",
    "y_pred = model.predict(X_test)"
   ]
  },
  {
   "cell_type": "code",
   "execution_count": 84,
   "metadata": {},
   "outputs": [
    {
     "name": "stdout",
     "output_type": "stream",
     "text": [
      "F1 Score: 0.61\n",
      "Accuracy Score: 0.62\n",
      "Precision Score: 0.62\n",
      "Recall Score: 0.61\n"
     ]
    }
   ],
   "source": [
    "print('F1 Score:', round(f1_score(y_test, y_pred), 2))\n",
    "print('Accuracy Score:', round(accuracy_score(y_test, y_pred), 2))\n",
    "print('Precision Score:', round(precision_score(y_test, y_pred), 2))\n",
    "print('Recall Score:', round(recall_score(y_test, y_pred), 2))"
   ]
  },
  {
   "cell_type": "code",
   "execution_count": 85,
   "metadata": {},
   "outputs": [
    {
     "data": {
      "text/plain": [
       "array([[64, 37],\n",
       "       [39, 60]], dtype=int64)"
      ]
     },
     "execution_count": 85,
     "metadata": {},
     "output_type": "execute_result"
    }
   ],
   "source": [
    "confusion_matrix(y_test, y_pred)"
   ]
  },
  {
   "cell_type": "code",
   "execution_count": 86,
   "metadata": {},
   "outputs": [],
   "source": [
    "X = dummies.drop('no prep', axis=1)\n",
    "y = student_perf['math pass/fail']\n",
    "X_train, X_test, y_train, y_test = train_test_split(X, y, test_size = 0.2, random_state=42)"
   ]
  },
  {
   "cell_type": "code",
   "execution_count": 87,
   "metadata": {},
   "outputs": [],
   "source": [
    "model = RandomForestClassifier()\n",
    "model.fit(X_train, y_train)\n",
    "y_pred = model.predict(X_test)"
   ]
  },
  {
   "cell_type": "code",
   "execution_count": 88,
   "metadata": {},
   "outputs": [
    {
     "name": "stdout",
     "output_type": "stream",
     "text": [
      "F1 Score: 0.55\n",
      "Accuracy Score: 0.66\n",
      "Precision Score: 0.56\n",
      "Recall Score: 0.54\n"
     ]
    }
   ],
   "source": [
    "print('F1 Score:', round(f1_score(y_test, y_pred), 2))\n",
    "print('Accuracy Score:', round(accuracy_score(y_test, y_pred), 2))\n",
    "print('Precision Score:', round(precision_score(y_test, y_pred), 2))\n",
    "print('Recall Score:', round(recall_score(y_test, y_pred), 2))"
   ]
  },
  {
   "cell_type": "code",
   "execution_count": 89,
   "metadata": {},
   "outputs": [
    {
     "data": {
      "text/plain": [
       "array([[89, 33],\n",
       "       [36, 42]], dtype=int64)"
      ]
     },
     "execution_count": 89,
     "metadata": {},
     "output_type": "execute_result"
    }
   ],
   "source": [
    "confusion_matrix(y_test, y_pred)"
   ]
  },
  {
   "cell_type": "markdown",
   "metadata": {},
   "source": [
    "The model performs better after removing the test prep variable.  Let's try to remove the others and see what happens."
   ]
  },
  {
   "cell_type": "code",
   "execution_count": 90,
   "metadata": {},
   "outputs": [],
   "source": [
    "X = dummies.drop(['parental level of education'], axis=1)\n",
    "y = student_perf['math pass/fail']\n",
    "X_train, X_test, y_train, y_test = train_test_split(X, y, test_size = 0.2, random_state=42)"
   ]
  },
  {
   "cell_type": "code",
   "execution_count": 91,
   "metadata": {},
   "outputs": [],
   "source": [
    "model = RandomForestClassifier()\n",
    "model.fit(X_train, y_train)\n",
    "y_pred = model.predict(X_test)"
   ]
  },
  {
   "cell_type": "code",
   "execution_count": 92,
   "metadata": {},
   "outputs": [
    {
     "name": "stdout",
     "output_type": "stream",
     "text": [
      "F1 Score: 0.52\n",
      "Accuracy Score: 0.64\n",
      "Precision Score: 0.55\n",
      "Recall Score: 0.5\n"
     ]
    }
   ],
   "source": [
    "print('F1 Score:', round(f1_score(y_test, y_pred), 2))\n",
    "print('Accuracy Score:', round(accuracy_score(y_test, y_pred), 2))\n",
    "print('Precision Score:', round(precision_score(y_test, y_pred), 2))\n",
    "print('Recall Score:', round(recall_score(y_test, y_pred), 2))"
   ]
  },
  {
   "cell_type": "code",
   "execution_count": 93,
   "metadata": {},
   "outputs": [
    {
     "data": {
      "text/plain": [
       "array([[90, 32],\n",
       "       [39, 39]], dtype=int64)"
      ]
     },
     "execution_count": 93,
     "metadata": {},
     "output_type": "execute_result"
    }
   ],
   "source": [
    "confusion_matrix(y_test, y_pred)"
   ]
  },
  {
   "cell_type": "markdown",
   "metadata": {},
   "source": [
    "Slightly better than the original, but worse than when just removing the test prep variable."
   ]
  },
  {
   "cell_type": "code",
   "execution_count": 94,
   "metadata": {},
   "outputs": [],
   "source": [
    "X = dummies.drop(['group B', 'group C', 'group D', 'group E'], axis=1)\n",
    "y = student_perf['math pass/fail']\n",
    "X_train, X_test, y_train, y_test = train_test_split(X, y, test_size = 0.2, random_state=42)"
   ]
  },
  {
   "cell_type": "code",
   "execution_count": 95,
   "metadata": {},
   "outputs": [],
   "source": [
    "model = RandomForestClassifier()\n",
    "model.fit(X_train, y_train)\n",
    "y_pred = model.predict(X_test)"
   ]
  },
  {
   "cell_type": "code",
   "execution_count": 96,
   "metadata": {},
   "outputs": [
    {
     "name": "stdout",
     "output_type": "stream",
     "text": [
      "F1 Score: 0.49\n",
      "Accuracy Score: 0.58\n",
      "Precision Score: 0.47\n",
      "Recall Score: 0.51\n"
     ]
    }
   ],
   "source": [
    "print('F1 Score:', round(f1_score(y_test, y_pred), 2))\n",
    "print('Accuracy Score:', round(accuracy_score(y_test, y_pred), 2))\n",
    "print('Precision Score:', round(precision_score(y_test, y_pred), 2))\n",
    "print('Recall Score:', round(recall_score(y_test, y_pred), 2))"
   ]
  },
  {
   "cell_type": "code",
   "execution_count": 97,
   "metadata": {
    "scrolled": true
   },
   "outputs": [
    {
     "data": {
      "text/plain": [
       "array([[77, 45],\n",
       "       [38, 40]], dtype=int64)"
      ]
     },
     "execution_count": 97,
     "metadata": {},
     "output_type": "execute_result"
    }
   ],
   "source": [
    "confusion_matrix(y_test, y_pred)"
   ]
  },
  {
   "cell_type": "markdown",
   "metadata": {},
   "source": [
    "Removing the ethnic group variable did not help.  Last categorical variable to look at would be lunch.  I don't expect the model to perform without this variable at all, but let's see."
   ]
  },
  {
   "cell_type": "code",
   "execution_count": 98,
   "metadata": {},
   "outputs": [],
   "source": [
    "X = dummies.drop(['standard'], axis=1)\n",
    "y = student_perf['math pass/fail']\n",
    "X_train, X_test, y_train, y_test = train_test_split(X, y, test_size = 0.2, random_state=42)"
   ]
  },
  {
   "cell_type": "code",
   "execution_count": 99,
   "metadata": {},
   "outputs": [],
   "source": [
    "model = RandomForestClassifier()\n",
    "model.fit(X_train, y_train)\n",
    "y_pred = model.predict(X_test)"
   ]
  },
  {
   "cell_type": "code",
   "execution_count": 100,
   "metadata": {},
   "outputs": [
    {
     "name": "stdout",
     "output_type": "stream",
     "text": [
      "F1 Score: 0.35\n",
      "Accuracy Score: 0.57\n",
      "Precision Score: 0.43\n",
      "Recall Score: 0.29\n"
     ]
    }
   ],
   "source": [
    "print('F1 Score:', round(f1_score(y_test, y_pred), 2))\n",
    "print('Accuracy Score:', round(accuracy_score(y_test, y_pred), 2))\n",
    "print('Precision Score:', round(precision_score(y_test, y_pred), 2))\n",
    "print('Recall Score:', round(recall_score(y_test, y_pred), 2))"
   ]
  },
  {
   "cell_type": "code",
   "execution_count": 101,
   "metadata": {
    "scrolled": false
   },
   "outputs": [
    {
     "data": {
      "text/plain": [
       "array([[92, 30],\n",
       "       [55, 23]], dtype=int64)"
      ]
     },
     "execution_count": 101,
     "metadata": {},
     "output_type": "execute_result"
    }
   ],
   "source": [
    "confusion_matrix(y_test, y_pred)"
   ]
  },
  {
   "cell_type": "markdown",
   "metadata": {},
   "source": [
    "Definitely removing this variable makes the model perform worse, even much more so than removing the ethnic variable. It seems the Lunch variable is the most important variable.  Let's try removing both of the variables who's independent removal actually improved the model performance the first time."
   ]
  },
  {
   "cell_type": "code",
   "execution_count": 102,
   "metadata": {},
   "outputs": [],
   "source": [
    "X = dummies.drop(['standard'], axis=1)\n",
    "y = student_perf['math pass/fail']\n",
    "X_train, X_test, y_train, y_test = train_test_split(X, y, test_size = 0.2, random_state=42)"
   ]
  },
  {
   "cell_type": "code",
   "execution_count": 103,
   "metadata": {},
   "outputs": [],
   "source": [
    "model = RandomForestClassifier()\n",
    "model.fit(X_train, y_train)\n",
    "y_pred = model.predict(X_test)"
   ]
  },
  {
   "cell_type": "code",
   "execution_count": 104,
   "metadata": {},
   "outputs": [
    {
     "name": "stdout",
     "output_type": "stream",
     "text": [
      "F1 Score: 0.33\n",
      "Accuracy Score: 0.54\n",
      "Precision Score: 0.38\n",
      "Recall Score: 0.29\n"
     ]
    }
   ],
   "source": [
    "print('F1 Score:', round(f1_score(y_test, y_pred), 2))\n",
    "print('Accuracy Score:', round(accuracy_score(y_test, y_pred), 2))\n",
    "print('Precision Score:', round(precision_score(y_test, y_pred), 2))\n",
    "print('Recall Score:', round(recall_score(y_test, y_pred), 2))"
   ]
  },
  {
   "cell_type": "code",
   "execution_count": 105,
   "metadata": {
    "scrolled": false
   },
   "outputs": [
    {
     "data": {
      "text/plain": [
       "array([[84, 38],\n",
       "       [55, 23]], dtype=int64)"
      ]
     },
     "execution_count": 105,
     "metadata": {},
     "output_type": "execute_result"
    }
   ],
   "source": [
    "confusion_matrix(y_test, y_pred)"
   ]
  },
  {
   "cell_type": "code",
   "execution_count": 106,
   "metadata": {},
   "outputs": [],
   "source": [
    "X = dummies.drop(['group B', 'group C', 'group D', 'group E', 'no prep'], axis=1)\n",
    "y = student_perf['math pass/fail']\n",
    "X_train, X_test, y_train, y_test = train_test_split(X, y, test_size = 0.2, random_state=42)"
   ]
  },
  {
   "cell_type": "code",
   "execution_count": 107,
   "metadata": {},
   "outputs": [],
   "source": [
    "model = RandomForestClassifier()\n",
    "model.fit(X_train, y_train)\n",
    "y_pred = model.predict(X_test)"
   ]
  },
  {
   "cell_type": "code",
   "execution_count": 108,
   "metadata": {},
   "outputs": [
    {
     "name": "stdout",
     "output_type": "stream",
     "text": [
      "F1 Score: 0.44\n",
      "Accuracy Score: 0.57\n",
      "Precision Score: 0.45\n",
      "Recall Score: 0.44\n"
     ]
    }
   ],
   "source": [
    "print('F1 Score:', round(f1_score(y_test, y_pred), 2))\n",
    "print('Accuracy Score:', round(accuracy_score(y_test, y_pred), 2))\n",
    "print('Precision Score:', round(precision_score(y_test, y_pred), 2))\n",
    "print('Recall Score:', round(recall_score(y_test, y_pred), 2))"
   ]
  },
  {
   "cell_type": "code",
   "execution_count": 109,
   "metadata": {
    "scrolled": true
   },
   "outputs": [
    {
     "data": {
      "text/plain": [
       "array([[80, 42],\n",
       "       [44, 34]], dtype=int64)"
      ]
     },
     "execution_count": 109,
     "metadata": {},
     "output_type": "execute_result"
    }
   ],
   "source": [
    "confusion_matrix(y_test, y_pred)"
   ]
  },
  {
   "cell_type": "markdown",
   "metadata": {},
   "source": [
    "Running just our 2 \"best\" variables gives us a worse model performance than our previous efforts.  It is clear that at least for the RandomForest Generator, Excluding the test prep variable and leaving the other 3 variables makes the model perform best on the test set, at about 66% predictive accuracy.\n",
    "However, what would happen if we were to only use our apparent \"best\" predictive variable?"
   ]
  },
  {
   "cell_type": "code",
   "execution_count": 110,
   "metadata": {},
   "outputs": [],
   "source": [
    "X = np.array(dummies['standard']).reshape(-1,1)\n",
    "y = student_perf['math pass/fail']\n",
    "X_train, X_test, y_train, y_test = train_test_split(X, y, test_size = 0.2, random_state=42)\n"
   ]
  },
  {
   "cell_type": "code",
   "execution_count": 111,
   "metadata": {},
   "outputs": [],
   "source": [
    "model = RandomForestClassifier()\n",
    "model.fit(X_train, y_train)\n",
    "y_pred = model.predict(X_test)"
   ]
  },
  {
   "cell_type": "code",
   "execution_count": 112,
   "metadata": {},
   "outputs": [
    {
     "name": "stdout",
     "output_type": "stream",
     "text": [
      "F1 Score: 0.57\n",
      "Accuracy Score: 0.57\n",
      "Precision Score: 0.47\n",
      "Recall Score: 0.73\n"
     ]
    }
   ],
   "source": [
    "print('F1 Score:', round(f1_score(y_test, y_pred), 2))\n",
    "print('Accuracy Score:', round(accuracy_score(y_test, y_pred), 2))\n",
    "print('Precision Score:', round(precision_score(y_test, y_pred), 2))\n",
    "print('Recall Score:', round(recall_score(y_test, y_pred), 2))"
   ]
  },
  {
   "cell_type": "code",
   "execution_count": 113,
   "metadata": {
    "scrolled": false
   },
   "outputs": [
    {
     "data": {
      "text/plain": [
       "array([[57, 65],\n",
       "       [21, 57]], dtype=int64)"
      ]
     },
     "execution_count": 113,
     "metadata": {},
     "output_type": "execute_result"
    }
   ],
   "source": [
    "confusion_matrix(y_test, y_pred)"
   ]
  },
  {
   "cell_type": "markdown",
   "metadata": {},
   "source": [
    "This doesn't work as well.  Our Randomforest Classification model definitely works best with the 3 independent variables Lunch, parental level of education, and ethnic group."
   ]
  }
 ],
 "metadata": {
  "kernelspec": {
   "display_name": "Python 3",
   "language": "python",
   "name": "python3"
  },
  "language_info": {
   "codemirror_mode": {
    "name": "ipython",
    "version": 3
   },
   "file_extension": ".py",
   "mimetype": "text/x-python",
   "name": "python",
   "nbconvert_exporter": "python",
   "pygments_lexer": "ipython3",
   "version": "3.8.5"
  }
 },
 "nbformat": 4,
 "nbformat_minor": 4
}
