{
 "cells": [
  {
   "cell_type": "code",
   "execution_count": 1,
   "metadata": {},
   "outputs": [],
   "source": [
    "import pandas as pd\n",
    "import numpy as np\n",
    "import matplotlib.pyplot as plt\n",
    "import seaborn as sns"
   ]
  },
  {
   "cell_type": "markdown",
   "metadata": {},
   "source": [
    "After Importing what I need, Ive got to load my file in as a dataframe.  Then I want to see the basic info on it, how many columns, data types, rows, etc.\n",
    "Then I want to check the quality of data in my not integer value columns, by printing out all of the unique observations found. This will tell me if there are variations in the input, such as the case or spacing, that need to be addressed before attempting to group data."
   ]
  },
  {
   "cell_type": "code",
   "execution_count": 2,
   "metadata": {},
   "outputs": [
    {
     "name": "stdout",
     "output_type": "stream",
     "text": [
      "<class 'pandas.core.frame.DataFrame'>\n",
      "RangeIndex: 1000 entries, 0 to 999\n",
      "Data columns (total 8 columns):\n",
      " #   Column                       Non-Null Count  Dtype \n",
      "---  ------                       --------------  ----- \n",
      " 0   gender                       1000 non-null   object\n",
      " 1   race/ethnicity               1000 non-null   object\n",
      " 2   parental level of education  1000 non-null   object\n",
      " 3   lunch                        1000 non-null   object\n",
      " 4   test preparation course      1000 non-null   object\n",
      " 5   math score                   1000 non-null   int64 \n",
      " 6   reading score                1000 non-null   int64 \n",
      " 7   writing score                1000 non-null   int64 \n",
      "dtypes: int64(3), object(5)\n",
      "memory usage: 62.6+ KB\n",
      "['female' 'male']\n",
      "['none' 'completed']\n",
      "['standard' 'free/reduced']\n",
      "[\"bachelor's degree\" 'some college' \"master's degree\" \"associate's degree\"\n",
      " 'high school' 'some high school']\n",
      "['group B' 'group C' 'group A' 'group D' 'group E']\n"
     ]
    }
   ],
   "source": [
    "student_perf = pd.read_csv('..\\data\\StudentsPerformance.csv')\n",
    "student_perf.info()\n",
    "print(student_perf['gender'].unique())\n",
    "print(student_perf['test preparation course'].unique())\n",
    "print(student_perf['lunch'].unique())\n",
    "print(student_perf['parental level of education'].unique())\n",
    "print(student_perf['race/ethnicity'].unique())\n"
   ]
  },
  {
   "cell_type": "markdown",
   "metadata": {},
   "source": [
    "Now, I want to check if there are any values out of range, in this case below zero or above 100.\n",
    "I also want to see if there are any scores missing."
   ]
  },
  {
   "cell_type": "code",
   "execution_count": 3,
   "metadata": {},
   "outputs": [
    {
     "name": "stdout",
     "output_type": "stream",
     "text": [
      "0 100\n",
      "17 100\n",
      "10 100\n",
      "0\n",
      "0\n",
      "0\n"
     ]
    }
   ],
   "source": [
    "print(student_perf['math score'].min(), student_perf['math score'].max())\n",
    "print(student_perf['reading score'].min(), student_perf['reading score'].max())\n",
    "print(student_perf['writing score'].min(), student_perf['writing score'].max())\n",
    "print(student_perf['math score'].isna().sum())\n",
    "print(student_perf['reading score'].isna().sum())\n",
    "print(student_perf['writing score'].isna().sum())"
   ]
  },
  {
   "cell_type": "markdown",
   "metadata": {},
   "source": [
    "Next, I want to take the average value of the 3 test scores for each student #, and use it to create an overall test score column.  For now, I am not going to focus on the achievement by subject, just overall achievement.  \n",
    "After making the new column, i just want to make sure the values are as expected.  I sorted the values to check for any outliers, and to get an idea of the data for students at both ends of the range."
   ]
  },
  {
   "cell_type": "code",
   "execution_count": 4,
   "metadata": {},
   "outputs": [
    {
     "name": "stdout",
     "output_type": "stream",
     "text": [
      "67.77066666666664\n",
      "76     26.000000\n",
      "327    23.333333\n",
      "596    23.000000\n",
      "980    18.333333\n",
      "59      9.000000\n",
      "Name: avg_test_score, dtype: float64\n"
     ]
    },
    {
     "data": {
      "text/plain": [
       "962    100.000000\n",
       "916    100.000000\n",
       "458    100.000000\n",
       "114     99.666667\n",
       "179     99.000000\n",
       "Name: avg_test_score, dtype: float64"
      ]
     },
     "execution_count": 4,
     "metadata": {},
     "output_type": "execute_result"
    }
   ],
   "source": [
    "student_perf['avg_test_score'] = (student_perf['math score'] + student_perf['reading score'] + student_perf['writing score']) / 3\n",
    "print(student_perf['avg_test_score'].mean())\n",
    "sorted_avg_score = student_perf['avg_test_score'].sort_values(ascending = False)\n",
    "print(sorted_avg_score.tail())\n",
    "sorted_avg_score.head()\n"
   ]
  },
  {
   "cell_type": "markdown",
   "metadata": {},
   "source": [
    "Now, I believe my data is ready to be subsetted in to my different groupings based on each variable, allowing me to make the correct calculations needed in order to identify the strongest correlations.  I will start by dividing the students in to 2 groups based on the 2 options under the lunch variable, and comparing the average scores.  From there, I will move on to the other attributes."
   ]
  },
  {
   "cell_type": "code",
   "execution_count": 5,
   "metadata": {
    "scrolled": true
   },
   "outputs": [
    {
     "name": "stdout",
     "output_type": "stream",
     "text": [
      "62.199061032863845\n",
      "70.83720930232563\n",
      "9.0\n",
      "26.0\n",
      "97.66666666666667\n"
     ]
    }
   ],
   "source": [
    "free_reduced = student_perf[student_perf.lunch == 'free/reduced']\n",
    "not_free = student_perf[student_perf.lunch != 'free/reduced']\n",
    "print(free_reduced['avg_test_score'].mean())\n",
    "print(not_free['avg_test_score'].mean())\n",
    "print(free_reduced['avg_test_score'].min())\n",
    "print(not_free['avg_test_score'].min())\n",
    "print(free_reduced['avg_test_score'].max())\n"
   ]
  },
  {
   "cell_type": "markdown",
   "metadata": {},
   "source": [
    "# EXPLORATORY DATA ANALYSIS"
   ]
  },
  {
   "cell_type": "markdown",
   "metadata": {},
   "source": [
    "The first thing I want to take another look at for data analysis is the 3 test scores, and how they correlate with one another.  The strength of correlation may help decide if it is necessary to analyze performance for each test individually, or to simply work with the overall averages.  There also may be a specifically strong correlation, such as between reading and writing, that may allow me to combine their scores in to 1."
   ]
  },
  {
   "cell_type": "code",
   "execution_count": 6,
   "metadata": {},
   "outputs": [
    {
     "name": "stdout",
     "output_type": "stream",
     "text": [
      "               math score  reading score  writing score\n",
      "math score       1.000000       0.817580       0.802642\n",
      "reading score    0.817580       1.000000       0.954598\n",
      "writing score    0.802642       0.954598       1.000000\n"
     ]
    }
   ],
   "source": [
    "#creating new database of just the 3 test scores\n",
    "test_grades = student_perf[['math score','reading score','writing score']]\n",
    "tg_corr = test_grades.corr()\n",
    "print(tg_corr)"
   ]
  },
  {
   "cell_type": "markdown",
   "metadata": {},
   "source": [
    "There is a fairly strong correlation between all scores, but there is an extremely high correlation of over .95 between reading and writing scores.  Because of this, I will combine those 2 scores for plotting purposes in to a reading/writing score column."
   ]
  },
  {
   "cell_type": "code",
   "execution_count": 7,
   "metadata": {},
   "outputs": [],
   "source": [
    "student_perf['r/w score'] = (student_perf['reading score'] + student_perf['writing score'])/2"
   ]
  },
  {
   "cell_type": "markdown",
   "metadata": {},
   "source": [
    "The first thing I want to look at is the breakdown of scores between for my 4 most important features; whether a student has taken the test prep, whether a student qualifies for free/reduced lunch(families in the lower income brackets qualify for free/reduced lunch), the parent of the student's educational level, as well as which race/ethnicity category the student falls in to.  I also have a classification on gender, however at this point, I am more interested in the determinant characteristics of the 4 features listed above."
   ]
  },
  {
   "cell_type": "code",
   "execution_count": 8,
   "metadata": {},
   "outputs": [
    {
     "name": "stdout",
     "output_type": "stream",
     "text": [
      "The # of students on standard lunch: 645\n",
      "The # of students on free/reduced lunch: 355\n"
     ]
    }
   ],
   "source": [
    "#Starting with whether a student qualifies for free/reduced lunch, first I want to see how large a sample I have for each \n",
    "#category, and then look at the means for each subset:\n",
    "\n",
    "lunch_scores = student_perf[['lunch', 'math score', 'r/w score']]\n",
    "not_free = student_perf[student_perf['lunch'] == 'standard']\n",
    "free_reduced = student_perf[student_perf['lunch'] == 'free/reduced']\n",
    "print('The # of students on standard lunch:', len(not_free))\n",
    "print('The # of students on free/reduced lunch:', len(free_reduced))\n"
   ]
  },
  {
   "cell_type": "code",
   "execution_count": 9,
   "metadata": {},
   "outputs": [
    {
     "name": "stdout",
     "output_type": "stream",
     "text": [
      "The mean math score of those on standard lunch is: 70.03\n",
      "The mean math score of those on free/reduced lunch is: 58.92\n",
      "The mean reading/writing score of those on standard lunch is: 71.24\n",
      "The mean reading/writing score of those on free/reduced lunch is: 63.84\n"
     ]
    }
   ],
   "source": [
    "print('The mean math score of those on standard lunch is:', round(np.mean(not_free['math score']), 2))\n",
    "print('The mean math score of those on free/reduced lunch is:', round(np.mean(free_reduced['math score']), 2))\n",
    "print('The mean reading/writing score of those on standard lunch is:', round(np.mean(not_free['r/w score']), 2))\n",
    "print('The mean reading/writing score of those on free/reduced lunch is:', round(np.mean(free_reduced['r/w score']), 2))"
   ]
  },
  {
   "cell_type": "markdown",
   "metadata": {},
   "source": [
    "There's an over 11 point difference in the mean of the math scores, and around a 7.5 difference in the mean of the reading/writing scores between standard and free/reduced lunch students. The next step is to take a closer look at the overall range and distribution of the scores within these 2 categories."
   ]
  },
  {
   "cell_type": "code",
   "execution_count": 10,
   "metadata": {},
   "outputs": [
    {
     "data": {
      "image/png": "[encoded data removed]",
      "text/plain": [
       "<Figure size 432x288 with 1 Axes>"
      ]
     },
     "metadata": {
      "needs_background": "light"
     },
     "output_type": "display_data"
    }
   ],
   "source": [
    "_ = plt.boxplot([not_free['math score'], free_reduced['math score']])\n",
    "_ = plt.xlabel('Free/Reduced Lunch?')\n",
    "_ = plt.ylabel('Math Test Score')\n",
    "_ = plt.xticks([1, 2], ['Standard', 'Free/Reduced']) \n",
    "plt.show()\n"
   ]
  },
  {
   "cell_type": "code",
   "execution_count": 11,
   "metadata": {},
   "outputs": [
    {
     "data": {
      "image/png": "[encoded data removed]",
      "text/plain": [
       "<Figure size 432x288 with 1 Axes>"
      ]
     },
     "metadata": {
      "needs_background": "light"
     },
     "output_type": "display_data"
    }
   ],
   "source": [
    "_ = plt.boxplot([not_free['r/w score'], free_reduced['r/w score']])\n",
    "_ = plt.xlabel('Free/Reduced Lunch?')\n",
    "_ = plt.ylabel('Reading/Writing Test Score')\n",
    "_ = plt.xticks([1, 2], ['Standard', 'Free/Reduced'])\n",
    "plt.show()"
   ]
  },
  {
   "cell_type": "markdown",
   "metadata": {},
   "source": [
    "There's a clear difference between the performance of those who qualify for free/reduced lunch and those who don't, which is unsurprising.  While free/reduced lunch seems to be a variable that drives test scores, qualifying for free/reduced lunch is often a variable driven by another variable, parental education level.  Next, I want to see just how closely correlated parental education level is to whether one qualifies for free/reduced lunch.\n",
    "I want to do this by looking at each of the subsets for parental education level to determine how many within that subset also qualify for free/reduced lunch. "
   ]
  },
  {
   "cell_type": "code",
   "execution_count": 12,
   "metadata": {},
   "outputs": [
    {
     "data": {
      "image/png": "[encoded data removed]",
      "text/plain": [
       "<Figure size 432x288 with 1 Axes>"
      ]
     },
     "metadata": {
      "needs_background": "light"
     },
     "output_type": "display_data"
    }
   ],
   "source": [
    "#Subsetting the 'parental level of education'\n",
    "master = student_perf[student_perf['parental level of education']==\"master's degree\"]\n",
    "bachelor = student_perf[student_perf['parental level of education']==\"bachelor's degree\"]\n",
    "assoc = student_perf[student_perf['parental level of education']==\"associate's degree\"]\n",
    "some_coll = student_perf[student_perf['parental level of education']=='some college']\n",
    "high_only = student_perf[student_perf['parental level of education']=='high school']\n",
    "some_high = student_perf[student_perf['parental level of education']=='some high school']\n",
    "\n",
    "plt.hist(student_perf['parental level of education'], bins=6)\n",
    "plt.xticks(rotation=90)\n",
    "plt.show()\n",
    "\n",
    "#I want to order these by ascending level of education, but have not figured out how to do that yet."
   ]
  },
  {
   "cell_type": "markdown",
   "metadata": {},
   "source": [
    "The Distribution of the parental level of education column shows over 80% of our student's fall in to the 4 categories within associate's degree and below. \n",
    "What I am most interested in is how much the free/reduced lunch category is determined by parental education level, to see if free/reduced lunch is simply a product of education level in this dataset."
   ]
  },
  {
   "cell_type": "code",
   "execution_count": 13,
   "metadata": {},
   "outputs": [
    {
     "name": "stdout",
     "output_type": "stream",
     "text": [
      "0.5932203389830508\n",
      "0.659217877094972\n"
     ]
    }
   ],
   "source": [
    "print((np.sum(master.lunch=='standard'))/(np.sum(len(master))))\n",
    "print((np.sum(some_high.lunch=='standard'))/(np.sum(len(some_high))))"
   ]
  },
  {
   "cell_type": "markdown",
   "metadata": {},
   "source": [
    "Just by looking at the highest and lowest education levels, there appears to be no relationship between parental level of education and the family income level(which is used to determine free/reduced lunch) in this dataset.\n",
    "That is counter to what the vast majority of previous research in the field shows, but for the sake of the project, I will stick to the information in this dataset and assume there is no correlation here.  Knowing that these are completely independent variables in the dataset, I'll go on to look at the test scores by education level."
   ]
  },
  {
   "cell_type": "code",
   "execution_count": 14,
   "metadata": {},
   "outputs": [
    {
     "data": {
      "image/png": "[encoded data removed]",
      "text/plain": [
       "<Figure size 432x288 with 1 Axes>"
      ]
     },
     "metadata": {
      "needs_background": "light"
     },
     "output_type": "display_data"
    }
   ],
   "source": [
    "ed_list = ['some high school', 'high school', 'some college', \"associate's degree\", \"bachelor's degree\", \"master's degree\"]\n",
    "sns.stripplot(x='parental level of education', y='math score', data=student_perf, marker='.', order=ed_list)\n",
    "plt.xticks(rotation=90)\n",
    "plt.show()"
   ]
  },
  {
   "cell_type": "code",
   "execution_count": 15,
   "metadata": {},
   "outputs": [
    {
     "data": {
      "image/png": "[encoded data removed]",
      "text/plain": [
       "<Figure size 432x288 with 1 Axes>"
      ]
     },
     "metadata": {
      "needs_background": "light"
     },
     "output_type": "display_data"
    }
   ],
   "source": [
    "sns.stripplot(x='parental level of education', y='r/w score', data=student_perf, marker='.', order=ed_list)\n",
    "plt.xticks(rotation=90)\n",
    "plt.show()"
   ]
  },
  {
   "cell_type": "markdown",
   "metadata": {},
   "source": [
    "There does appear to be a slight, but clear movement towards higher scores among the higher education levels, especially in the reading/writing scores.  It seems that high scores in both areas can come from any category of parental education level, but with lower levels of parental level of education, there's a wider range of scores and a number of scores well below the minimums of other groups in the higher education levels. "
   ]
  },
  {
   "cell_type": "code",
   "execution_count": 16,
   "metadata": {},
   "outputs": [
    {
     "name": "stdout",
     "output_type": "stream",
     "text": [
      "65.91\n",
      "63.58\n",
      "69.15\n",
      "70.41\n",
      "73.19\n",
      "75.53\n"
     ]
    }
   ],
   "source": [
    "print(round(np.mean(some_high['r/w score']), 2))\n",
    "print(round(np.mean(high_only['r/w score']), 2))\n",
    "print(round(np.mean(some_coll['r/w score']), 2))\n",
    "print(round(np.mean(assoc['r/w score']), 2))\n",
    "print(round(np.mean(bachelor['r/w score']), 2))\n",
    "print(round(np.mean(master['r/w score']), 2))"
   ]
  },
  {
   "cell_type": "code",
   "execution_count": 17,
   "metadata": {},
   "outputs": [
    {
     "name": "stdout",
     "output_type": "stream",
     "text": [
      "63.5\n",
      "62.14\n",
      "67.13\n",
      "67.88\n",
      "69.39\n",
      "69.75\n"
     ]
    }
   ],
   "source": [
    "print(round(np.mean(some_high['math score']), 2))\n",
    "print(round(np.mean(high_only['math score']), 2))\n",
    "print(round(np.mean(some_coll['math score']), 2))\n",
    "print(round(np.mean(assoc['math score']), 2))\n",
    "print(round(np.mean(bachelor['math score']), 2))\n",
    "print(round(np.mean(master['math score']), 2))"
   ]
  },
  {
   "cell_type": "markdown",
   "metadata": {},
   "source": [
    "Outside of the lowest 2 levels, there does appear to be a gradual increase in the mean as the parental education level, \n",
    "but there are larger increase in both sets from the 2nd to the 3rd levels, and from the 4th to the 5th levels. It may be \n",
    "worth in combining some of our levels, creating 3 total categories; high school and below, some college/associates, and \n",
    "bachelor's/master's for further analysis.  However, either way, we can see a positive correlation here between higher parental levels of education and higher scores.  This time, Reading and writing scores show the larger disparities.\n",
    "\n",
    "The next category to look at is whether a student took completed the test preparation course."
   ]
  },
  {
   "cell_type": "code",
   "execution_count": 18,
   "metadata": {},
   "outputs": [
    {
     "name": "stdout",
     "output_type": "stream",
     "text": [
      "There are 358 students that took the test prep. 642 did not.\n",
      "The mean math score for students who took the prep course: 69.69553072625699\n",
      "The mean math score for students who did NOT take the prep course: 64.0778816199377\n",
      "The mean reading/writing score for students who took the prep course: 74.15642458100558\n",
      "The mean reading/writing score for students who did NOT take the prep course: 65.51947040498442\n"
     ]
    }
   ],
   "source": [
    "prepped = student_perf[student_perf['test preparation course']=='completed']\n",
    "no_prep = student_perf[student_perf['test preparation course']!='completed']\n",
    "\n",
    "print('There are', len(prepped), 'students that took the test prep.', len(no_prep), 'did not.')\n",
    "print('The mean math score for students who took the prep course:', np.mean(prepped['math score']))\n",
    "print('The mean math score for students who did NOT take the prep course:', np.mean(no_prep['math score']))\n",
    "\n",
    "print('The mean reading/writing score for students who took the prep course:', np.mean(prepped['r/w score']))\n",
    "print('The mean reading/writing score for students who did NOT take the prep course:', np.mean(no_prep['r/w score']))"
   ]
  },
  {
   "cell_type": "code",
   "execution_count": 19,
   "metadata": {},
   "outputs": [
    {
     "data": {
      "image/png": "[encoded data removed]",
      "text/plain": [
       "<Figure size 432x288 with 1 Axes>"
      ]
     },
     "metadata": {
      "needs_background": "light"
     },
     "output_type": "display_data"
    }
   ],
   "source": [
    "_ = plt.boxplot([prepped['math score'], no_prep['math score']])\n",
    "_ = plt.xlabel('Completed Test Preparation?')\n",
    "_ = plt.ylabel('Math Test Score')\n",
    "_ = plt.xticks([1, 2], ['completed', 'none'])\n",
    "plt.show()"
   ]
  },
  {
   "cell_type": "code",
   "execution_count": 20,
   "metadata": {},
   "outputs": [
    {
     "data": {
      "image/png": "[encoded data removed]",
      "text/plain": [
       "<Figure size 432x288 with 1 Axes>"
      ]
     },
     "metadata": {
      "needs_background": "light"
     },
     "output_type": "display_data"
    }
   ],
   "source": [
    "_ = plt.boxplot([prepped['r/w score'], no_prep['r/w score']])\n",
    "_ = plt.xlabel('Completed Test Preparation?')\n",
    "_ = plt.ylabel('Reading/Writing Test Score')\n",
    "_ = plt.xticks([1, 2], ['completed', 'none'])\n",
    "plt.show()"
   ]
  },
  {
   "cell_type": "markdown",
   "metadata": {},
   "source": [
    "It's clear that test prep helped, although it wasnt a guarantee of test success. Those who took test_prep scored 5.5 points on average higher on the math test, and 8.5 points on average higher for the reading and writing tests.\n",
    "Like with the free and reduced lunch category, however, whether a student took the test prep course may be a product of another category. "
   ]
  },
  {
   "cell_type": "code",
   "execution_count": 21,
   "metadata": {},
   "outputs": [
    {
     "name": "stdout",
     "output_type": "stream",
     "text": [
      "0.6340782122905028\n",
      "0.645\n"
     ]
    }
   ],
   "source": [
    "print((np.sum(prepped['lunch']=='standard'))/len(prepped))\n",
    "print((np.sum(student_perf['lunch']=='standard'))/len(student_perf))"
   ]
  },
  {
   "cell_type": "code",
   "execution_count": 22,
   "metadata": {},
   "outputs": [
    {
     "name": "stdout",
     "output_type": "stream",
     "text": [
      "0.36901408450704226\n",
      "0.351937984496124\n"
     ]
    }
   ],
   "source": [
    "print((np.sum(free_reduced['test preparation course']=='completed'))/len(free_reduced))\n",
    "print((np.sum(not_free['test preparation course']=='completed'))/len(not_free))"
   ]
  },
  {
   "cell_type": "markdown",
   "metadata": {},
   "source": [
    "The Percentages both ways appear to be extremely similar.  It doesnt appear students were more likely to take the test prep based on whether or not they receive free or reduced lunch, which is determined by family income."
   ]
  },
  {
   "cell_type": "code",
   "execution_count": 23,
   "metadata": {},
   "outputs": [
    {
     "data": {
      "image/png": "[encoded data removed]",
      "text/plain": [
       "<Figure size 432x288 with 1 Axes>"
      ]
     },
     "metadata": {
      "needs_background": "light"
     },
     "output_type": "display_data"
    }
   ],
   "source": [
    "sns.countplot(x=student_perf['parental level of education'], hue=student_perf['test preparation course'], order=ed_list)\n",
    "plt.xticks(rotation=90)\n",
    "plt.show()"
   ]
  },
  {
   "cell_type": "markdown",
   "metadata": {},
   "source": [
    "There is some slight variation, but among all parental education levels, more students did NOT complete the test prep course than did.  Of all the education levels, those on the lowest level (some high school) were actually more likely in our sample to take the prep course than any other group.  This may explain why the average test scores were actually higher among students with parents that had some high school than for students with parents that finished high school, but went no further."
   ]
  },
  {
   "cell_type": "code",
   "execution_count": 24,
   "metadata": {
    "scrolled": true
   },
   "outputs": [
    {
     "data": {
      "image/png": "[encoded data removed]",
      "text/plain": [
       "<Figure size 432x288 with 1 Axes>"
      ]
     },
     "metadata": {
      "needs_background": "light"
     },
     "output_type": "display_data"
    }
   ],
   "source": [
    "group_A = student_perf[student_perf['race/ethnicity']=='group A']\n",
    "group_B = student_perf[student_perf['race/ethnicity']=='group B']\n",
    "group_C = student_perf[student_perf['race/ethnicity']=='group C']\n",
    "group_D = student_perf[student_perf['race/ethnicity']=='group D']\n",
    "group_E = student_perf[student_perf['race/ethnicity']=='group E']\n",
    "\n",
    "_ = plt.boxplot([group_A['math score'], group_B['math score'], group_C['math score'], group_D['math score'], \n",
    "                 group_E['math score']])\n",
    "_ = plt.xticks([1, 2, 3, 4, 5], ['Group A', 'Group B', 'Group C', 'Group D', 'Group E'])\n",
    "plt.show()"
   ]
  },
  {
   "cell_type": "code",
   "execution_count": 25,
   "metadata": {},
   "outputs": [
    {
     "data": {
      "image/png": "[encoded data removed]",
      "text/plain": [
       "<Figure size 432x288 with 1 Axes>"
      ]
     },
     "metadata": {
      "needs_background": "light"
     },
     "output_type": "display_data"
    }
   ],
   "source": [
    "_ = plt.boxplot([group_A['r/w score'], group_B['r/w score'], group_C['r/w score'], group_D['r/w score'], group_E['r/w score']])\n",
    "_ = plt.xticks([1, 2, 3, 4, 5], ['Group A', 'Group B', 'Group C', 'Group D', 'Group E'])\n",
    "plt.show()"
   ]
  },
  {
   "cell_type": "raw",
   "metadata": {},
   "source": [
    "Group E has the highest overall mean test scores, then Group D, then Group C, then Group B, and then Group A.  However, the very lowest individual scores come from groups B and C, who both have outliers on the low end.  In math, the minimum couple of scores in Group D are actually lower than the minimum score in Group A, which is the only group to not have any outliers on the low end in either of the test types."
   ]
  },
  {
   "cell_type": "code",
   "execution_count": null,
   "metadata": {},
   "outputs": [],
   "source": []
  },
  {
   "cell_type": "code",
   "execution_count": 26,
   "metadata": {},
   "outputs": [
    {
     "name": "stdout",
     "output_type": "stream",
     "text": [
      "The average math score for males: 68.72821576763485\n",
      "The average math score for females: 63.633204633204635\n",
      "The average r/w score for males: 64.39211618257261\n",
      "The average r/w score for females:  72.5376447876448\n"
     ]
    }
   ],
   "source": [
    "# finally, just a quick look at how much we should consider gender.\n",
    "\n",
    "males = student_perf[student_perf['gender'] == 'male']\n",
    "females = student_perf[student_perf['gender'] == 'female']\n",
    "print('The average math score for males:', males['math score'].mean())\n",
    "print('The average math score for females:', females['math score'].mean())\n",
    "\n",
    "males = student_perf[student_perf['gender'] == 'male']\n",
    "females = student_perf[student_perf['gender'] == 'female']\n",
    "print('The average r/w score for males:', males['r/w score'].mean())\n",
    "print('The average r/w score for females: ', females['r/w score'].mean())"
   ]
  },
  {
   "cell_type": "markdown",
   "metadata": {},
   "source": [
    "# Conclusion - EDA\n",
    "\n",
    "It seems that all 5 of our features each have an effect on scores for both math and reading/writing. The strongest correlation in scores of our first 3 categories appears to be whether a student qualifies for free and reduced lunch. According to the data, those students who do qualify, and thus are on or below the poverty line, are likely to score almost a whole letter grade lower in math, and more than one full letter grade lower in reading/writing.\n",
    "At the same time, there was also a similar significance in the level of parental education, with students of parents with higher education levels scoring higher than their counterparts.  This however, did not seem as strong as the free and reduced lunch qualifier. I also found that the test preparation course bumped up scores for all categories, particularly when it came to the reading and writing tests.  \n",
    "Lastly, there was also a gradual increase in mean performance moving through the racial categories, starting on A and ending on E, with Group E outperforming Group A by a full letter grade and a half. This proved the largest disparity between groups in any of the 4 categories analyzed."
   ]
  },
  {
   "cell_type": "markdown",
   "metadata": {},
   "source": [
    "# Pre-processing and Training Data Development\n",
    "\n",
    "Next steps include getting dummy variables of our categorical data, Scaling the data, and creating our training and testing splits for modelling."
   ]
  },
  {
   "cell_type": "code",
   "execution_count": 27,
   "metadata": {},
   "outputs": [],
   "source": [
    "from sklearn.preprocessing import StandardScaler\n",
    "from sklearn.model_selection import train_test_split"
   ]
  },
  {
   "cell_type": "code",
   "execution_count": 28,
   "metadata": {},
   "outputs": [
    {
     "data": {
      "text/html": [
       "<div>\n",
       "<style scoped>\n",
       "    .dataframe tbody tr th:only-of-type {\n",
       "        vertical-align: middle;\n",
       "    }\n",
       "\n",
       "    .dataframe tbody tr th {\n",
       "        vertical-align: top;\n",
       "    }\n",
       "\n",
       "    .dataframe thead th {\n",
       "        text-align: right;\n",
       "    }\n",
       "</style>\n",
       "<table border=\"1\" class=\"dataframe\">\n",
       "  <thead>\n",
       "    <tr style=\"text-align: right;\">\n",
       "      <th></th>\n",
       "      <th>standard</th>\n",
       "    </tr>\n",
       "  </thead>\n",
       "  <tbody>\n",
       "    <tr>\n",
       "      <th>0</th>\n",
       "      <td>1</td>\n",
       "    </tr>\n",
       "    <tr>\n",
       "      <th>1</th>\n",
       "      <td>1</td>\n",
       "    </tr>\n",
       "    <tr>\n",
       "      <th>2</th>\n",
       "      <td>1</td>\n",
       "    </tr>\n",
       "    <tr>\n",
       "      <th>3</th>\n",
       "      <td>0</td>\n",
       "    </tr>\n",
       "    <tr>\n",
       "      <th>4</th>\n",
       "      <td>1</td>\n",
       "    </tr>\n",
       "  </tbody>\n",
       "</table>\n",
       "</div>"
      ],
      "text/plain": [
       "   standard\n",
       "0         1\n",
       "1         1\n",
       "2         1\n",
       "3         0\n",
       "4         1"
      ]
     },
     "execution_count": 28,
     "metadata": {},
     "output_type": "execute_result"
    }
   ],
   "source": [
    "dum_lunch = pd.get_dummies(student_perf['lunch'], drop_first=True)\n",
    "dum_lunch.head()"
   ]
  },
  {
   "cell_type": "code",
   "execution_count": 29,
   "metadata": {},
   "outputs": [
    {
     "data": {
      "text/html": [
       "<div>\n",
       "<style scoped>\n",
       "    .dataframe tbody tr th:only-of-type {\n",
       "        vertical-align: middle;\n",
       "    }\n",
       "\n",
       "    .dataframe tbody tr th {\n",
       "        vertical-align: top;\n",
       "    }\n",
       "\n",
       "    .dataframe thead th {\n",
       "        text-align: right;\n",
       "    }\n",
       "</style>\n",
       "<table border=\"1\" class=\"dataframe\">\n",
       "  <thead>\n",
       "    <tr style=\"text-align: right;\">\n",
       "      <th></th>\n",
       "      <th>none</th>\n",
       "    </tr>\n",
       "  </thead>\n",
       "  <tbody>\n",
       "    <tr>\n",
       "      <th>0</th>\n",
       "      <td>1</td>\n",
       "    </tr>\n",
       "    <tr>\n",
       "      <th>1</th>\n",
       "      <td>0</td>\n",
       "    </tr>\n",
       "    <tr>\n",
       "      <th>2</th>\n",
       "      <td>1</td>\n",
       "    </tr>\n",
       "    <tr>\n",
       "      <th>3</th>\n",
       "      <td>1</td>\n",
       "    </tr>\n",
       "    <tr>\n",
       "      <th>4</th>\n",
       "      <td>1</td>\n",
       "    </tr>\n",
       "  </tbody>\n",
       "</table>\n",
       "</div>"
      ],
      "text/plain": [
       "   none\n",
       "0     1\n",
       "1     0\n",
       "2     1\n",
       "3     1\n",
       "4     1"
      ]
     },
     "execution_count": 29,
     "metadata": {},
     "output_type": "execute_result"
    }
   ],
   "source": [
    "dum_prep = pd.get_dummies(student_perf['test preparation course'], drop_first=True)\n",
    "dum_prep.head()"
   ]
  },
  {
   "cell_type": "code",
   "execution_count": 30,
   "metadata": {},
   "outputs": [
    {
     "data": {
      "text/plain": [
       "0      4\n",
       "1      2\n",
       "2      5\n",
       "3      3\n",
       "4      2\n",
       "      ..\n",
       "995    5\n",
       "996    1\n",
       "997    1\n",
       "998    2\n",
       "999    2\n",
       "Name: parental level of education, Length: 1000, dtype: int64"
      ]
     },
     "execution_count": 30,
     "metadata": {},
     "output_type": "execute_result"
    }
   ],
   "source": [
    "parent_ed_map = {\"master's degree\": 5, \"bachelor's degree\": 4, \"associate's degree\": 3, \"some college\": 2, \"high school\": 1, \"some high school\": 0}\n",
    "parent_educ_ord = student_perf['parental level of education'].map(parent_ed_map)\n",
    "parent_educ_ord"
   ]
  },
  {
   "cell_type": "code",
   "execution_count": 31,
   "metadata": {},
   "outputs": [
    {
     "data": {
      "text/html": [
       "<div>\n",
       "<style scoped>\n",
       "    .dataframe tbody tr th:only-of-type {\n",
       "        vertical-align: middle;\n",
       "    }\n",
       "\n",
       "    .dataframe tbody tr th {\n",
       "        vertical-align: top;\n",
       "    }\n",
       "\n",
       "    .dataframe thead th {\n",
       "        text-align: right;\n",
       "    }\n",
       "</style>\n",
       "<table border=\"1\" class=\"dataframe\">\n",
       "  <thead>\n",
       "    <tr style=\"text-align: right;\">\n",
       "      <th></th>\n",
       "      <th>group B</th>\n",
       "      <th>group C</th>\n",
       "      <th>group D</th>\n",
       "      <th>group E</th>\n",
       "    </tr>\n",
       "  </thead>\n",
       "  <tbody>\n",
       "    <tr>\n",
       "      <th>0</th>\n",
       "      <td>1</td>\n",
       "      <td>0</td>\n",
       "      <td>0</td>\n",
       "      <td>0</td>\n",
       "    </tr>\n",
       "    <tr>\n",
       "      <th>1</th>\n",
       "      <td>0</td>\n",
       "      <td>1</td>\n",
       "      <td>0</td>\n",
       "      <td>0</td>\n",
       "    </tr>\n",
       "    <tr>\n",
       "      <th>2</th>\n",
       "      <td>1</td>\n",
       "      <td>0</td>\n",
       "      <td>0</td>\n",
       "      <td>0</td>\n",
       "    </tr>\n",
       "    <tr>\n",
       "      <th>3</th>\n",
       "      <td>0</td>\n",
       "      <td>0</td>\n",
       "      <td>0</td>\n",
       "      <td>0</td>\n",
       "    </tr>\n",
       "    <tr>\n",
       "      <th>4</th>\n",
       "      <td>0</td>\n",
       "      <td>1</td>\n",
       "      <td>0</td>\n",
       "      <td>0</td>\n",
       "    </tr>\n",
       "  </tbody>\n",
       "</table>\n",
       "</div>"
      ],
      "text/plain": [
       "   group B  group C  group D  group E\n",
       "0        1        0        0        0\n",
       "1        0        1        0        0\n",
       "2        1        0        0        0\n",
       "3        0        0        0        0\n",
       "4        0        1        0        0"
      ]
     },
     "execution_count": 31,
     "metadata": {},
     "output_type": "execute_result"
    }
   ],
   "source": [
    "dum_ethnic = pd.get_dummies(student_perf['race/ethnicity'], drop_first=True)\n",
    "dum_ethnic.head()"
   ]
  },
  {
   "cell_type": "code",
   "execution_count": 32,
   "metadata": {},
   "outputs": [],
   "source": [
    "dum_gender = pd.get_dummies(student_perf['gender'], drop_first=True)"
   ]
  },
  {
   "cell_type": "code",
   "execution_count": 33,
   "metadata": {},
   "outputs": [
    {
     "data": {
      "text/html": [
       "<div>\n",
       "<style scoped>\n",
       "    .dataframe tbody tr th:only-of-type {\n",
       "        vertical-align: middle;\n",
       "    }\n",
       "\n",
       "    .dataframe tbody tr th {\n",
       "        vertical-align: top;\n",
       "    }\n",
       "\n",
       "    .dataframe thead th {\n",
       "        text-align: right;\n",
       "    }\n",
       "</style>\n",
       "<table border=\"1\" class=\"dataframe\">\n",
       "  <thead>\n",
       "    <tr style=\"text-align: right;\">\n",
       "      <th></th>\n",
       "      <th>standard</th>\n",
       "      <th>no prep</th>\n",
       "      <th>parental level of education</th>\n",
       "      <th>group B</th>\n",
       "      <th>group C</th>\n",
       "      <th>group D</th>\n",
       "      <th>group E</th>\n",
       "      <th>male</th>\n",
       "    </tr>\n",
       "  </thead>\n",
       "  <tbody>\n",
       "    <tr>\n",
       "      <th>0</th>\n",
       "      <td>1</td>\n",
       "      <td>1</td>\n",
       "      <td>4</td>\n",
       "      <td>1</td>\n",
       "      <td>0</td>\n",
       "      <td>0</td>\n",
       "      <td>0</td>\n",
       "      <td>0</td>\n",
       "    </tr>\n",
       "    <tr>\n",
       "      <th>1</th>\n",
       "      <td>1</td>\n",
       "      <td>0</td>\n",
       "      <td>2</td>\n",
       "      <td>0</td>\n",
       "      <td>1</td>\n",
       "      <td>0</td>\n",
       "      <td>0</td>\n",
       "      <td>0</td>\n",
       "    </tr>\n",
       "    <tr>\n",
       "      <th>2</th>\n",
       "      <td>1</td>\n",
       "      <td>1</td>\n",
       "      <td>5</td>\n",
       "      <td>1</td>\n",
       "      <td>0</td>\n",
       "      <td>0</td>\n",
       "      <td>0</td>\n",
       "      <td>0</td>\n",
       "    </tr>\n",
       "    <tr>\n",
       "      <th>3</th>\n",
       "      <td>0</td>\n",
       "      <td>1</td>\n",
       "      <td>3</td>\n",
       "      <td>0</td>\n",
       "      <td>0</td>\n",
       "      <td>0</td>\n",
       "      <td>0</td>\n",
       "      <td>1</td>\n",
       "    </tr>\n",
       "    <tr>\n",
       "      <th>4</th>\n",
       "      <td>1</td>\n",
       "      <td>1</td>\n",
       "      <td>2</td>\n",
       "      <td>0</td>\n",
       "      <td>1</td>\n",
       "      <td>0</td>\n",
       "      <td>0</td>\n",
       "      <td>1</td>\n",
       "    </tr>\n",
       "  </tbody>\n",
       "</table>\n",
       "</div>"
      ],
      "text/plain": [
       "   standard  no prep  parental level of education  group B  group C  group D  \\\n",
       "0         1        1                            4        1        0        0   \n",
       "1         1        0                            2        0        1        0   \n",
       "2         1        1                            5        1        0        0   \n",
       "3         0        1                            3        0        0        0   \n",
       "4         1        1                            2        0        1        0   \n",
       "\n",
       "   group E  male  \n",
       "0        0     0  \n",
       "1        0     0  \n",
       "2        0     0  \n",
       "3        0     1  \n",
       "4        0     1  "
      ]
     },
     "execution_count": 33,
     "metadata": {},
     "output_type": "execute_result"
    }
   ],
   "source": [
    "dummies = pd.concat([dum_lunch, dum_prep, parent_educ_ord, dum_ethnic, dum_gender], axis = 1)\n",
    "dummies = dummies.rename({'none':'no prep'}, axis = 1)\n",
    "dummies.head()"
   ]
  },
  {
   "cell_type": "code",
   "execution_count": 34,
   "metadata": {},
   "outputs": [],
   "source": [
    "#All of this will have to be repeated with the reading/writing score, but starting with math scores...\n",
    "\n",
    "X = dummies\n",
    "y = student_perf['math score']"
   ]
  },
  {
   "cell_type": "code",
   "execution_count": 35,
   "metadata": {},
   "outputs": [],
   "source": [
    "X_train, X_test, y_train, y_test = train_test_split(X, y, test_size = 0.2, random_state=42)"
   ]
  },
  {
   "cell_type": "markdown",
   "metadata": {},
   "source": [
    "# Modeling\n",
    "It's time to try some models to see how well we can predict student scores based on these main identifiers. Our dependent variable is the test score, which is continuous, so I'll be using regression models.\n"
   ]
  },
  {
   "cell_type": "code",
   "execution_count": 36,
   "metadata": {},
   "outputs": [],
   "source": [
    "from sklearn.linear_model import LinearRegression, LogisticRegression, Ridge, Lasso, ElasticNet\n",
    "from sklearn.metrics import mean_squared_error, r2_score, mean_absolute_error\n",
    "from sklearn.ensemble import RandomForestRegressor\n",
    "from sklearn.dummy import DummyRegressor\n"
   ]
  },
  {
   "cell_type": "markdown",
   "metadata": {},
   "source": [
    "First, I want to see how just randomly picking the mean works as a predictor. I know my models don't work well if they're not doing any better than the Dummy Regressor model."
   ]
  },
  {
   "cell_type": "code",
   "execution_count": 37,
   "metadata": {},
   "outputs": [
    {
     "name": "stdout",
     "output_type": "stream",
     "text": [
      "The R2 score is: -0.01703929204145327\n",
      "The mean absolute error is: 12.339850000000002\n",
      "The mean squared error is: 247.4847140625\n"
     ]
    }
   ],
   "source": [
    "dumb_reg = DummyRegressor(strategy='mean')\n",
    "dumb_reg.fit(X_train, y_train)\n",
    "y_d_pred_temp = dumb_reg.predict(X_train)\n",
    "y_d_pred = y_d_pred_temp[0:200]\n",
    "print('The R2 score is:', r2_score(y_test, y_d_pred))\n",
    "print('The mean absolute error is:', mean_absolute_error(y_test, y_d_pred))\n",
    "print('The mean squared error is:', mean_squared_error(y_test, y_d_pred))"
   ]
  },
  {
   "cell_type": "markdown",
   "metadata": {},
   "source": [
    "Trying Linear Regression first."
   ]
  },
  {
   "cell_type": "code",
   "execution_count": 38,
   "metadata": {},
   "outputs": [
    {
     "name": "stdout",
     "output_type": "stream",
     "text": [
      "The R2 score is: 0.18848589937761584\n",
      "The mean absolute error is: 11.15561540752078\n",
      "The mean squared error is: 197.47254282288995\n"
     ]
    }
   ],
   "source": [
    "regr = LinearRegression()\n",
    "regr.fit(X_train, y_train)\n",
    "y_pred = regr.predict(X_test)\n",
    "print('The R2 score is:', r2_score(y_test, y_pred))\n",
    "print('The mean absolute error is:', mean_absolute_error(y_test, y_pred))\n",
    "print('The mean squared error is:', mean_squared_error(y_test, y_pred))"
   ]
  },
  {
   "cell_type": "markdown",
   "metadata": {},
   "source": [
    "Random Forest Regression"
   ]
  },
  {
   "cell_type": "code",
   "execution_count": 39,
   "metadata": {},
   "outputs": [
    {
     "name": "stdout",
     "output_type": "stream",
     "text": [
      "The R2 score is: -0.015531532053685959\n",
      "The mean absolute error is: 12.33953741009989\n",
      "The mean squared error is: 247.11781815949269\n"
     ]
    }
   ],
   "source": [
    "model = RandomForestRegressor()\n",
    "model.fit(X_train, y_train)\n",
    "y_pred = model.predict(X_test)\n",
    "print('The R2 score is:', r2_score(y_test, y_pred))\n",
    "print('The mean absolute error is:', mean_absolute_error(y_test, y_pred))\n",
    "print('The mean squared error is:', mean_squared_error(y_test, y_pred))"
   ]
  },
  {
   "cell_type": "markdown",
   "metadata": {},
   "source": [
    "Logistic Regression"
   ]
  },
  {
   "cell_type": "code",
   "execution_count": 40,
   "metadata": {},
   "outputs": [
    {
     "name": "stdout",
     "output_type": "stream",
     "text": [
      "The R2 score is: -0.02419100314623579\n",
      "The mean absolute error is: 12.795\n",
      "The mean squared error is: 249.225\n"
     ]
    }
   ],
   "source": [
    "model = LogisticRegression(max_iter=1000)\n",
    "model.fit(X_train, y_train)\n",
    "y_pred = model.predict(X_test)\n",
    "print('The R2 score is:', r2_score(y_test, y_pred))\n",
    "print('The mean absolute error is:', mean_absolute_error(y_test, y_pred))\n",
    "print('The mean squared error is:', mean_squared_error(y_test, y_pred))"
   ]
  },
  {
   "cell_type": "markdown",
   "metadata": {},
   "source": [
    "Ridge"
   ]
  },
  {
   "cell_type": "code",
   "execution_count": 41,
   "metadata": {},
   "outputs": [
    {
     "name": "stdout",
     "output_type": "stream",
     "text": [
      "The R2 score is: 0.18796770726980117\n",
      "The mean absolute error is: 11.161600424757662\n",
      "The mean squared error is: 197.5986388612982\n"
     ]
    }
   ],
   "source": [
    "model = Ridge()\n",
    "model.fit(X_train, y_train)\n",
    "y_pred = model.predict(X_test)\n",
    "print('The R2 score is:', r2_score(y_test, y_pred))\n",
    "print('The mean absolute error is:', mean_absolute_error(y_test, y_pred))\n",
    "print('The mean squared error is:', mean_squared_error(y_test, y_pred))"
   ]
  },
  {
   "cell_type": "markdown",
   "metadata": {},
   "source": [
    "Lasso"
   ]
  },
  {
   "cell_type": "code",
   "execution_count": 42,
   "metadata": {},
   "outputs": [
    {
     "name": "stdout",
     "output_type": "stream",
     "text": [
      "The R2 score is: 0.1250815251485361\n",
      "The mean absolute error is: 11.499214184261996\n",
      "The mean squared error is: 212.90126180079548\n"
     ]
    }
   ],
   "source": [
    "model = Lasso()\n",
    "model.fit(X_train, y_train)\n",
    "y_pred = model.predict(X_test)\n",
    "print('The R2 score is:', r2_score(y_test, y_pred))\n",
    "print('The mean absolute error is:', mean_absolute_error(y_test, y_pred))\n",
    "print('The mean squared error is:', mean_squared_error(y_test, y_pred))"
   ]
  },
  {
   "cell_type": "markdown",
   "metadata": {},
   "source": [
    "ElasticNet"
   ]
  },
  {
   "cell_type": "code",
   "execution_count": 43,
   "metadata": {},
   "outputs": [
    {
     "name": "stdout",
     "output_type": "stream",
     "text": [
      "The R2 score is: 0.09036856479890754\n",
      "The mean absolute error is: 11.740997741425552\n",
      "The mean squared error is: 221.3482580315375\n"
     ]
    }
   ],
   "source": [
    "model = ElasticNet()\n",
    "model.fit(X_train, y_train)\n",
    "y_pred = model.predict(X_test)\n",
    "print('The R2 score is:', r2_score(y_test, y_pred))\n",
    "print('The mean absolute error is:', mean_absolute_error(y_test, y_pred))\n",
    "print('The mean squared error is:', mean_squared_error(y_test, y_pred))"
   ]
  },
  {
   "cell_type": "markdown",
   "metadata": {},
   "source": [
    "Time to repeat, this time with the Reading and Writing Scores."
   ]
  },
  {
   "cell_type": "code",
   "execution_count": 44,
   "metadata": {},
   "outputs": [],
   "source": [
    "X = dummies\n",
    "y = student_perf['r/w score']\n",
    "X_train, X_test, y_train, y_test = train_test_split(X, y, test_size = 0.2, random_state=42)"
   ]
  },
  {
   "cell_type": "markdown",
   "metadata": {},
   "source": [
    "Dummy Regressor"
   ]
  },
  {
   "cell_type": "code",
   "execution_count": 45,
   "metadata": {},
   "outputs": [
    {
     "name": "stdout",
     "output_type": "stream",
     "text": [
      "The R2 score is: -0.017056323720227917\n",
      "The mean absolute error is: 11.9598875\n",
      "The mean squared error is: 231.56213789062497\n"
     ]
    }
   ],
   "source": [
    "dumb_reg = DummyRegressor(strategy='mean')\n",
    "dumb_reg.fit(X_train, y_train)\n",
    "y_d_pred_temp = dumb_reg.predict(X_train)\n",
    "y_d_pred = y_d_pred_temp[0:200]\n",
    "print('The R2 score is:', r2_score(y_test, y_d_pred))\n",
    "print('The mean absolute error is:', mean_absolute_error(y_test, y_d_pred))\n",
    "print('The mean squared error is:', mean_squared_error(y_test, y_d_pred))"
   ]
  },
  {
   "cell_type": "markdown",
   "metadata": {},
   "source": [
    "Linear Regression"
   ]
  },
  {
   "cell_type": "code",
   "execution_count": 46,
   "metadata": {
    "scrolled": true
   },
   "outputs": [
    {
     "name": "stdout",
     "output_type": "stream",
     "text": [
      "The R2 score is: 0.22996223601420085\n",
      "The mean absolute error is: 10.291614676032175\n",
      "The mean squared error is: 175.32125480802588\n"
     ]
    }
   ],
   "source": [
    "regr = LinearRegression()\n",
    "regr.fit(X_train, y_train)\n",
    "y_pred = regr.predict(X_test)\n",
    "print('The R2 score is:', r2_score(y_test, y_pred))\n",
    "print('The mean absolute error is:', mean_absolute_error(y_test, y_pred))\n",
    "print('The mean squared error is:', mean_squared_error(y_test, y_pred))"
   ]
  },
  {
   "cell_type": "markdown",
   "metadata": {},
   "source": [
    "Random Forest Regression"
   ]
  },
  {
   "cell_type": "code",
   "execution_count": 47,
   "metadata": {},
   "outputs": [
    {
     "name": "stdout",
     "output_type": "stream",
     "text": [
      "The R2 score is: 0.03289972473475178\n",
      "The mean absolute error is: 11.464669741970711\n",
      "The mean squared error is: 220.18820597455453\n"
     ]
    }
   ],
   "source": [
    "model = RandomForestRegressor()\n",
    "model.fit(X_train, y_train)\n",
    "y_pred = model.predict(X_test)\n",
    "print('The R2 score is:', r2_score(y_test, y_pred))\n",
    "print('The mean absolute error is:', mean_absolute_error(y_test, y_pred))\n",
    "print('The mean squared error is:', mean_squared_error(y_test, y_pred))"
   ]
  },
  {
   "cell_type": "markdown",
   "metadata": {},
   "source": [
    "Ridge"
   ]
  },
  {
   "cell_type": "code",
   "execution_count": 48,
   "metadata": {},
   "outputs": [
    {
     "name": "stdout",
     "output_type": "stream",
     "text": [
      "The R2 score is: 0.22981524681567878\n",
      "The mean absolute error is: 10.29196633958163\n",
      "The mean squared error is: 175.35472112868362\n"
     ]
    }
   ],
   "source": [
    "model = Ridge()\n",
    "model.fit(X_train, y_train)\n",
    "y_pred = model.predict(X_test)\n",
    "print('The R2 score is:', r2_score(y_test, y_pred))\n",
    "print('The mean absolute error is:', mean_absolute_error(y_test, y_pred))\n",
    "print('The mean squared error is:', mean_squared_error(y_test, y_pred))"
   ]
  },
  {
   "cell_type": "markdown",
   "metadata": {},
   "source": [
    "Lasso"
   ]
  },
  {
   "cell_type": "code",
   "execution_count": 49,
   "metadata": {},
   "outputs": [
    {
     "name": "stdout",
     "output_type": "stream",
     "text": [
      "The R2 score is: 0.17899279222489983\n",
      "The mean absolute error is: 10.696373755305398\n",
      "The mean squared error is: 186.9259153324053\n"
     ]
    }
   ],
   "source": [
    "model = Lasso()\n",
    "model.fit(X_train, y_train)\n",
    "y_pred = model.predict(X_test)\n",
    "print('The R2 score is:', r2_score(y_test, y_pred))\n",
    "print('The mean absolute error is:', mean_absolute_error(y_test, y_pred))\n",
    "print('The mean squared error is:', mean_squared_error(y_test, y_pred))"
   ]
  },
  {
   "cell_type": "markdown",
   "metadata": {},
   "source": [
    "ElasticNet"
   ]
  },
  {
   "cell_type": "code",
   "execution_count": 50,
   "metadata": {},
   "outputs": [
    {
     "name": "stdout",
     "output_type": "stream",
     "text": [
      "The R2 score is: 0.12051993709303122\n",
      "The mean absolute error is: 11.120150341020022\n",
      "The mean squared error is: 200.2389433595816\n"
     ]
    }
   ],
   "source": [
    "model = ElasticNet()\n",
    "model.fit(X_train, y_train)\n",
    "y_pred = model.predict(X_test)\n",
    "print('The R2 score is:', r2_score(y_test, y_pred))\n",
    "print('The mean absolute error is:', mean_absolute_error(y_test, y_pred))\n",
    "print('The mean squared error is:', mean_squared_error(y_test, y_pred))"
   ]
  },
  {
   "cell_type": "markdown",
   "metadata": {},
   "source": [
    "# Initial Conclusions: Modeling\n",
    "\n",
    "Unfortunately, none of the models were overly successful at predicting scores of either kind, with a couple of them actually performing worse than if we had simply picked the mean as a prediction. On both tests, the best predictors were the Linear Regression and Ridge Regression Models. The random Forest Regressor and Logistic Regression models performed the worst. However, the best R2 score we received was just below 0.23 and the lowest mean absolute error was 10.29 from both our Ridge and Linear Regression models, when used on the reading/writing scores.  When used on the math scores, the mean absolute error increased slightly to 11.16. \n",
    "\n",
    "What I'd like to see now is if the model can be more accurate if I adjust the features used.  I'm going to start by eliminating a feature, starting with the ethnic group variable. This will leave me with 4 features for modeling purposes. \n"
   ]
  },
  {
   "cell_type": "code",
   "execution_count": 51,
   "metadata": {},
   "outputs": [],
   "source": [
    "X = dummies.drop(['group B', 'group C', 'group D', 'group E'], axis=1)\n",
    "y = student_perf['math score']\n",
    "X_train, X_test, y_train, y_test = train_test_split(X, y, test_size = 0.2, random_state=42)"
   ]
  },
  {
   "cell_type": "code",
   "execution_count": 52,
   "metadata": {},
   "outputs": [
    {
     "name": "stdout",
     "output_type": "stream",
     "text": [
      "The R2 score is: 0.17102521705524554\n",
      "The mean absolute error is: 11.329510629855287\n",
      "The mean squared error is: 201.72139732212383\n"
     ]
    }
   ],
   "source": [
    "regr = LinearRegression()\n",
    "regr.fit(X_train, y_train)\n",
    "y_pred = regr.predict(X_test)\n",
    "print('The R2 score is:', r2_score(y_test, y_pred))\n",
    "print('The mean absolute error is:', mean_absolute_error(y_test, y_pred))\n",
    "print('The mean squared error is:', mean_squared_error(y_test, y_pred))"
   ]
  },
  {
   "cell_type": "markdown",
   "metadata": {},
   "source": [
    "Random Forest Regression"
   ]
  },
  {
   "cell_type": "code",
   "execution_count": 53,
   "metadata": {},
   "outputs": [
    {
     "name": "stdout",
     "output_type": "stream",
     "text": [
      "The R2 score is: 0.10929548015893498\n",
      "The mean absolute error is: 11.677396466702776\n",
      "The mean squared error is: 216.74261273089303\n"
     ]
    }
   ],
   "source": [
    "model = RandomForestRegressor()\n",
    "model.fit(X_train, y_train)\n",
    "y_pred = model.predict(X_test)\n",
    "print('The R2 score is:', r2_score(y_test, y_pred))\n",
    "print('The mean absolute error is:', mean_absolute_error(y_test, y_pred))\n",
    "print('The mean squared error is:', mean_squared_error(y_test, y_pred))"
   ]
  },
  {
   "cell_type": "markdown",
   "metadata": {},
   "source": [
    "Ridge"
   ]
  },
  {
   "cell_type": "code",
   "execution_count": 54,
   "metadata": {},
   "outputs": [
    {
     "name": "stdout",
     "output_type": "stream",
     "text": [
      "The R2 score is: 0.17134580631954366\n",
      "The mean absolute error is: 11.327340465567888\n",
      "The mean squared error is: 201.64338564349237\n"
     ]
    }
   ],
   "source": [
    "model = Ridge()\n",
    "model.fit(X_train, y_train)\n",
    "y_pred = model.predict(X_test)\n",
    "print('The R2 score is:', r2_score(y_test, y_pred))\n",
    "print('The mean absolute error is:', mean_absolute_error(y_test, y_pred))\n",
    "print('The mean squared error is:', mean_squared_error(y_test, y_pred))"
   ]
  },
  {
   "cell_type": "markdown",
   "metadata": {},
   "source": [
    "Lasso"
   ]
  },
  {
   "cell_type": "code",
   "execution_count": 55,
   "metadata": {},
   "outputs": [
    {
     "name": "stdout",
     "output_type": "stream",
     "text": [
      "The R2 score is: 0.12313340546857732\n",
      "The mean absolute error is: 11.515086528499573\n",
      "The mean squared error is: 213.37531412672513\n"
     ]
    }
   ],
   "source": [
    "model = Lasso()\n",
    "model.fit(X_train, y_train)\n",
    "y_pred = model.predict(X_test)\n",
    "print('The R2 score is:', r2_score(y_test, y_pred))\n",
    "print('The mean absolute error is:', mean_absolute_error(y_test, y_pred))\n",
    "print('The mean squared error is:', mean_squared_error(y_test, y_pred))"
   ]
  },
  {
   "cell_type": "markdown",
   "metadata": {},
   "source": [
    "ElasticNet"
   ]
  },
  {
   "cell_type": "code",
   "execution_count": 56,
   "metadata": {},
   "outputs": [
    {
     "name": "stdout",
     "output_type": "stream",
     "text": [
      "The R2 score is: 0.08538846966279467\n",
      "The mean absolute error is: 11.772463403258232\n",
      "The mean squared error is: 222.560106413807\n"
     ]
    }
   ],
   "source": [
    "model = ElasticNet()\n",
    "model.fit(X_train, y_train)\n",
    "y_pred = model.predict(X_test)\n",
    "print('The R2 score is:', r2_score(y_test, y_pred))\n",
    "print('The mean absolute error is:', mean_absolute_error(y_test, y_pred))\n",
    "print('The mean squared error is:', mean_squared_error(y_test, y_pred))"
   ]
  },
  {
   "cell_type": "markdown",
   "metadata": {},
   "source": [
    "This made the model perform worse in most cases.  Next, I'll leave out the column with parental education level."
   ]
  },
  {
   "cell_type": "code",
   "execution_count": 57,
   "metadata": {},
   "outputs": [],
   "source": [
    "X = dummies.drop('parental level of education', axis = 1)\n",
    "y = student_perf['math score']\n",
    "X_train, X_test, y_train, y_test = train_test_split(X, y, test_size = 0.2, random_state=42)"
   ]
  },
  {
   "cell_type": "code",
   "execution_count": 58,
   "metadata": {},
   "outputs": [
    {
     "name": "stdout",
     "output_type": "stream",
     "text": [
      "The R2 score is: 0.13442131570359606\n",
      "The mean absolute error is: 11.467453213810721\n",
      "The mean squared error is: 210.62853211079207\n"
     ]
    }
   ],
   "source": [
    "regr = LinearRegression()\n",
    "regr.fit(X_train, y_train)\n",
    "y_pred = regr.predict(X_test)\n",
    "print('The R2 score is:', r2_score(y_test, y_pred))\n",
    "print('The mean absolute error is:', mean_absolute_error(y_test, y_pred))\n",
    "print('The mean squared error is:', mean_squared_error(y_test, y_pred))"
   ]
  },
  {
   "cell_type": "markdown",
   "metadata": {},
   "source": [
    "Random Forest Regression"
   ]
  },
  {
   "cell_type": "code",
   "execution_count": 59,
   "metadata": {},
   "outputs": [
    {
     "name": "stdout",
     "output_type": "stream",
     "text": [
      "The R2 score is: 0.11202837751080219\n",
      "The mean absolute error is: 11.50327311059471\n",
      "The mean squared error is: 216.0775938619254\n"
     ]
    }
   ],
   "source": [
    "model = RandomForestRegressor()\n",
    "model.fit(X_train, y_train)\n",
    "y_pred = model.predict(X_test)\n",
    "print('The R2 score is:', r2_score(y_test, y_pred))\n",
    "print('The mean absolute error is:', mean_absolute_error(y_test, y_pred))\n",
    "print('The mean squared error is:', mean_squared_error(y_test, y_pred))"
   ]
  },
  {
   "cell_type": "markdown",
   "metadata": {},
   "source": [
    "Ridge"
   ]
  },
  {
   "cell_type": "code",
   "execution_count": 60,
   "metadata": {},
   "outputs": [
    {
     "name": "stdout",
     "output_type": "stream",
     "text": [
      "The R2 score is: 0.13379235567783965\n",
      "The mean absolute error is: 11.474547801510752\n",
      "The mean squared error is: 210.7815822371236\n"
     ]
    }
   ],
   "source": [
    "model = Ridge()\n",
    "model.fit(X_train, y_train)\n",
    "y_pred = model.predict(X_test)\n",
    "print('The R2 score is:', r2_score(y_test, y_pred))\n",
    "print('The mean absolute error is:', mean_absolute_error(y_test, y_pred))\n",
    "print('The mean squared error is:', mean_squared_error(y_test, y_pred))"
   ]
  },
  {
   "cell_type": "markdown",
   "metadata": {},
   "source": [
    "Lasso"
   ]
  },
  {
   "cell_type": "code",
   "execution_count": 61,
   "metadata": {},
   "outputs": [
    {
     "name": "stdout",
     "output_type": "stream",
     "text": [
      "The R2 score is: 0.08511819904588047\n",
      "The mean absolute error is: 11.725093422856105\n",
      "The mean squared error is: 222.62587363329393\n"
     ]
    }
   ],
   "source": [
    "model = Lasso()\n",
    "model.fit(X_train, y_train)\n",
    "y_pred = model.predict(X_test)\n",
    "print('The R2 score is:', r2_score(y_test, y_pred))\n",
    "print('The mean absolute error is:', mean_absolute_error(y_test, y_pred))\n",
    "print('The mean squared error is:', mean_squared_error(y_test, y_pred))"
   ]
  },
  {
   "cell_type": "markdown",
   "metadata": {},
   "source": [
    "ElasticNet"
   ]
  },
  {
   "cell_type": "code",
   "execution_count": 62,
   "metadata": {},
   "outputs": [
    {
     "name": "stdout",
     "output_type": "stream",
     "text": [
      "The R2 score is: 0.052812827273727936\n",
      "The mean absolute error is: 11.914920514985992\n",
      "The mean squared error is: 230.4870111117347\n"
     ]
    }
   ],
   "source": [
    "model = ElasticNet()\n",
    "model.fit(X_train, y_train)\n",
    "y_pred = model.predict(X_test)\n",
    "print('The R2 score is:', r2_score(y_test, y_pred))\n",
    "print('The mean absolute error is:', mean_absolute_error(y_test, y_pred))\n",
    "print('The mean squared error is:', mean_squared_error(y_test, y_pred))"
   ]
  },
  {
   "cell_type": "markdown",
   "metadata": {},
   "source": [
    "The model also gets worse after parental level of education is removed. Removing Standard or free lunch."
   ]
  },
  {
   "cell_type": "code",
   "execution_count": 63,
   "metadata": {},
   "outputs": [],
   "source": [
    "X = dummies.drop('standard', axis = 1)\n",
    "y = student_perf['math score']\n",
    "X_train, X_test, y_train, y_test = train_test_split(X, y, test_size = 0.2, random_state=42)"
   ]
  },
  {
   "cell_type": "code",
   "execution_count": 64,
   "metadata": {},
   "outputs": [
    {
     "name": "stdout",
     "output_type": "stream",
     "text": [
      "The R2 score is: 0.12938396326505786\n",
      "The mean absolute error is: 11.453191018584743\n",
      "The mean squared error is: 211.85431339342205\n"
     ]
    }
   ],
   "source": [
    "regr = LinearRegression()\n",
    "regr.fit(X_train, y_train)\n",
    "y_pred = regr.predict(X_test)\n",
    "print('The R2 score is:', r2_score(y_test, y_pred))\n",
    "print('The mean absolute error is:', mean_absolute_error(y_test, y_pred))\n",
    "print('The mean squared error is:', mean_squared_error(y_test, y_pred))"
   ]
  },
  {
   "cell_type": "markdown",
   "metadata": {},
   "source": [
    "Random Forest Regression"
   ]
  },
  {
   "cell_type": "code",
   "execution_count": 65,
   "metadata": {},
   "outputs": [
    {
     "name": "stdout",
     "output_type": "stream",
     "text": [
      "The R2 score is: -0.0609884265413525\n",
      "The mean absolute error is: 12.415267982847384\n",
      "The mean squared error is: 258.17922613309025\n"
     ]
    }
   ],
   "source": [
    "model = RandomForestRegressor()\n",
    "model.fit(X_train, y_train)\n",
    "y_pred = model.predict(X_test)\n",
    "print('The R2 score is:', r2_score(y_test, y_pred))\n",
    "print('The mean absolute error is:', mean_absolute_error(y_test, y_pred))\n",
    "print('The mean squared error is:', mean_squared_error(y_test, y_pred))"
   ]
  },
  {
   "cell_type": "markdown",
   "metadata": {},
   "source": [
    "Ridge"
   ]
  },
  {
   "cell_type": "code",
   "execution_count": 66,
   "metadata": {},
   "outputs": [
    {
     "name": "stdout",
     "output_type": "stream",
     "text": [
      "The R2 score is: 0.12809291398619216\n",
      "The mean absolute error is: 11.464078291460659\n",
      "The mean squared error is: 212.16847525926238\n"
     ]
    }
   ],
   "source": [
    "model = Ridge()\n",
    "model.fit(X_train, y_train)\n",
    "y_pred = model.predict(X_test)\n",
    "print('The R2 score is:', r2_score(y_test, y_pred))\n",
    "print('The mean absolute error is:', mean_absolute_error(y_test, y_pred))\n",
    "print('The mean squared error is:', mean_squared_error(y_test, y_pred))"
   ]
  },
  {
   "cell_type": "markdown",
   "metadata": {},
   "source": [
    "Lasso"
   ]
  },
  {
   "cell_type": "code",
   "execution_count": 67,
   "metadata": {},
   "outputs": [
    {
     "name": "stdout",
     "output_type": "stream",
     "text": [
      "The R2 score is: 0.041143018219492955\n",
      "The mean absolute error is: 12.055316127203673\n",
      "The mean squared error is: 233.32672377529772\n"
     ]
    }
   ],
   "source": [
    "model = Lasso()\n",
    "model.fit(X_train, y_train)\n",
    "y_pred = model.predict(X_test)\n",
    "print('The R2 score is:', r2_score(y_test, y_pred))\n",
    "print('The mean absolute error is:', mean_absolute_error(y_test, y_pred))\n",
    "print('The mean squared error is:', mean_squared_error(y_test, y_pred))"
   ]
  },
  {
   "cell_type": "markdown",
   "metadata": {},
   "source": [
    "ElasticNet"
   ]
  },
  {
   "cell_type": "code",
   "execution_count": 68,
   "metadata": {},
   "outputs": [
    {
     "name": "stdout",
     "output_type": "stream",
     "text": [
      "The R2 score is: 0.04378049391465888\n",
      "The mean absolute error is: 12.039422538041181\n",
      "The mean squared error is: 232.68492465959716\n"
     ]
    }
   ],
   "source": [
    "model = ElasticNet()\n",
    "model.fit(X_train, y_train)\n",
    "y_pred = model.predict(X_test)\n",
    "print('The R2 score is:', r2_score(y_test, y_pred))\n",
    "print('The mean absolute error is:', mean_absolute_error(y_test, y_pred))\n",
    "print('The mean squared error is:', mean_squared_error(y_test, y_pred))"
   ]
  },
  {
   "cell_type": "markdown",
   "metadata": {},
   "source": [
    "The models also get worse without the Lunch variable. The last of the 4 to remove is the test prep course variable."
   ]
  },
  {
   "cell_type": "code",
   "execution_count": 69,
   "metadata": {},
   "outputs": [],
   "source": [
    "X = dummies.drop('no prep', axis = 1)\n",
    "y = student_perf['math score']\n",
    "X_train, X_test, y_train, y_test = train_test_split(X, y, test_size = 0.2, random_state=42)"
   ]
  },
  {
   "cell_type": "code",
   "execution_count": 70,
   "metadata": {},
   "outputs": [
    {
     "name": "stdout",
     "output_type": "stream",
     "text": [
      "The R2 score is: 0.17439399828703617\n",
      "The mean absolute error is: 11.013917874260802\n",
      "The mean squared error is: 200.90164348722988\n"
     ]
    }
   ],
   "source": [
    "regr = LinearRegression()\n",
    "regr.fit(X_train, y_train)\n",
    "y_pred = regr.predict(X_test)\n",
    "print('The R2 score is:', r2_score(y_test, y_pred))\n",
    "print('The mean absolute error is:', mean_absolute_error(y_test, y_pred))\n",
    "print('The mean squared error is:', mean_squared_error(y_test, y_pred))"
   ]
  },
  {
   "cell_type": "markdown",
   "metadata": {},
   "source": [
    "Random Forest Regression"
   ]
  },
  {
   "cell_type": "code",
   "execution_count": 71,
   "metadata": {},
   "outputs": [
    {
     "name": "stdout",
     "output_type": "stream",
     "text": [
      "The R2 score is: 0.031616256116042574\n",
      "The mean absolute error is: 12.001924860558102\n",
      "The mean squared error is: 235.644950822732\n"
     ]
    }
   ],
   "source": [
    "model = RandomForestRegressor()\n",
    "model.fit(X_train, y_train)\n",
    "y_pred = model.predict(X_test)\n",
    "print('The R2 score is:', r2_score(y_test, y_pred))\n",
    "print('The mean absolute error is:', mean_absolute_error(y_test, y_pred))\n",
    "print('The mean squared error is:', mean_squared_error(y_test, y_pred))"
   ]
  },
  {
   "cell_type": "markdown",
   "metadata": {},
   "source": [
    "Ridge"
   ]
  },
  {
   "cell_type": "code",
   "execution_count": 72,
   "metadata": {},
   "outputs": [
    {
     "name": "stdout",
     "output_type": "stream",
     "text": [
      "The R2 score is: 0.17369335413271092\n",
      "The mean absolute error is: 11.023195267382878\n",
      "The mean squared error is: 201.07213711471275\n"
     ]
    }
   ],
   "source": [
    "model = Ridge()\n",
    "model.fit(X_train, y_train)\n",
    "y_pred = model.predict(X_test)\n",
    "print('The R2 score is:', r2_score(y_test, y_pred))\n",
    "print('The mean absolute error is:', mean_absolute_error(y_test, y_pred))\n",
    "print('The mean squared error is:', mean_squared_error(y_test, y_pred))"
   ]
  },
  {
   "cell_type": "markdown",
   "metadata": {},
   "source": [
    "Lasso"
   ]
  },
  {
   "cell_type": "code",
   "execution_count": 73,
   "metadata": {},
   "outputs": [
    {
     "name": "stdout",
     "output_type": "stream",
     "text": [
      "The R2 score is: 0.11631738838938988\n",
      "The mean absolute error is: 11.501673386293916\n",
      "The mean squared error is: 215.0339128171473\n"
     ]
    }
   ],
   "source": [
    "model = Lasso()\n",
    "model.fit(X_train, y_train)\n",
    "y_pred = model.predict(X_test)\n",
    "print('The R2 score is:', r2_score(y_test, y_pred))\n",
    "print('The mean absolute error is:', mean_absolute_error(y_test, y_pred))\n",
    "print('The mean squared error is:', mean_squared_error(y_test, y_pred))"
   ]
  },
  {
   "cell_type": "markdown",
   "metadata": {},
   "source": [
    "ElasticNet"
   ]
  },
  {
   "cell_type": "code",
   "execution_count": 74,
   "metadata": {},
   "outputs": [
    {
     "name": "stdout",
     "output_type": "stream",
     "text": [
      "The R2 score is: 0.08309313867895896\n",
      "The mean absolute error is: 11.777112702150434\n",
      "The mean squared error is: 223.11864858288402\n"
     ]
    }
   ],
   "source": [
    "model = ElasticNet()\n",
    "model.fit(X_train, y_train)\n",
    "y_pred = model.predict(X_test)\n",
    "print('The R2 score is:', r2_score(y_test, y_pred))\n",
    "print('The mean absolute error is:', mean_absolute_error(y_test, y_pred))\n",
    "print('The mean squared error is:', mean_squared_error(y_test, y_pred))"
   ]
  },
  {
   "cell_type": "markdown",
   "metadata": {},
   "source": [
    "Removing the test prep variable made the least amount of difference so far, but the model still slightly declined, so it performs better with the variable still in there. The last one is to remove gender from the equation."
   ]
  },
  {
   "cell_type": "code",
   "execution_count": 75,
   "metadata": {},
   "outputs": [],
   "source": [
    "X = dummies.drop('male', axis = 1)\n",
    "y = student_perf['math score']\n",
    "X_train, X_test, y_train, y_test = train_test_split(X, y, test_size = 0.2, random_state=42)"
   ]
  },
  {
   "cell_type": "code",
   "execution_count": 76,
   "metadata": {},
   "outputs": [
    {
     "name": "stdout",
     "output_type": "stream",
     "text": [
      "The R2 score is: 0.14588626468794297\n",
      "The mean absolute error is: 11.53126182993281\n",
      "The mean squared error is: 207.83866976885946\n"
     ]
    }
   ],
   "source": [
    "regr = LinearRegression()\n",
    "regr.fit(X_train, y_train)\n",
    "y_pred = regr.predict(X_test)\n",
    "print('The R2 score is:', r2_score(y_test, y_pred))\n",
    "print('The mean absolute error is:', mean_absolute_error(y_test, y_pred))\n",
    "print('The mean squared error is:', mean_squared_error(y_test, y_pred))"
   ]
  },
  {
   "cell_type": "markdown",
   "metadata": {},
   "source": [
    "Random Forest Regression"
   ]
  },
  {
   "cell_type": "code",
   "execution_count": 77,
   "metadata": {},
   "outputs": [
    {
     "name": "stdout",
     "output_type": "stream",
     "text": [
      "The R2 score is: -0.03711607782308879\n",
      "The mean absolute error is: 12.343562671126715\n",
      "The mean squared error is: 252.3701669917459\n"
     ]
    }
   ],
   "source": [
    "model = RandomForestRegressor()\n",
    "model.fit(X_train, y_train)\n",
    "y_pred = model.predict(X_test)\n",
    "print('The R2 score is:', r2_score(y_test, y_pred))\n",
    "print('The mean absolute error is:', mean_absolute_error(y_test, y_pred))\n",
    "print('The mean squared error is:', mean_squared_error(y_test, y_pred))"
   ]
  },
  {
   "cell_type": "markdown",
   "metadata": {},
   "source": [
    "Ridge"
   ]
  },
  {
   "cell_type": "code",
   "execution_count": 78,
   "metadata": {},
   "outputs": [
    {
     "name": "stdout",
     "output_type": "stream",
     "text": [
      "The R2 score is: 0.14564177486294894\n",
      "The mean absolute error is: 11.53215403703216\n",
      "The mean squared error is: 207.8981635316898\n"
     ]
    }
   ],
   "source": [
    "model = Ridge()\n",
    "model.fit(X_train, y_train)\n",
    "y_pred = model.predict(X_test)\n",
    "print('The R2 score is:', r2_score(y_test, y_pred))\n",
    "print('The mean absolute error is:', mean_absolute_error(y_test, y_pred))\n",
    "print('The mean squared error is:', mean_squared_error(y_test, y_pred))"
   ]
  },
  {
   "cell_type": "markdown",
   "metadata": {},
   "source": [
    "Lasso"
   ]
  },
  {
   "cell_type": "code",
   "execution_count": 79,
   "metadata": {},
   "outputs": [
    {
     "name": "stdout",
     "output_type": "stream",
     "text": [
      "The R2 score is: 0.11691387514397289\n",
      "The mean absolute error is: 11.543313499129226\n",
      "The mean squared error is: 214.8887646846659\n"
     ]
    }
   ],
   "source": [
    "model = Lasso()\n",
    "model.fit(X_train, y_train)\n",
    "y_pred = model.predict(X_test)\n",
    "print('The R2 score is:', r2_score(y_test, y_pred))\n",
    "print('The mean absolute error is:', mean_absolute_error(y_test, y_pred))\n",
    "print('The mean squared error is:', mean_squared_error(y_test, y_pred))"
   ]
  },
  {
   "cell_type": "markdown",
   "metadata": {},
   "source": [
    "ElasticNet"
   ]
  },
  {
   "cell_type": "code",
   "execution_count": 80,
   "metadata": {},
   "outputs": [
    {
     "name": "stdout",
     "output_type": "stream",
     "text": [
      "The R2 score is: 0.07827834785367394\n",
      "The mean absolute error is: 11.800577070013851\n",
      "The mean squared error is: 224.29027207864354\n"
     ]
    }
   ],
   "source": [
    "model = ElasticNet()\n",
    "model.fit(X_train, y_train)\n",
    "y_pred = model.predict(X_test)\n",
    "print('The R2 score is:', r2_score(y_test, y_pred))\n",
    "print('The mean absolute error is:', mean_absolute_error(y_test, y_pred))\n",
    "print('The mean squared error is:', mean_squared_error(y_test, y_pred))"
   ]
  },
  {
   "cell_type": "markdown",
   "metadata": {},
   "source": [
    "Taking gender out doesn't help either. The models work best using all 5 of our original features.  I did see before, however, that the mean scores of those on free/reduced lunch were at on the whole 10-15% lower than those on standard lunch.  Let's try simply using Lunch as the only feature of our model.\n"
   ]
  },
  {
   "cell_type": "code",
   "execution_count": 81,
   "metadata": {},
   "outputs": [],
   "source": [
    "X = np.array(dummies['standard']).reshape(-1,1)\n",
    "y = student_perf['math score']\n",
    "X_train, X_test, y_train, y_test = train_test_split(X, y, test_size = 0.2, random_state=42)\n"
   ]
  },
  {
   "cell_type": "code",
   "execution_count": 82,
   "metadata": {},
   "outputs": [
    {
     "name": "stdout",
     "output_type": "stream",
     "text": [
      "The R2 score is: 0.06826307265717213\n",
      "The mean absolute error is: 11.764665391969407\n",
      "The mean squared error is: 226.72737312051999\n"
     ]
    }
   ],
   "source": [
    "regr = LinearRegression()\n",
    "regr.fit(X_train, y_train)\n",
    "y_pred = regr.predict(X_test)\n",
    "print('The R2 score is:', r2_score(y_test, y_pred))\n",
    "print('The mean absolute error is:', mean_absolute_error(y_test, y_pred))\n",
    "print('The mean squared error is:', mean_squared_error(y_test, y_pred))"
   ]
  },
  {
   "cell_type": "markdown",
   "metadata": {},
   "source": [
    "Random Forest Regression"
   ]
  },
  {
   "cell_type": "code",
   "execution_count": 83,
   "metadata": {},
   "outputs": [
    {
     "name": "stdout",
     "output_type": "stream",
     "text": [
      "The R2 score is: 0.0685257795094808\n",
      "The mean absolute error is: 11.763264324923902\n",
      "The mean squared error is: 226.66344645541017\n"
     ]
    }
   ],
   "source": [
    "model = RandomForestRegressor()\n",
    "model.fit(X_train, y_train)\n",
    "y_pred = model.predict(X_test)\n",
    "print('The R2 score is:', r2_score(y_test, y_pred))\n",
    "print('The mean absolute error is:', mean_absolute_error(y_test, y_pred))\n",
    "print('The mean squared error is:', mean_squared_error(y_test, y_pred))"
   ]
  },
  {
   "cell_type": "markdown",
   "metadata": {},
   "source": [
    "Ridge"
   ]
  },
  {
   "cell_type": "code",
   "execution_count": 84,
   "metadata": {},
   "outputs": [
    {
     "name": "stdout",
     "output_type": "stream",
     "text": [
      "The R2 score is: 0.0685125762003631\n",
      "The mean absolute error is: 11.763128076281484\n",
      "The mean squared error is: 226.66665932752557\n"
     ]
    }
   ],
   "source": [
    "model = Ridge()\n",
    "model.fit(X_train, y_train)\n",
    "y_pred = model.predict(X_test)\n",
    "print('The R2 score is:', r2_score(y_test, y_pred))\n",
    "print('The mean absolute error is:', mean_absolute_error(y_test, y_pred))\n",
    "print('The mean squared error is:', mean_squared_error(y_test, y_pred))"
   ]
  },
  {
   "cell_type": "markdown",
   "metadata": {},
   "source": [
    "Lasso"
   ]
  },
  {
   "cell_type": "code",
   "execution_count": 85,
   "metadata": {},
   "outputs": [
    {
     "name": "stdout",
     "output_type": "stream",
     "text": [
      "The R2 score is: 0.06668360622032299\n",
      "The mean absolute error is: 11.7740457372421\n",
      "The mean squared error is: 227.11171795611656\n"
     ]
    }
   ],
   "source": [
    "model = Lasso()\n",
    "model.fit(X_train, y_train)\n",
    "y_pred = model.predict(X_test)\n",
    "print('The R2 score is:', r2_score(y_test, y_pred))\n",
    "print('The mean absolute error is:', mean_absolute_error(y_test, y_pred))\n",
    "print('The mean squared error is:', mean_squared_error(y_test, y_pred))"
   ]
  },
  {
   "cell_type": "markdown",
   "metadata": {},
   "source": [
    "ElasticNet"
   ]
  },
  {
   "cell_type": "code",
   "execution_count": 86,
   "metadata": {},
   "outputs": [
    {
     "name": "stdout",
     "output_type": "stream",
     "text": [
      "The R2 score is: 0.029241151029509638\n",
      "The mean absolute error is: 12.039080411555032\n",
      "The mean squared error is: 236.22290509432077\n"
     ]
    }
   ],
   "source": [
    "model = ElasticNet()\n",
    "model.fit(X_train, y_train)\n",
    "y_pred = model.predict(X_test)\n",
    "print('The R2 score is:', r2_score(y_test, y_pred))\n",
    "print('The mean absolute error is:', mean_absolute_error(y_test, y_pred))\n",
    "print('The mean squared error is:', mean_squared_error(y_test, y_pred))"
   ]
  },
  {
   "cell_type": "markdown",
   "metadata": {},
   "source": [
    "This did not work as well.  The Regression models work best with all 5 of our original variables being utilized.\n",
    "\n",
    "The next thing I'd like to try is to divide the student scores in to 2 categorical variables of simply \"pass\" and \"fail\", and see how well classification models can predict passes and fails.  I'll be using 70 as the minimum score for passing the test."
   ]
  },
  {
   "cell_type": "code",
   "execution_count": 87,
   "metadata": {},
   "outputs": [],
   "source": [
    "student_perf['math pass/fail'] = student_perf['math score'].apply(lambda x: 1 if x >= 70 else 0)  \n",
    "student_perf['r/w pass/fail'] = student_perf['r/w score'].apply(lambda x: 1 if x >= 70 else 0)"
   ]
  },
  {
   "cell_type": "code",
   "execution_count": 88,
   "metadata": {},
   "outputs": [
    {
     "data": {
      "text/html": [
       "<div>\n",
       "<style scoped>\n",
       "    .dataframe tbody tr th:only-of-type {\n",
       "        vertical-align: middle;\n",
       "    }\n",
       "\n",
       "    .dataframe tbody tr th {\n",
       "        vertical-align: top;\n",
       "    }\n",
       "\n",
       "    .dataframe thead th {\n",
       "        text-align: right;\n",
       "    }\n",
       "</style>\n",
       "<table border=\"1\" class=\"dataframe\">\n",
       "  <thead>\n",
       "    <tr style=\"text-align: right;\">\n",
       "      <th></th>\n",
       "      <th>gender</th>\n",
       "      <th>race/ethnicity</th>\n",
       "      <th>parental level of education</th>\n",
       "      <th>lunch</th>\n",
       "      <th>test preparation course</th>\n",
       "      <th>math score</th>\n",
       "      <th>reading score</th>\n",
       "      <th>writing score</th>\n",
       "      <th>avg_test_score</th>\n",
       "      <th>r/w score</th>\n",
       "      <th>math pass/fail</th>\n",
       "      <th>r/w pass/fail</th>\n",
       "    </tr>\n",
       "  </thead>\n",
       "  <tbody>\n",
       "    <tr>\n",
       "      <th>0</th>\n",
       "      <td>female</td>\n",
       "      <td>group B</td>\n",
       "      <td>bachelor's degree</td>\n",
       "      <td>standard</td>\n",
       "      <td>none</td>\n",
       "      <td>72</td>\n",
       "      <td>72</td>\n",
       "      <td>74</td>\n",
       "      <td>72.666667</td>\n",
       "      <td>73.0</td>\n",
       "      <td>1</td>\n",
       "      <td>1</td>\n",
       "    </tr>\n",
       "    <tr>\n",
       "      <th>1</th>\n",
       "      <td>female</td>\n",
       "      <td>group C</td>\n",
       "      <td>some college</td>\n",
       "      <td>standard</td>\n",
       "      <td>completed</td>\n",
       "      <td>69</td>\n",
       "      <td>90</td>\n",
       "      <td>88</td>\n",
       "      <td>82.333333</td>\n",
       "      <td>89.0</td>\n",
       "      <td>0</td>\n",
       "      <td>1</td>\n",
       "    </tr>\n",
       "    <tr>\n",
       "      <th>2</th>\n",
       "      <td>female</td>\n",
       "      <td>group B</td>\n",
       "      <td>master's degree</td>\n",
       "      <td>standard</td>\n",
       "      <td>none</td>\n",
       "      <td>90</td>\n",
       "      <td>95</td>\n",
       "      <td>93</td>\n",
       "      <td>92.666667</td>\n",
       "      <td>94.0</td>\n",
       "      <td>1</td>\n",
       "      <td>1</td>\n",
       "    </tr>\n",
       "    <tr>\n",
       "      <th>3</th>\n",
       "      <td>male</td>\n",
       "      <td>group A</td>\n",
       "      <td>associate's degree</td>\n",
       "      <td>free/reduced</td>\n",
       "      <td>none</td>\n",
       "      <td>47</td>\n",
       "      <td>57</td>\n",
       "      <td>44</td>\n",
       "      <td>49.333333</td>\n",
       "      <td>50.5</td>\n",
       "      <td>0</td>\n",
       "      <td>0</td>\n",
       "    </tr>\n",
       "    <tr>\n",
       "      <th>4</th>\n",
       "      <td>male</td>\n",
       "      <td>group C</td>\n",
       "      <td>some college</td>\n",
       "      <td>standard</td>\n",
       "      <td>none</td>\n",
       "      <td>76</td>\n",
       "      <td>78</td>\n",
       "      <td>75</td>\n",
       "      <td>76.333333</td>\n",
       "      <td>76.5</td>\n",
       "      <td>1</td>\n",
       "      <td>1</td>\n",
       "    </tr>\n",
       "  </tbody>\n",
       "</table>\n",
       "</div>"
      ],
      "text/plain": [
       "   gender race/ethnicity parental level of education         lunch  \\\n",
       "0  female        group B           bachelor's degree      standard   \n",
       "1  female        group C                some college      standard   \n",
       "2  female        group B             master's degree      standard   \n",
       "3    male        group A          associate's degree  free/reduced   \n",
       "4    male        group C                some college      standard   \n",
       "\n",
       "  test preparation course  math score  reading score  writing score  \\\n",
       "0                    none          72             72             74   \n",
       "1               completed          69             90             88   \n",
       "2                    none          90             95             93   \n",
       "3                    none          47             57             44   \n",
       "4                    none          76             78             75   \n",
       "\n",
       "   avg_test_score  r/w score  math pass/fail  r/w pass/fail  \n",
       "0       72.666667       73.0               1              1  \n",
       "1       82.333333       89.0               0              1  \n",
       "2       92.666667       94.0               1              1  \n",
       "3       49.333333       50.5               0              0  \n",
       "4       76.333333       76.5               1              1  "
      ]
     },
     "execution_count": 88,
     "metadata": {},
     "output_type": "execute_result"
    }
   ],
   "source": [
    "student_perf.head()"
   ]
  },
  {
   "cell_type": "code",
   "execution_count": 89,
   "metadata": {},
   "outputs": [],
   "source": [
    "from sklearn.ensemble import RandomForestClassifier\n",
    "from sklearn.metrics import accuracy_score, classification_report, confusion_matrix, f1_score, precision_score, recall_score"
   ]
  },
  {
   "cell_type": "code",
   "execution_count": 90,
   "metadata": {},
   "outputs": [
    {
     "name": "stdout",
     "output_type": "stream",
     "text": [
      "F1 Score: 0.48\n",
      "Accuracy Score: 0.62\n",
      "Precision Score: 0.51\n",
      "Recall Score: 0.45\n"
     ]
    }
   ],
   "source": [
    "X = dummies\n",
    "y = student_perf['math pass/fail']\n",
    "X_train, X_test, y_train, y_test = train_test_split(X, y, test_size = 0.2, random_state=42)\n",
    "\n",
    "model = RandomForestClassifier()\n",
    "model.fit(X_train, y_train)\n",
    "y_pred = model.predict(X_test)\n",
    "\n",
    "print('F1 Score:', round(f1_score(y_test, y_pred), 2))\n",
    "print('Accuracy Score:', round(accuracy_score(y_test, y_pred), 2))\n",
    "print('Precision Score:', round(precision_score(y_test, y_pred), 2))\n",
    "print('Recall Score:', round(recall_score(y_test, y_pred), 2))\n"
   ]
  },
  {
   "cell_type": "code",
   "execution_count": 91,
   "metadata": {},
   "outputs": [
    {
     "data": {
      "text/plain": [
       "array([[89, 33],\n",
       "       [43, 35]], dtype=int64)"
      ]
     },
     "execution_count": 91,
     "metadata": {},
     "output_type": "execute_result"
    }
   ],
   "source": [
    "confusion_matrix(y_test, y_pred)"
   ]
  },
  {
   "cell_type": "code",
   "execution_count": 92,
   "metadata": {},
   "outputs": [
    {
     "name": "stdout",
     "output_type": "stream",
     "text": [
      "F1 Score: 0.59\n",
      "Accuracy Score: 0.6\n",
      "Precision Score: 0.59\n",
      "Recall Score: 0.59\n"
     ]
    }
   ],
   "source": [
    "X = dummies\n",
    "y = student_perf['r/w pass/fail']\n",
    "X_train, X_test, y_train, y_test = train_test_split(X, y, test_size = 0.2, random_state=42)\n",
    "\n",
    "model = RandomForestClassifier()\n",
    "model.fit(X_train, y_train)\n",
    "y_pred = model.predict(X_test)\n",
    "\n",
    "print('F1 Score:', round(f1_score(y_test, y_pred), 2))\n",
    "print('Accuracy Score:', round(accuracy_score(y_test, y_pred), 2))\n",
    "print('Precision Score:', round(precision_score(y_test, y_pred), 2))\n",
    "print('Recall Score:', round(recall_score(y_test, y_pred), 2))"
   ]
  },
  {
   "cell_type": "code",
   "execution_count": 93,
   "metadata": {},
   "outputs": [
    {
     "data": {
      "text/plain": [
       "array([[61, 40],\n",
       "       [41, 58]], dtype=int64)"
      ]
     },
     "execution_count": 93,
     "metadata": {},
     "output_type": "execute_result"
    }
   ],
   "source": [
    "confusion_matrix(y_test, y_pred)"
   ]
  },
  {
   "cell_type": "markdown",
   "metadata": {},
   "source": [
    "Overall, it seems the Classifier Model works better on the Reading & Writing scores.  Next, I want to see if we can improve the model by limiting the independent variables.  First, let's try eliminating one at a time, starting with the test prep variable."
   ]
  },
  {
   "cell_type": "code",
   "execution_count": 94,
   "metadata": {},
   "outputs": [
    {
     "name": "stdout",
     "output_type": "stream",
     "text": [
      "F1 Score: 0.53\n",
      "Accuracy Score: 0.62\n",
      "Precision Score: 0.52\n",
      "Recall Score: 0.54\n"
     ]
    }
   ],
   "source": [
    "X = dummies.drop('no prep', axis=1)\n",
    "y = student_perf['math pass/fail']\n",
    "X_train, X_test, y_train, y_test = train_test_split(X, y, test_size = 0.2, random_state=42)\n",
    "\n",
    "model = RandomForestClassifier()\n",
    "model.fit(X_train, y_train)\n",
    "y_pred = model.predict(X_test)\n",
    "\n",
    "print('F1 Score:', round(f1_score(y_test, y_pred), 2))\n",
    "print('Accuracy Score:', round(accuracy_score(y_test, y_pred), 2))\n",
    "print('Precision Score:', round(precision_score(y_test, y_pred), 2))\n",
    "print('Recall Score:', round(recall_score(y_test, y_pred), 2))"
   ]
  },
  {
   "cell_type": "code",
   "execution_count": 95,
   "metadata": {},
   "outputs": [
    {
     "data": {
      "text/plain": [
       "array([[83, 39],\n",
       "       [36, 42]], dtype=int64)"
      ]
     },
     "execution_count": 95,
     "metadata": {},
     "output_type": "execute_result"
    }
   ],
   "source": [
    "confusion_matrix(y_test, y_pred)"
   ]
  },
  {
   "cell_type": "markdown",
   "metadata": {},
   "source": [
    "The model performs slightly better without the test preparation variable."
   ]
  },
  {
   "cell_type": "code",
   "execution_count": 96,
   "metadata": {},
   "outputs": [
    {
     "name": "stdout",
     "output_type": "stream",
     "text": [
      "F1 Score: 0.53\n",
      "Accuracy Score: 0.66\n",
      "Precision Score: 0.58\n",
      "Recall Score: 0.49\n"
     ]
    }
   ],
   "source": [
    "X = dummies.drop(['parental level of education'], axis=1)\n",
    "y = student_perf['math pass/fail']\n",
    "X_train, X_test, y_train, y_test = train_test_split(X, y, test_size = 0.2, random_state=42)\n",
    "\n",
    "model = RandomForestClassifier()\n",
    "model.fit(X_train, y_train)\n",
    "y_pred = model.predict(X_test)\n",
    "\n",
    "print('F1 Score:', round(f1_score(y_test, y_pred), 2))\n",
    "print('Accuracy Score:', round(accuracy_score(y_test, y_pred), 2))\n",
    "print('Precision Score:', round(precision_score(y_test, y_pred), 2))\n",
    "print('Recall Score:', round(recall_score(y_test, y_pred), 2))"
   ]
  },
  {
   "cell_type": "code",
   "execution_count": 97,
   "metadata": {},
   "outputs": [
    {
     "data": {
      "text/plain": [
       "array([[94, 28],\n",
       "       [40, 38]], dtype=int64)"
      ]
     },
     "execution_count": 97,
     "metadata": {},
     "output_type": "execute_result"
    }
   ],
   "source": [
    "confusion_matrix(y_test, y_pred)"
   ]
  },
  {
   "cell_type": "markdown",
   "metadata": {},
   "source": [
    "Removing Parental level of education doesnt appear to help."
   ]
  },
  {
   "cell_type": "code",
   "execution_count": 100,
   "metadata": {
    "scrolled": true
   },
   "outputs": [
    {
     "name": "stdout",
     "output_type": "stream",
     "text": [
      "F1 Score: 0.51\n",
      "Accuracy Score: 0.62\n",
      "Precision Score: 0.51\n",
      "Recall Score: 0.51\n"
     ]
    }
   ],
   "source": [
    "X = dummies.drop(['male'], axis=1)\n",
    "y = student_perf['math pass/fail']\n",
    "X_train, X_test, y_train, y_test = train_test_split(X, y, test_size = 0.2, random_state=42)\n",
    "\n",
    "model = RandomForestClassifier()\n",
    "model.fit(X_train, y_train)\n",
    "y_pred = model.predict(X_test)\n",
    "\n",
    "print('F1 Score:', round(f1_score(y_test, y_pred), 2))\n",
    "print('Accuracy Score:', round(accuracy_score(y_test, y_pred), 2))\n",
    "print('Precision Score:', round(precision_score(y_test, y_pred), 2))\n",
    "print('Recall Score:', round(recall_score(y_test, y_pred), 2))"
   ]
  },
  {
   "cell_type": "markdown",
   "metadata": {},
   "source": [
    "Nor does removing gender."
   ]
  },
  {
   "cell_type": "code",
   "execution_count": 101,
   "metadata": {},
   "outputs": [
    {
     "name": "stdout",
     "output_type": "stream",
     "text": [
      "F1 Score: 0.46\n",
      "Accuracy Score: 0.62\n",
      "Precision Score: 0.52\n",
      "Recall Score: 0.41\n"
     ]
    }
   ],
   "source": [
    "X = dummies.drop(['group B', 'group C', 'group D', 'group E'], axis=1)\n",
    "y = student_perf['math pass/fail']\n",
    "X_train, X_test, y_train, y_test = train_test_split(X, y, test_size = 0.2, random_state=42)\n",
    "\n",
    "model = RandomForestClassifier()\n",
    "model.fit(X_train, y_train)\n",
    "y_pred = model.predict(X_test)\n",
    "\n",
    "print('F1 Score:', round(f1_score(y_test, y_pred), 2))\n",
    "print('Accuracy Score:', round(accuracy_score(y_test, y_pred), 2))\n",
    "print('Precision Score:', round(precision_score(y_test, y_pred), 2))\n",
    "print('Recall Score:', round(recall_score(y_test, y_pred), 2))"
   ]
  },
  {
   "cell_type": "code",
   "execution_count": 102,
   "metadata": {
    "scrolled": true
   },
   "outputs": [
    {
     "data": {
      "text/plain": [
       "array([[93, 29],\n",
       "       [46, 32]], dtype=int64)"
      ]
     },
     "execution_count": 102,
     "metadata": {},
     "output_type": "execute_result"
    }
   ],
   "source": [
    "confusion_matrix(y_test, y_pred)"
   ]
  },
  {
   "cell_type": "markdown",
   "metadata": {},
   "source": [
    "Removing the ethnic group variable made the model perform considerably worse.  Last categorical variable to look at would be lunch.  I don't expect the model to perform without this variable at all, but let's see."
   ]
  },
  {
   "cell_type": "code",
   "execution_count": 103,
   "metadata": {},
   "outputs": [
    {
     "name": "stdout",
     "output_type": "stream",
     "text": [
      "F1 Score: 0.36\n",
      "Accuracy Score: 0.57\n",
      "Precision Score: 0.43\n",
      "Recall Score: 0.31\n"
     ]
    }
   ],
   "source": [
    "X = dummies.drop(['standard'], axis=1)\n",
    "y = student_perf['math pass/fail']\n",
    "X_train, X_test, y_train, y_test = train_test_split(X, y, test_size = 0.2, random_state=42)\n",
    "\n",
    "model = RandomForestClassifier()\n",
    "model.fit(X_train, y_train)\n",
    "y_pred = model.predict(X_test)\n",
    "\n",
    "print('F1 Score:', round(f1_score(y_test, y_pred), 2))\n",
    "print('Accuracy Score:', round(accuracy_score(y_test, y_pred), 2))\n",
    "print('Precision Score:', round(precision_score(y_test, y_pred), 2))\n",
    "print('Recall Score:', round(recall_score(y_test, y_pred), 2))"
   ]
  },
  {
   "cell_type": "code",
   "execution_count": 104,
   "metadata": {
    "scrolled": false
   },
   "outputs": [
    {
     "data": {
      "text/plain": [
       "array([[90, 32],\n",
       "       [54, 24]], dtype=int64)"
      ]
     },
     "execution_count": 104,
     "metadata": {},
     "output_type": "execute_result"
    }
   ],
   "source": [
    "confusion_matrix(y_test, y_pred)"
   ]
  },
  {
   "cell_type": "markdown",
   "metadata": {},
   "source": [
    "Definitely removing this variable makes the model perform worse, even much more so than removing the ethnic variable. It seems the Lunch variable is the most important variable with ethnic group and gender closely behind.  Let's try just using these 3 variables for the model."
   ]
  },
  {
   "cell_type": "code",
   "execution_count": 105,
   "metadata": {},
   "outputs": [
    {
     "name": "stdout",
     "output_type": "stream",
     "text": [
      "F1 Score: 0.53\n",
      "Accuracy Score: 0.65\n",
      "Precision Score: 0.56\n",
      "Recall Score: 0.51\n"
     ]
    }
   ],
   "source": [
    "X = dummies.drop(['parental level of education', 'no prep'], axis=1)\n",
    "y = student_perf['math pass/fail']\n",
    "X_train, X_test, y_train, y_test = train_test_split(X, y, test_size = 0.2, random_state=42)\n",
    "\n",
    "model = RandomForestClassifier()\n",
    "model.fit(X_train, y_train)\n",
    "y_pred = model.predict(X_test)\n",
    "\n",
    "print('F1 Score:', round(f1_score(y_test, y_pred), 2))\n",
    "print('Accuracy Score:', round(accuracy_score(y_test, y_pred), 2))\n",
    "print('Precision Score:', round(precision_score(y_test, y_pred), 2))\n",
    "print('Recall Score:', round(recall_score(y_test, y_pred), 2))"
   ]
  },
  {
   "cell_type": "code",
   "execution_count": 106,
   "metadata": {},
   "outputs": [
    {
     "name": "stdout",
     "output_type": "stream",
     "text": [
      "F1 Score: 0.47\n",
      "Accuracy Score: 0.64\n",
      "Precision Score: 0.54\n",
      "Recall Score: 0.41\n"
     ]
    }
   ],
   "source": [
    "# Just ethnic group and lunch\n",
    "\n",
    "X = dummies.drop(['parental level of education', 'no prep', 'male'], axis=1)\n",
    "y = student_perf['math pass/fail']\n",
    "X_train, X_test, y_train, y_test = train_test_split(X, y, test_size = 0.2, random_state=42)\n",
    "\n",
    "model = RandomForestClassifier()\n",
    "model.fit(X_train, y_train)\n",
    "y_pred = model.predict(X_test)\n",
    "\n",
    "print('F1 Score:', round(f1_score(y_test, y_pred), 2))\n",
    "print('Accuracy Score:', round(accuracy_score(y_test, y_pred), 2))\n",
    "print('Precision Score:', round(precision_score(y_test, y_pred), 2))\n",
    "print('Recall Score:', round(recall_score(y_test, y_pred), 2))"
   ]
  },
  {
   "cell_type": "code",
   "execution_count": 107,
   "metadata": {
    "scrolled": false
   },
   "outputs": [
    {
     "name": "stdout",
     "output_type": "stream",
     "text": [
      "[[95 27]\n",
      " [46 32]]\n"
     ]
    }
   ],
   "source": [
    "print(confusion_matrix(y_test, y_pred))\n"
   ]
  },
  {
   "cell_type": "code",
   "execution_count": 108,
   "metadata": {},
   "outputs": [
    {
     "name": "stdout",
     "output_type": "stream",
     "text": [
      "F1 Score: 0.51\n",
      "Accuracy Score: 0.65\n",
      "Precision Score: 0.56\n",
      "Recall Score: 0.47\n"
     ]
    }
   ],
   "source": [
    "# Just Gender and lunch\n",
    "\n",
    "X = dummies.drop(['parental level of education', 'no prep', 'group B', 'group C', 'group D', 'group E'], axis=1)\n",
    "y = student_perf['math pass/fail']\n",
    "X_train, X_test, y_train, y_test = train_test_split(X, y, test_size = 0.2, random_state=42)\n",
    "\n",
    "model = RandomForestClassifier()\n",
    "model.fit(X_train, y_train)\n",
    "y_pred = model.predict(X_test)\n",
    "\n",
    "print('F1 Score:', round(f1_score(y_test, y_pred), 2))\n",
    "print('Accuracy Score:', round(accuracy_score(y_test, y_pred), 2))\n",
    "print('Precision Score:', round(precision_score(y_test, y_pred), 2))\n",
    "print('Recall Score:', round(recall_score(y_test, y_pred), 2))"
   ]
  },
  {
   "cell_type": "markdown",
   "metadata": {},
   "source": [
    "Running just our 2 \"best\" variables gives us a worse model performance than our previous efforts.  It looks like, at least for the RandomForest Generator, Excluding the test prep variable and leaving the other 4 variables makes the model perform best on the test set, with an F1 score of 0.54.\n",
    "However, what would happen if we were to only use our apparent \"best\" predictive variable?"
   ]
  },
  {
   "cell_type": "code",
   "execution_count": 109,
   "metadata": {},
   "outputs": [
    {
     "name": "stdout",
     "output_type": "stream",
     "text": [
      "F1 Score: 0.57\n",
      "Accuracy Score: 0.57\n",
      "Precision Score: 0.47\n",
      "Recall Score: 0.73\n"
     ]
    }
   ],
   "source": [
    "X = np.array(dummies['standard']).reshape(-1,1)\n",
    "y = student_perf['math pass/fail']\n",
    "X_train, X_test, y_train, y_test = train_test_split(X, y, test_size = 0.2, random_state=42)\n",
    "\n",
    "model = RandomForestClassifier()\n",
    "model.fit(X_train, y_train)\n",
    "y_pred = model.predict(X_test)\n",
    "\n",
    "print('F1 Score:', round(f1_score(y_test, y_pred), 2))\n",
    "print('Accuracy Score:', round(accuracy_score(y_test, y_pred), 2))\n",
    "print('Precision Score:', round(precision_score(y_test, y_pred), 2))\n",
    "print('Recall Score:', round(recall_score(y_test, y_pred), 2))\n"
   ]
  },
  {
   "cell_type": "code",
   "execution_count": 110,
   "metadata": {
    "scrolled": false
   },
   "outputs": [
    {
     "data": {
      "text/plain": [
       "array([[57, 65],\n",
       "       [21, 57]], dtype=int64)"
      ]
     },
     "execution_count": 110,
     "metadata": {},
     "output_type": "execute_result"
    }
   ],
   "source": [
    "confusion_matrix(y_test, y_pred)"
   ]
  },
  {
   "cell_type": "markdown",
   "metadata": {},
   "source": [
    "This has a low precision and mediocre accuracy score, but it gives us our highest F1 and recall scores yet. What this means is that when the model predicted a student to fail, it was correct 73% of the time.  Unfortunately, it identified less than half of the students that did fail, by overestimating how many students would pass.\n",
    "This continues to show that whether a student receives free or reduced lunch is the most important factor in determining their math scores.\n",
    "Let's move on to see if it looks similar when viewing reading and writing scores."
   ]
  },
  {
   "cell_type": "code",
   "execution_count": 111,
   "metadata": {},
   "outputs": [
    {
     "name": "stdout",
     "output_type": "stream",
     "text": [
      "F1 Score: 0.57\n",
      "Accuracy Score: 0.59\n",
      "Precision Score: 0.59\n",
      "Recall Score: 0.56\n"
     ]
    }
   ],
   "source": [
    "X = dummies\n",
    "y = student_perf['r/w pass/fail']\n",
    "X_train, X_test, y_train, y_test = train_test_split(X, y, test_size = 0.2, random_state=42)\n",
    "\n",
    "model = RandomForestClassifier()\n",
    "model.fit(X_train, y_train)\n",
    "y_pred = model.predict(X_test)\n",
    "\n",
    "print('F1 Score:', round(f1_score(y_test, y_pred), 2))\n",
    "print('Accuracy Score:', round(accuracy_score(y_test, y_pred), 2))\n",
    "print('Precision Score:', round(precision_score(y_test, y_pred), 2))\n",
    "print('Recall Score:', round(recall_score(y_test, y_pred), 2))"
   ]
  },
  {
   "cell_type": "markdown",
   "metadata": {},
   "source": [
    "Now, let's see if there is any difference in which variables are best to use for predicting pass/fail in reading and writing scores."
   ]
  },
  {
   "cell_type": "code",
   "execution_count": 112,
   "metadata": {},
   "outputs": [
    {
     "name": "stdout",
     "output_type": "stream",
     "text": [
      "F1 Score: 0.63\n",
      "Accuracy Score: 0.62\n",
      "Precision Score: 0.61\n",
      "Recall Score: 0.67\n"
     ]
    }
   ],
   "source": [
    "X = dummies.drop(['group B', 'group C', 'group D', 'group E'], axis=1)\n",
    "y = student_perf['r/w pass/fail']\n",
    "X_train, X_test, y_train, y_test = train_test_split(X, y, test_size = 0.2, random_state=42)\n",
    "\n",
    "model = RandomForestClassifier()\n",
    "model.fit(X_train, y_train)\n",
    "y_pred = model.predict(X_test)\n",
    "\n",
    "print('F1 Score:', round(f1_score(y_test, y_pred), 2))\n",
    "print('Accuracy Score:', round(accuracy_score(y_test, y_pred), 2))\n",
    "print('Precision Score:', round(precision_score(y_test, y_pred), 2))\n",
    "print('Recall Score:', round(recall_score(y_test, y_pred), 2))"
   ]
  },
  {
   "cell_type": "code",
   "execution_count": 113,
   "metadata": {},
   "outputs": [
    {
     "name": "stdout",
     "output_type": "stream",
     "text": [
      "F1 Score: 0.63\n",
      "Accuracy Score: 0.63\n",
      "Precision Score: 0.62\n",
      "Recall Score: 0.65\n"
     ]
    }
   ],
   "source": [
    "X = dummies.drop('male', axis=1)\n",
    "y = student_perf['r/w pass/fail']\n",
    "X_train, X_test, y_train, y_test = train_test_split(X, y, test_size = 0.2, random_state=42)\n",
    "\n",
    "model = RandomForestClassifier()\n",
    "model.fit(X_train, y_train)\n",
    "y_pred = model.predict(X_test)\n",
    "\n",
    "print('F1 Score:', round(f1_score(y_test, y_pred), 2))\n",
    "print('Accuracy Score:', round(accuracy_score(y_test, y_pred), 2))\n",
    "print('Precision Score:', round(precision_score(y_test, y_pred), 2))\n",
    "print('Recall Score:', round(recall_score(y_test, y_pred), 2))"
   ]
  },
  {
   "cell_type": "code",
   "execution_count": 114,
   "metadata": {},
   "outputs": [
    {
     "name": "stdout",
     "output_type": "stream",
     "text": [
      "F1 Score: 0.56\n",
      "Accuracy Score: 0.59\n",
      "Precision Score: 0.6\n",
      "Recall Score: 0.54\n"
     ]
    }
   ],
   "source": [
    "X = dummies.drop('no prep', axis=1)\n",
    "y = student_perf['r/w pass/fail']\n",
    "X_train, X_test, y_train, y_test = train_test_split(X, y, test_size = 0.2, random_state=42)\n",
    "\n",
    "model = RandomForestClassifier()\n",
    "model.fit(X_train, y_train)\n",
    "y_pred = model.predict(X_test)\n",
    "\n",
    "print('F1 Score:', round(f1_score(y_test, y_pred), 2))\n",
    "print('Accuracy Score:', round(accuracy_score(y_test, y_pred), 2))\n",
    "print('Precision Score:', round(precision_score(y_test, y_pred), 2))\n",
    "print('Recall Score:', round(recall_score(y_test, y_pred), 2))"
   ]
  },
  {
   "cell_type": "code",
   "execution_count": 115,
   "metadata": {},
   "outputs": [
    {
     "name": "stdout",
     "output_type": "stream",
     "text": [
      "F1 Score: 0.52\n",
      "Accuracy Score: 0.55\n",
      "Precision Score: 0.54\n",
      "Recall Score: 0.51\n"
     ]
    }
   ],
   "source": [
    "X = dummies.drop('standard', axis=1)\n",
    "y = student_perf['r/w pass/fail']\n",
    "X_train, X_test, y_train, y_test = train_test_split(X, y, test_size = 0.2, random_state=42)\n",
    "\n",
    "model = RandomForestClassifier()\n",
    "model.fit(X_train, y_train)\n",
    "y_pred = model.predict(X_test)\n",
    "\n",
    "print('F1 Score:', round(f1_score(y_test, y_pred), 2))\n",
    "print('Accuracy Score:', round(accuracy_score(y_test, y_pred), 2))\n",
    "print('Precision Score:', round(precision_score(y_test, y_pred), 2))\n",
    "print('Recall Score:', round(recall_score(y_test, y_pred), 2))"
   ]
  },
  {
   "cell_type": "code",
   "execution_count": 116,
   "metadata": {},
   "outputs": [
    {
     "name": "stdout",
     "output_type": "stream",
     "text": [
      "F1 Score: 0.65\n",
      "Accuracy Score: 0.66\n",
      "Precision Score: 0.67\n",
      "Recall Score: 0.63\n"
     ]
    }
   ],
   "source": [
    "X = dummies.drop('parental level of education', axis=1)\n",
    "y = student_perf['r/w pass/fail']\n",
    "X_train, X_test, y_train, y_test = train_test_split(X, y, test_size = 0.2, random_state=42)\n",
    "\n",
    "model = RandomForestClassifier()\n",
    "model.fit(X_train, y_train)\n",
    "y_pred = model.predict(X_test)\n",
    "\n",
    "print('F1 Score:', round(f1_score(y_test, y_pred), 2))\n",
    "print('Accuracy Score:', round(accuracy_score(y_test, y_pred), 2))\n",
    "print('Precision Score:', round(precision_score(y_test, y_pred), 2))\n",
    "print('Recall Score:', round(recall_score(y_test, y_pred), 2))"
   ]
  },
  {
   "cell_type": "markdown",
   "metadata": {},
   "source": [
    "The Model showed very slight improved when gender was taken out, but showed more improvement when ethnic group and parental education were taken out.  What if we drop both of those categories?"
   ]
  },
  {
   "cell_type": "code",
   "execution_count": 117,
   "metadata": {},
   "outputs": [
    {
     "name": "stdout",
     "output_type": "stream",
     "text": [
      "F1 Score: 0.65\n",
      "Accuracy Score: 0.66\n",
      "Precision Score: 0.65\n",
      "Recall Score: 0.65\n"
     ]
    }
   ],
   "source": [
    "X = dummies.drop(['parental level of education', 'group B', 'group C', 'group D', 'group E'], axis=1)\n",
    "y = student_perf['r/w pass/fail']\n",
    "X_train, X_test, y_train, y_test = train_test_split(X, y, test_size = 0.2, random_state=42)\n",
    "\n",
    "model = RandomForestClassifier()\n",
    "model.fit(X_train, y_train)\n",
    "y_pred = model.predict(X_test)\n",
    "\n",
    "print('F1 Score:', round(f1_score(y_test, y_pred), 2))\n",
    "print('Accuracy Score:', round(accuracy_score(y_test, y_pred), 2))\n",
    "print('Precision Score:', round(precision_score(y_test, y_pred), 2))\n",
    "print('Recall Score:', round(recall_score(y_test, y_pred), 2))"
   ]
  },
  {
   "cell_type": "markdown",
   "metadata": {},
   "source": [
    "The predictive model, when applied to reading and writing scores, appears to work best utilizing the 3 variables of Lunch, test prep, and gender. "
   ]
  },
  {
   "cell_type": "markdown",
   "metadata": {},
   "source": [
    "Final Takeaways\n",
    "\n",
    "-Lunch is the most predictive variable in both sets of scores\n",
    "-Ethnicity is a much larger factor when it comes to math scores\n",
    "-Girls scored on average 8 points higher than boys on reading/writing.  Boys scored 5 points higher on average in math.\n",
    "-"
   ]
  }
 ],
 "metadata": {
  "kernelspec": {
   "display_name": "Python 3",
   "language": "python",
   "name": "python3"
  },
  "language_info": {
   "codemirror_mode": {
    "name": "ipython",
    "version": 3
   },
   "file_extension": ".py",
   "mimetype": "text/x-python",
   "name": "python",
   "nbconvert_exporter": "python",
   "pygments_lexer": "ipython3",
   "version": "3.8.5"
  }
 },
 "nbformat": 4,
 "nbformat_minor": 4
}
