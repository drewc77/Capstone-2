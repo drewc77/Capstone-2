{
 "cells": [
  {
   "cell_type": "code",
   "execution_count": 1,
   "metadata": {},
   "outputs": [],
   "source": [
    "import pandas as pd\n",
    "import numpy as np\n",
    "import matplotlib.pyplot as plt\n",
    "import seaborn as sns"
   ]
  },
  {
   "cell_type": "markdown",
   "metadata": {},
   "source": [
    "After Importing what I need, Ive got to load my file in as a dataframe.  Then I want to see the basic info on it, how many columns, data types, rows, etc.\n",
    "Then I want to check the quality of data in my not integer value columns, by printing out all of the unique observations found. This will tell me if there are variations in the input, such as the case or spacing, that need to be addressed before attempting to group data."
   ]
  },
  {
   "cell_type": "code",
   "execution_count": 2,
   "metadata": {},
   "outputs": [
    {
     "name": "stdout",
     "output_type": "stream",
     "text": [
      "<class 'pandas.core.frame.DataFrame'>\n",
      "RangeIndex: 1000 entries, 0 to 999\n",
      "Data columns (total 8 columns):\n",
      " #   Column                       Non-Null Count  Dtype \n",
      "---  ------                       --------------  ----- \n",
      " 0   gender                       1000 non-null   object\n",
      " 1   race/ethnicity               1000 non-null   object\n",
      " 2   parental level of education  1000 non-null   object\n",
      " 3   lunch                        1000 non-null   object\n",
      " 4   test preparation course      1000 non-null   object\n",
      " 5   math score                   1000 non-null   int64 \n",
      " 6   reading score                1000 non-null   int64 \n",
      " 7   writing score                1000 non-null   int64 \n",
      "dtypes: int64(3), object(5)\n",
      "memory usage: 62.6+ KB\n",
      "['female' 'male']\n",
      "['none' 'completed']\n",
      "['standard' 'free/reduced']\n",
      "[\"bachelor's degree\" 'some college' \"master's degree\" \"associate's degree\"\n",
      " 'high school' 'some high school']\n",
      "['group B' 'group C' 'group A' 'group D' 'group E']\n"
     ]
    }
   ],
   "source": [
    "student_perf = pd.read_csv('..\\data\\StudentsPerformance.csv')\n",
    "student_perf.info()\n",
    "print(student_perf['gender'].unique())\n",
    "print(student_perf['test preparation course'].unique())\n",
    "print(student_perf['lunch'].unique())\n",
    "print(student_perf['parental level of education'].unique())\n",
    "print(student_perf['race/ethnicity'].unique())\n"
   ]
  },
  {
   "cell_type": "markdown",
   "metadata": {},
   "source": [
    "Now, I want to check if there are any values out of range, in this case below zero or above 100.\n",
    "I also want to see if there are any scores missing."
   ]
  },
  {
   "cell_type": "code",
   "execution_count": 3,
   "metadata": {},
   "outputs": [
    {
     "name": "stdout",
     "output_type": "stream",
     "text": [
      "0 100\n",
      "17 100\n",
      "10 100\n",
      "0\n",
      "0\n",
      "0\n"
     ]
    },
    {
     "data": {
      "text/plain": [
       "8    1\n",
       "0    1\n",
       "Name: math score, dtype: int64"
      ]
     },
     "execution_count": 3,
     "metadata": {},
     "output_type": "execute_result"
    }
   ],
   "source": [
    "print(student_perf['math score'].min(), student_perf['math score'].max())\n",
    "print(student_perf['reading score'].min(), student_perf['reading score'].max())\n",
    "print(student_perf['writing score'].min(), student_perf['writing score'].max())\n",
    "print(student_perf['math score'].isna().sum())\n",
    "print(student_perf['reading score'].isna().sum())\n",
    "print(student_perf['writing score'].isna().sum())\n",
    "student_perf[student_perf['math score'] < 10]['math score'].value_counts()"
   ]
  },
  {
   "cell_type": "markdown",
   "metadata": {},
   "source": [
    "Next, I want to take the average value of the 3 test scores for each student #, and use it to create an overall test score column.  For now, I am not going to focus on the achievement by subject, just overall achievement.  \n",
    "After making the new column, i just want to make sure the values are as expected.  I sorted the values to check for any outliers, and to get an idea of the data for students at both ends of the range."
   ]
  },
  {
   "cell_type": "code",
   "execution_count": 4,
   "metadata": {},
   "outputs": [
    {
     "name": "stdout",
     "output_type": "stream",
     "text": [
      "67.77066666666664\n",
      "76     26.000000\n",
      "327    23.333333\n",
      "596    23.000000\n",
      "980    18.333333\n",
      "59      9.000000\n",
      "Name: avg_test_score, dtype: float64\n"
     ]
    },
    {
     "data": {
      "text/plain": [
       "962    100.000000\n",
       "916    100.000000\n",
       "458    100.000000\n",
       "114     99.666667\n",
       "179     99.000000\n",
       "Name: avg_test_score, dtype: float64"
      ]
     },
     "execution_count": 4,
     "metadata": {},
     "output_type": "execute_result"
    }
   ],
   "source": [
    "student_perf['avg_test_score'] = (student_perf['math score'] + student_perf['reading score'] + student_perf['writing score']) / 3\n",
    "print(student_perf['avg_test_score'].mean())\n",
    "sorted_avg_score = student_perf['avg_test_score'].sort_values(ascending = False)\n",
    "print(sorted_avg_score.tail())\n",
    "sorted_avg_score.head()\n"
   ]
  },
  {
   "cell_type": "markdown",
   "metadata": {},
   "source": [
    "Now, I believe my data is ready to be subsetted in to my different groupings based on each variable, allowing me to make the correct calculations needed in order to identify the strongest correlations.  I will start by dividing the students in to 2 groups based on the 2 options under the lunch variable, and comparing the average scores.  From there, I will move on to the other attributes."
   ]
  },
  {
   "cell_type": "code",
   "execution_count": 5,
   "metadata": {
    "scrolled": true
   },
   "outputs": [
    {
     "name": "stdout",
     "output_type": "stream",
     "text": [
      "62.199061032863845\n",
      "70.83720930232563\n",
      "9.0\n",
      "26.0\n",
      "97.66666666666667\n"
     ]
    }
   ],
   "source": [
    "free_reduced = student_perf[student_perf.lunch == 'free/reduced']\n",
    "not_free = student_perf[student_perf.lunch != 'free/reduced']\n",
    "print(free_reduced['avg_test_score'].mean())\n",
    "print(not_free['avg_test_score'].mean())\n",
    "print(free_reduced['avg_test_score'].min())\n",
    "print(not_free['avg_test_score'].min())\n",
    "print(free_reduced['avg_test_score'].max())\n"
   ]
  },
  {
   "cell_type": "markdown",
   "metadata": {},
   "source": [
    "# EXPLORATORY DATA ANALYSIS"
   ]
  },
  {
   "cell_type": "markdown",
   "metadata": {},
   "source": [
    "The first thing I want to take another look at for data analysis is the 3 test scores, and how they correlate with one another.  The strength of correlation may help decide if it is necessary to analyze performance for each test individually, or to simply work with the overall averages.  There also may be a specifically strong correlation, such as between reading and writing, that may allow me to combine their scores in to 1."
   ]
  },
  {
   "cell_type": "code",
   "execution_count": 6,
   "metadata": {},
   "outputs": [
    {
     "name": "stdout",
     "output_type": "stream",
     "text": [
      "               math score  reading score  writing score\n",
      "math score       1.000000       0.817580       0.802642\n",
      "reading score    0.817580       1.000000       0.954598\n",
      "writing score    0.802642       0.954598       1.000000\n"
     ]
    }
   ],
   "source": [
    "#creating new database of just the 3 test scores\n",
    "test_grades = student_perf[['math score','reading score','writing score']]\n",
    "tg_corr = test_grades.corr()\n",
    "print(tg_corr)"
   ]
  },
  {
   "cell_type": "markdown",
   "metadata": {},
   "source": [
    "There is a fairly strong correlation between all scores, but there is an extremely high correlation of over .95 between reading and writing scores.  Because of this, I will combine those 2 scores for plotting purposes in to a reading/writing score column."
   ]
  },
  {
   "cell_type": "code",
   "execution_count": 7,
   "metadata": {},
   "outputs": [],
   "source": [
    "student_perf['r/w score'] = (student_perf['reading score'] + student_perf['writing score'])/2"
   ]
  },
  {
   "cell_type": "markdown",
   "metadata": {},
   "source": [
    "The first thing I want to look at is the breakdown of scores between for my 4 most important features; whether a student has taken the test prep, whether a student qualifies for free/reduced lunch(families in the lower income brackets qualify for free/reduced lunch), the parent of the student's educational level, as well as which race/ethnicity category the student falls in to.  I also have a classification on gender, however at this point, I am more interested in the determinant characteristics of the 4 features listed above."
   ]
  },
  {
   "cell_type": "code",
   "execution_count": 8,
   "metadata": {},
   "outputs": [
    {
     "name": "stdout",
     "output_type": "stream",
     "text": [
      "The # of students on standard lunch: 645\n",
      "The # of students on free/reduced lunch: 355\n"
     ]
    }
   ],
   "source": [
    "#Starting with whether a student qualifies for free/reduced lunch, first I want to see how large a sample I have for each \n",
    "#category, and then look at the means for each subset:\n",
    "\n",
    "lunch_scores = student_perf[['lunch', 'math score', 'r/w score']]\n",
    "not_free = student_perf[student_perf['lunch'] == 'standard']\n",
    "free_reduced = student_perf[student_perf['lunch'] == 'free/reduced']\n",
    "print('The # of students on standard lunch:', len(not_free))\n",
    "print('The # of students on free/reduced lunch:', len(free_reduced))\n"
   ]
  },
  {
   "cell_type": "code",
   "execution_count": 9,
   "metadata": {},
   "outputs": [
    {
     "name": "stdout",
     "output_type": "stream",
     "text": [
      "The mean math score of those on standard lunch is: 70.03\n",
      "The mean math score of those on free/reduced lunch is: 58.92\n",
      "The mean reading/writing score of those on standard lunch is: 71.24\n",
      "The mean reading/writing score of those on free/reduced lunch is: 63.84\n"
     ]
    }
   ],
   "source": [
    "print('The mean math score of those on standard lunch is:', round(np.mean(not_free['math score']), 2))\n",
    "print('The mean math score of those on free/reduced lunch is:', round(np.mean(free_reduced['math score']), 2))\n",
    "print('The mean reading/writing score of those on standard lunch is:', round(np.mean(not_free['r/w score']), 2))\n",
    "print('The mean reading/writing score of those on free/reduced lunch is:', round(np.mean(free_reduced['r/w score']), 2))"
   ]
  },
  {
   "cell_type": "markdown",
   "metadata": {},
   "source": [
    "There's an over 11 point difference in the mean of the math scores, and around a 7.5 difference in the mean of the reading/writing scores between standard and free/reduced lunch students. The next step is to take a closer look at the overall range and distribution of the scores within these 2 categories."
   ]
  },
  {
   "cell_type": "code",
   "execution_count": 10,
   "metadata": {},
   "outputs": [
    {
     "data": {
      "image/png": "[encoded data removed]",
      "text/plain": [
       "<Figure size 432x288 with 1 Axes>"
      ]
     },
     "metadata": {
      "needs_background": "light"
     },
     "output_type": "display_data"
    }
   ],
   "source": [
    "_ = plt.boxplot([not_free['math score'], free_reduced['math score']])\n",
    "_ = plt.xlabel('Free/Reduced Lunch?')\n",
    "_ = plt.ylabel('Math Test Score')\n",
    "_ = plt.xticks([1, 2], ['Standard', 'Free/Reduced']) \n",
    "plt.show()\n"
   ]
  },
  {
   "cell_type": "code",
   "execution_count": 11,
   "metadata": {},
   "outputs": [
    {
     "data": {
      "image/png": "[encoded data removed]",
      "text/plain": [
       "<Figure size 432x288 with 1 Axes>"
      ]
     },
     "metadata": {
      "needs_background": "light"
     },
     "output_type": "display_data"
    }
   ],
   "source": [
    "_ = plt.boxplot([not_free['r/w score'], free_reduced['r/w score']])\n",
    "_ = plt.xlabel('Free/Reduced Lunch?')\n",
    "_ = plt.ylabel('Reading/Writing Test Score')\n",
    "_ = plt.xticks([1, 2], ['Standard', 'Free/Reduced'])\n",
    "plt.show()"
   ]
  },
  {
   "cell_type": "markdown",
   "metadata": {},
   "source": [
    "There's a clear difference between the performance of those who qualify for free/reduced lunch and those who don't, which is unsurprising.  While free/reduced lunch seems to be a variable that drives test scores, qualifying for free/reduced lunch is often a variable driven by another variable, parental education level.  Next, I want to see just how closely correlated parental education level is to whether one qualifies for free/reduced lunch.\n",
    "I want to do this by looking at each of the subsets for parental education level to determine how many within that subset also qualify for free/reduced lunch. "
   ]
  },
  {
   "cell_type": "code",
   "execution_count": 12,
   "metadata": {},
   "outputs": [
    {
     "data": {
      "image/png": "[encoded data removed]",
      "text/plain": [
       "<Figure size 432x288 with 1 Axes>"
      ]
     },
     "metadata": {
      "needs_background": "light"
     },
     "output_type": "display_data"
    }
   ],
   "source": [
    "#Subsetting the 'parental level of education'\n",
    "master = student_perf[student_perf['parental level of education']==\"master's degree\"]\n",
    "bachelor = student_perf[student_perf['parental level of education']==\"bachelor's degree\"]\n",
    "assoc = student_perf[student_perf['parental level of education']==\"associate's degree\"]\n",
    "some_coll = student_perf[student_perf['parental level of education']=='some college']\n",
    "high_only = student_perf[student_perf['parental level of education']=='high school']\n",
    "some_high = student_perf[student_perf['parental level of education']=='some high school']\n",
    "\n",
    "plt.hist(student_perf['parental level of education'], bins=6)\n",
    "plt.xticks(rotation=90)\n",
    "plt.show()\n",
    "\n",
    "#I want to order these by ascending level of education, but have not figured out how to do that yet."
   ]
  },
  {
   "cell_type": "markdown",
   "metadata": {},
   "source": [
    "The Distribution of the parental level of education column shows over 80% of our student's fall in to the 4 categories within associate's degree and below. \n",
    "What I am most interested in is how much the free/reduced lunch category is determined by parental education level, to see if free/reduced lunch is simply a product of education level in this dataset."
   ]
  },
  {
   "cell_type": "code",
   "execution_count": 13,
   "metadata": {},
   "outputs": [
    {
     "name": "stdout",
     "output_type": "stream",
     "text": [
      "0.5932203389830508\n",
      "0.659217877094972\n"
     ]
    }
   ],
   "source": [
    "print((np.sum(master.lunch=='standard'))/(np.sum(len(master))))\n",
    "print((np.sum(some_high.lunch=='standard'))/(np.sum(len(some_high))))"
   ]
  },
  {
   "cell_type": "markdown",
   "metadata": {},
   "source": [
    "Just by looking at the highest and lowest education levels, there appears to be no relationship between parental level of education and the family income level(which is used to determine free/reduced lunch) in this dataset.\n",
    "That is counter to what the vast majority of previous research in the field shows, but for the sake of the project, I will stick to the information in this dataset and assume there is no correlation here.  Knowing that these are completely independent variables in the dataset, I'll go on to look at the test scores by education level."
   ]
  },
  {
   "cell_type": "code",
   "execution_count": 14,
   "metadata": {},
   "outputs": [
    {
     "data": {
      "image/png": "[encoded data removed]",
      "text/plain": [
       "<Figure size 432x288 with 1 Axes>"
      ]
     },
     "metadata": {
      "needs_background": "light"
     },
     "output_type": "display_data"
    }
   ],
   "source": [
    "ed_list = ['some high school', 'high school', 'some college', \"associate's degree\", \"bachelor's degree\", \"master's degree\"]\n",
    "sns.stripplot(x='parental level of education', y='math score', data=student_perf, marker='.', order=ed_list)\n",
    "plt.xticks(rotation=90)\n",
    "plt.show()"
   ]
  },
  {
   "cell_type": "code",
   "execution_count": 15,
   "metadata": {},
   "outputs": [
    {
     "data": {
      "image/png": "[encoded data removed]",
      "text/plain": [
       "<Figure size 432x288 with 1 Axes>"
      ]
     },
     "metadata": {
      "needs_background": "light"
     },
     "output_type": "display_data"
    }
   ],
   "source": [
    "sns.stripplot(x='parental level of education', y='r/w score', data=student_perf, marker='.', order=ed_list)\n",
    "plt.xticks(rotation=90)\n",
    "plt.show()"
   ]
  },
  {
   "cell_type": "markdown",
   "metadata": {},
   "source": [
    "There does appear to be a slight, but clear movement towards higher scores among the higher education levels, especially in the reading/writing scores.  It seems that high scores in both areas can come from any category of parental education level, but with lower levels of parental level of education, there's a wider range of scores and a number of scores well below the minimums of other groups in the higher education levels. "
   ]
  },
  {
   "cell_type": "code",
   "execution_count": 16,
   "metadata": {},
   "outputs": [
    {
     "name": "stdout",
     "output_type": "stream",
     "text": [
      "65.91\n",
      "63.58\n",
      "69.15\n",
      "70.41\n",
      "73.19\n",
      "75.53\n"
     ]
    }
   ],
   "source": [
    "print(round(np.mean(some_high['r/w score']), 2))\n",
    "print(round(np.mean(high_only['r/w score']), 2))\n",
    "print(round(np.mean(some_coll['r/w score']), 2))\n",
    "print(round(np.mean(assoc['r/w score']), 2))\n",
    "print(round(np.mean(bachelor['r/w score']), 2))\n",
    "print(round(np.mean(master['r/w score']), 2))"
   ]
  },
  {
   "cell_type": "code",
   "execution_count": 17,
   "metadata": {},
   "outputs": [
    {
     "name": "stdout",
     "output_type": "stream",
     "text": [
      "63.5\n",
      "62.14\n",
      "67.13\n",
      "67.88\n",
      "69.39\n",
      "69.75\n"
     ]
    }
   ],
   "source": [
    "print(round(np.mean(some_high['math score']), 2))\n",
    "print(round(np.mean(high_only['math score']), 2))\n",
    "print(round(np.mean(some_coll['math score']), 2))\n",
    "print(round(np.mean(assoc['math score']), 2))\n",
    "print(round(np.mean(bachelor['math score']), 2))\n",
    "print(round(np.mean(master['math score']), 2))"
   ]
  },
  {
   "cell_type": "markdown",
   "metadata": {},
   "source": [
    "Outside of the lowest 2 levels, there does appear to be a gradual increase in the mean as the parental education level, \n",
    "but there are larger increase in both sets from the 2nd to the 3rd levels, and from the 4th to the 5th levels. It may be \n",
    "worth in combining some of our levels, creating 3 total categories; high school and below, some college/associates, and \n",
    "bachelor's/master's for further analysis.  However, either way, we can see a positive correlation here between higher parental levels of education and higher scores.  This time, Reading and writing scores show the larger disparities.\n",
    "\n",
    "The next category to look at is whether a student took completed the test preparation course."
   ]
  },
  {
   "cell_type": "code",
   "execution_count": 18,
   "metadata": {},
   "outputs": [
    {
     "name": "stdout",
     "output_type": "stream",
     "text": [
      "There are 358 students that took the test prep. 642 did not.\n",
      "The mean math score for students who took the prep course: 69.69553072625699\n",
      "The mean math score for students who did NOT take the prep course: 64.0778816199377\n",
      "The mean reading/writing score for students who took the prep course: 74.15642458100558\n",
      "The mean reading/writing score for students who did NOT take the prep course: 65.51947040498442\n"
     ]
    }
   ],
   "source": [
    "prepped = student_perf[student_perf['test preparation course']=='completed']\n",
    "no_prep = student_perf[student_perf['test preparation course']!='completed']\n",
    "\n",
    "print('There are', len(prepped), 'students that took the test prep.', len(no_prep), 'did not.')\n",
    "print('The mean math score for students who took the prep course:', np.mean(prepped['math score']))\n",
    "print('The mean math score for students who did NOT take the prep course:', np.mean(no_prep['math score']))\n",
    "\n",
    "print('The mean reading/writing score for students who took the prep course:', np.mean(prepped['r/w score']))\n",
    "print('The mean reading/writing score for students who did NOT take the prep course:', np.mean(no_prep['r/w score']))"
   ]
  },
  {
   "cell_type": "code",
   "execution_count": 19,
   "metadata": {},
   "outputs": [
    {
     "data": {
      "image/png": "[encoded data removed]",
      "text/plain": [
       "<Figure size 432x288 with 1 Axes>"
      ]
     },
     "metadata": {
      "needs_background": "light"
     },
     "output_type": "display_data"
    }
   ],
   "source": [
    "_ = plt.boxplot([prepped['math score'], no_prep['math score']])\n",
    "_ = plt.xlabel('Completed Test Preparation?')\n",
    "_ = plt.ylabel('Math Test Score')\n",
    "_ = plt.xticks([1, 2], ['completed', 'none'])\n",
    "plt.show()"
   ]
  },
  {
   "cell_type": "code",
   "execution_count": 20,
   "metadata": {},
   "outputs": [
    {
     "data": {
      "image/png": "[encoded data removed]",
      "text/plain": [
       "<Figure size 432x288 with 1 Axes>"
      ]
     },
     "metadata": {
      "needs_background": "light"
     },
     "output_type": "display_data"
    }
   ],
   "source": [
    "_ = plt.boxplot([prepped['r/w score'], no_prep['r/w score']])\n",
    "_ = plt.xlabel('Completed Test Preparation?')\n",
    "_ = plt.ylabel('Reading/Writing Test Score')\n",
    "_ = plt.xticks([1, 2], ['completed', 'none'])\n",
    "plt.show()"
   ]
  },
  {
   "cell_type": "markdown",
   "metadata": {},
   "source": [
    "It's clear that test prep helped, although it wasnt a guarantee of test success. Those who took test_prep scored 5.5 points on average higher on the math test, and 8.5 points on average higher for the reading and writing tests.\n",
    "Like with the free and reduced lunch category, however, whether a student took the test prep course may be a product of another category. "
   ]
  },
  {
   "cell_type": "code",
   "execution_count": 21,
   "metadata": {},
   "outputs": [
    {
     "name": "stdout",
     "output_type": "stream",
     "text": [
      "0.6340782122905028\n",
      "0.645\n"
     ]
    }
   ],
   "source": [
    "print((np.sum(prepped['lunch']=='standard'))/len(prepped))\n",
    "print((np.sum(student_perf['lunch']=='standard'))/len(student_perf))"
   ]
  },
  {
   "cell_type": "code",
   "execution_count": 22,
   "metadata": {},
   "outputs": [
    {
     "name": "stdout",
     "output_type": "stream",
     "text": [
      "0.36901408450704226\n",
      "0.351937984496124\n"
     ]
    }
   ],
   "source": [
    "print((np.sum(free_reduced['test preparation course']=='completed'))/len(free_reduced))\n",
    "print((np.sum(not_free['test preparation course']=='completed'))/len(not_free))"
   ]
  },
  {
   "cell_type": "markdown",
   "metadata": {},
   "source": [
    "The Percentages both ways appear to be extremely similar.  It doesnt appear students were more likely to take the test prep based on whether or not they receive free or reduced lunch, which is determined by family income."
   ]
  },
  {
   "cell_type": "code",
   "execution_count": 23,
   "metadata": {},
   "outputs": [
    {
     "data": {
      "image/png": "[encoded data removed]",
      "text/plain": [
       "<Figure size 432x288 with 1 Axes>"
      ]
     },
     "metadata": {
      "needs_background": "light"
     },
     "output_type": "display_data"
    }
   ],
   "source": [
    "sns.countplot(x=student_perf['parental level of education'], hue=student_perf['test preparation course'], order=ed_list)\n",
    "plt.xticks(rotation=90)\n",
    "plt.show()"
   ]
  },
  {
   "cell_type": "markdown",
   "metadata": {},
   "source": [
    "There is some slight variation, but among all parental education levels, more students did NOT complete the test prep course than did.  Of all the education levels, those on the lowest level (some high school) were actually more likely in our sample to take the prep course than any other group.  This may explain why the average test scores were actually higher among students with parents that had some high school than for students with parents that finished high school, but went no further."
   ]
  },
  {
   "cell_type": "code",
   "execution_count": 24,
   "metadata": {
    "scrolled": true
   },
   "outputs": [
    {
     "data": {
      "image/png": "[encoded data removed]",
      "text/plain": [
       "<Figure size 432x288 with 1 Axes>"
      ]
     },
     "metadata": {
      "needs_background": "light"
     },
     "output_type": "display_data"
    }
   ],
   "source": [
    "group_A = student_perf[student_perf['race/ethnicity']=='group A']\n",
    "group_B = student_perf[student_perf['race/ethnicity']=='group B']\n",
    "group_C = student_perf[student_perf['race/ethnicity']=='group C']\n",
    "group_D = student_perf[student_perf['race/ethnicity']=='group D']\n",
    "group_E = student_perf[student_perf['race/ethnicity']=='group E']\n",
    "\n",
    "_ = plt.boxplot([group_A['math score'], group_B['math score'], group_C['math score'], group_D['math score'], \n",
    "                 group_E['math score']])\n",
    "_ = plt.xticks([1, 2, 3, 4, 5], ['Group A', 'Group B', 'Group C', 'Group D', 'Group E'])\n",
    "plt.show()"
   ]
  },
  {
   "cell_type": "code",
   "execution_count": 25,
   "metadata": {},
   "outputs": [
    {
     "data": {
      "image/png": "[encoded data removed]",
      "text/plain": [
       "<Figure size 432x288 with 1 Axes>"
      ]
     },
     "metadata": {
      "needs_background": "light"
     },
     "output_type": "display_data"
    }
   ],
   "source": [
    "_ = plt.boxplot([group_A['r/w score'], group_B['r/w score'], group_C['r/w score'], group_D['r/w score'], group_E['r/w score']])\n",
    "_ = plt.xticks([1, 2, 3, 4, 5], ['Group A', 'Group B', 'Group C', 'Group D', 'Group E'])\n",
    "plt.show()"
   ]
  },
  {
   "cell_type": "raw",
   "metadata": {},
   "source": [
    "Group E has the highest overall mean test scores, then Group D, then Group C, then Group B, and then Group A.  However, the very lowest individual scores come from groups B and C, who both have outliers on the low end.  In math, the minimum couple of scores in Group D are actually lower than the minimum score in Group A, which is the only group to not have any outliers on the low end in either of the test types."
   ]
  },
  {
   "cell_type": "code",
   "execution_count": 26,
   "metadata": {},
   "outputs": [
    {
     "name": "stdout",
     "output_type": "stream",
     "text": [
      "The average math score for males: 68.72821576763485\n",
      "The average math score for females: 63.633204633204635\n",
      "The average r/w score for males: 64.39211618257261\n",
      "The average r/w score for females:  72.5376447876448\n"
     ]
    }
   ],
   "source": [
    "# finally, just a quick look at how much we should consider gender.\n",
    "\n",
    "males = student_perf[student_perf['gender'] == 'male']\n",
    "females = student_perf[student_perf['gender'] == 'female']\n",
    "print('The average math score for males:', males['math score'].mean())\n",
    "print('The average math score for females:', females['math score'].mean())\n",
    "\n",
    "males = student_perf[student_perf['gender'] == 'male']\n",
    "females = student_perf[student_perf['gender'] == 'female']\n",
    "print('The average r/w score for males:', males['r/w score'].mean())\n",
    "print('The average r/w score for females: ', females['r/w score'].mean())"
   ]
  },
  {
   "cell_type": "markdown",
   "metadata": {},
   "source": [
    "Interestingly, males did better on the math section, while females performed better on the reading and writing parts.  And the differences in mean are large enough to show that there likely is a trend here, as opposed to a random occurence."
   ]
  },
  {
   "cell_type": "markdown",
   "metadata": {},
   "source": [
    "# Conclusion - EDA\n",
    "\n",
    "It seems that all 5 of our features each have an affect on scores for both math and reading/writing. The strongest correlation in scores of our first 3 categories appears to be whether a student qualifies for free and reduced lunch. According to the data, those students who do qualify, and thus are on or below the poverty line, are likely to score almost a whole letter grade lower in math, and more than one full letter grade lower in reading/writing.\n",
    "At the same time, there was also a similar significance in the level of parental education, with students of parents with higher education levels scoring higher than their counterparts.  This however, did not seem as strong as the free and reduced lunch qualifier. I also found that the test preparation course bumped up scores for all categories, particularly when it came to the reading and writing tests.  \n",
    "Lastly, there was also a gradual increase in mean performance moving through the racial categories, starting on A and ending on E, with Group E outperforming Group A by a full letter grade and a half. This proved the largest disparity between groups in any of the 4 categories analyzed."
   ]
  },
  {
   "cell_type": "markdown",
   "metadata": {},
   "source": [
    "# Pre-processing and Training Data Development\n",
    "\n",
    "Next steps include getting dummy variables of our categorical data, Scaling the data, and creating our training and testing splits for modelling."
   ]
  },
  {
   "cell_type": "code",
   "execution_count": 27,
   "metadata": {},
   "outputs": [],
   "source": [
    "from sklearn.preprocessing import StandardScaler\n",
    "from sklearn.model_selection import train_test_split"
   ]
  },
  {
   "cell_type": "code",
   "execution_count": 28,
   "metadata": {},
   "outputs": [
    {
     "data": {
      "text/html": [
       "<div>\n",
       "<style scoped>\n",
       "    .dataframe tbody tr th:only-of-type {\n",
       "        vertical-align: middle;\n",
       "    }\n",
       "\n",
       "    .dataframe tbody tr th {\n",
       "        vertical-align: top;\n",
       "    }\n",
       "\n",
       "    .dataframe thead th {\n",
       "        text-align: right;\n",
       "    }\n",
       "</style>\n",
       "<table border=\"1\" class=\"dataframe\">\n",
       "  <thead>\n",
       "    <tr style=\"text-align: right;\">\n",
       "      <th></th>\n",
       "      <th>standard</th>\n",
       "    </tr>\n",
       "  </thead>\n",
       "  <tbody>\n",
       "    <tr>\n",
       "      <th>0</th>\n",
       "      <td>1</td>\n",
       "    </tr>\n",
       "    <tr>\n",
       "      <th>1</th>\n",
       "      <td>1</td>\n",
       "    </tr>\n",
       "    <tr>\n",
       "      <th>2</th>\n",
       "      <td>1</td>\n",
       "    </tr>\n",
       "    <tr>\n",
       "      <th>3</th>\n",
       "      <td>0</td>\n",
       "    </tr>\n",
       "    <tr>\n",
       "      <th>4</th>\n",
       "      <td>1</td>\n",
       "    </tr>\n",
       "  </tbody>\n",
       "</table>\n",
       "</div>"
      ],
      "text/plain": [
       "   standard\n",
       "0         1\n",
       "1         1\n",
       "2         1\n",
       "3         0\n",
       "4         1"
      ]
     },
     "execution_count": 28,
     "metadata": {},
     "output_type": "execute_result"
    }
   ],
   "source": [
    "dum_lunch = pd.get_dummies(student_perf['lunch'], drop_first=True)\n",
    "dum_lunch.head()"
   ]
  },
  {
   "cell_type": "code",
   "execution_count": 29,
   "metadata": {},
   "outputs": [
    {
     "data": {
      "text/html": [
       "<div>\n",
       "<style scoped>\n",
       "    .dataframe tbody tr th:only-of-type {\n",
       "        vertical-align: middle;\n",
       "    }\n",
       "\n",
       "    .dataframe tbody tr th {\n",
       "        vertical-align: top;\n",
       "    }\n",
       "\n",
       "    .dataframe thead th {\n",
       "        text-align: right;\n",
       "    }\n",
       "</style>\n",
       "<table border=\"1\" class=\"dataframe\">\n",
       "  <thead>\n",
       "    <tr style=\"text-align: right;\">\n",
       "      <th></th>\n",
       "      <th>none</th>\n",
       "    </tr>\n",
       "  </thead>\n",
       "  <tbody>\n",
       "    <tr>\n",
       "      <th>0</th>\n",
       "      <td>1</td>\n",
       "    </tr>\n",
       "    <tr>\n",
       "      <th>1</th>\n",
       "      <td>0</td>\n",
       "    </tr>\n",
       "    <tr>\n",
       "      <th>2</th>\n",
       "      <td>1</td>\n",
       "    </tr>\n",
       "    <tr>\n",
       "      <th>3</th>\n",
       "      <td>1</td>\n",
       "    </tr>\n",
       "    <tr>\n",
       "      <th>4</th>\n",
       "      <td>1</td>\n",
       "    </tr>\n",
       "  </tbody>\n",
       "</table>\n",
       "</div>"
      ],
      "text/plain": [
       "   none\n",
       "0     1\n",
       "1     0\n",
       "2     1\n",
       "3     1\n",
       "4     1"
      ]
     },
     "execution_count": 29,
     "metadata": {},
     "output_type": "execute_result"
    }
   ],
   "source": [
    "dum_prep = pd.get_dummies(student_perf['test preparation course'], drop_first=True)\n",
    "dum_prep.head()"
   ]
  },
  {
   "cell_type": "code",
   "execution_count": 30,
   "metadata": {},
   "outputs": [
    {
     "data": {
      "text/plain": [
       "0      4\n",
       "1      2\n",
       "2      5\n",
       "3      3\n",
       "4      2\n",
       "      ..\n",
       "995    5\n",
       "996    1\n",
       "997    1\n",
       "998    2\n",
       "999    2\n",
       "Name: parental level of education, Length: 1000, dtype: int64"
      ]
     },
     "execution_count": 30,
     "metadata": {},
     "output_type": "execute_result"
    }
   ],
   "source": [
    "\n",
    "parent_ed_map = {\"master's degree\": 5, \"bachelor's degree\": 4, \"associate's degree\": 3, \"some college\": 2, \"high school\": 1, \"some high school\": 0}\n",
    "parent_educ_ord = student_perf['parental level of education'].map(parent_ed_map)\n",
    "parent_educ_ord\n",
    "\n"
   ]
  },
  {
   "cell_type": "code",
   "execution_count": 31,
   "metadata": {},
   "outputs": [
    {
     "data": {
      "text/html": [
       "<div>\n",
       "<style scoped>\n",
       "    .dataframe tbody tr th:only-of-type {\n",
       "        vertical-align: middle;\n",
       "    }\n",
       "\n",
       "    .dataframe tbody tr th {\n",
       "        vertical-align: top;\n",
       "    }\n",
       "\n",
       "    .dataframe thead th {\n",
       "        text-align: right;\n",
       "    }\n",
       "</style>\n",
       "<table border=\"1\" class=\"dataframe\">\n",
       "  <thead>\n",
       "    <tr style=\"text-align: right;\">\n",
       "      <th></th>\n",
       "      <th>group B</th>\n",
       "      <th>group C</th>\n",
       "      <th>group D</th>\n",
       "      <th>group E</th>\n",
       "    </tr>\n",
       "  </thead>\n",
       "  <tbody>\n",
       "    <tr>\n",
       "      <th>0</th>\n",
       "      <td>1</td>\n",
       "      <td>0</td>\n",
       "      <td>0</td>\n",
       "      <td>0</td>\n",
       "    </tr>\n",
       "    <tr>\n",
       "      <th>1</th>\n",
       "      <td>0</td>\n",
       "      <td>1</td>\n",
       "      <td>0</td>\n",
       "      <td>0</td>\n",
       "    </tr>\n",
       "    <tr>\n",
       "      <th>2</th>\n",
       "      <td>1</td>\n",
       "      <td>0</td>\n",
       "      <td>0</td>\n",
       "      <td>0</td>\n",
       "    </tr>\n",
       "    <tr>\n",
       "      <th>3</th>\n",
       "      <td>0</td>\n",
       "      <td>0</td>\n",
       "      <td>0</td>\n",
       "      <td>0</td>\n",
       "    </tr>\n",
       "    <tr>\n",
       "      <th>4</th>\n",
       "      <td>0</td>\n",
       "      <td>1</td>\n",
       "      <td>0</td>\n",
       "      <td>0</td>\n",
       "    </tr>\n",
       "  </tbody>\n",
       "</table>\n",
       "</div>"
      ],
      "text/plain": [
       "   group B  group C  group D  group E\n",
       "0        1        0        0        0\n",
       "1        0        1        0        0\n",
       "2        1        0        0        0\n",
       "3        0        0        0        0\n",
       "4        0        1        0        0"
      ]
     },
     "execution_count": 31,
     "metadata": {},
     "output_type": "execute_result"
    }
   ],
   "source": [
    "dum_ethnic = pd.get_dummies(student_perf['race/ethnicity'], drop_first=True)\n",
    "dum_ethnic.head()"
   ]
  },
  {
   "cell_type": "code",
   "execution_count": 32,
   "metadata": {},
   "outputs": [],
   "source": [
    "dum_gender = pd.get_dummies(student_perf['gender'], drop_first=True)"
   ]
  },
  {
   "cell_type": "code",
   "execution_count": 33,
   "metadata": {},
   "outputs": [
    {
     "data": {
      "text/html": [
       "<div>\n",
       "<style scoped>\n",
       "    .dataframe tbody tr th:only-of-type {\n",
       "        vertical-align: middle;\n",
       "    }\n",
       "\n",
       "    .dataframe tbody tr th {\n",
       "        vertical-align: top;\n",
       "    }\n",
       "\n",
       "    .dataframe thead th {\n",
       "        text-align: right;\n",
       "    }\n",
       "</style>\n",
       "<table border=\"1\" class=\"dataframe\">\n",
       "  <thead>\n",
       "    <tr style=\"text-align: right;\">\n",
       "      <th></th>\n",
       "      <th>standard</th>\n",
       "      <th>no prep</th>\n",
       "      <th>parental level of education</th>\n",
       "      <th>group B</th>\n",
       "      <th>group C</th>\n",
       "      <th>group D</th>\n",
       "      <th>group E</th>\n",
       "      <th>male</th>\n",
       "    </tr>\n",
       "  </thead>\n",
       "  <tbody>\n",
       "    <tr>\n",
       "      <th>0</th>\n",
       "      <td>1</td>\n",
       "      <td>1</td>\n",
       "      <td>4</td>\n",
       "      <td>1</td>\n",
       "      <td>0</td>\n",
       "      <td>0</td>\n",
       "      <td>0</td>\n",
       "      <td>0</td>\n",
       "    </tr>\n",
       "    <tr>\n",
       "      <th>1</th>\n",
       "      <td>1</td>\n",
       "      <td>0</td>\n",
       "      <td>2</td>\n",
       "      <td>0</td>\n",
       "      <td>1</td>\n",
       "      <td>0</td>\n",
       "      <td>0</td>\n",
       "      <td>0</td>\n",
       "    </tr>\n",
       "    <tr>\n",
       "      <th>2</th>\n",
       "      <td>1</td>\n",
       "      <td>1</td>\n",
       "      <td>5</td>\n",
       "      <td>1</td>\n",
       "      <td>0</td>\n",
       "      <td>0</td>\n",
       "      <td>0</td>\n",
       "      <td>0</td>\n",
       "    </tr>\n",
       "    <tr>\n",
       "      <th>3</th>\n",
       "      <td>0</td>\n",
       "      <td>1</td>\n",
       "      <td>3</td>\n",
       "      <td>0</td>\n",
       "      <td>0</td>\n",
       "      <td>0</td>\n",
       "      <td>0</td>\n",
       "      <td>1</td>\n",
       "    </tr>\n",
       "    <tr>\n",
       "      <th>4</th>\n",
       "      <td>1</td>\n",
       "      <td>1</td>\n",
       "      <td>2</td>\n",
       "      <td>0</td>\n",
       "      <td>1</td>\n",
       "      <td>0</td>\n",
       "      <td>0</td>\n",
       "      <td>1</td>\n",
       "    </tr>\n",
       "  </tbody>\n",
       "</table>\n",
       "</div>"
      ],
      "text/plain": [
       "   standard  no prep  parental level of education  group B  group C  group D  \\\n",
       "0         1        1                            4        1        0        0   \n",
       "1         1        0                            2        0        1        0   \n",
       "2         1        1                            5        1        0        0   \n",
       "3         0        1                            3        0        0        0   \n",
       "4         1        1                            2        0        1        0   \n",
       "\n",
       "   group E  male  \n",
       "0        0     0  \n",
       "1        0     0  \n",
       "2        0     0  \n",
       "3        0     1  \n",
       "4        0     1  "
      ]
     },
     "execution_count": 33,
     "metadata": {},
     "output_type": "execute_result"
    }
   ],
   "source": [
    "dummies = pd.concat([dum_lunch, dum_prep, parent_educ_ord, dum_ethnic, dum_gender], axis = 1)\n",
    "dummies = dummies.rename({'none':'no prep'}, axis = 1)\n",
    "dummies.head()"
   ]
  },
  {
   "cell_type": "code",
   "execution_count": 34,
   "metadata": {},
   "outputs": [],
   "source": [
    "#All of this will have to be repeated with the reading/writing score, but starting with math scores...\n",
    "\n",
    "X = dummies\n",
    "y = student_perf['math score']"
   ]
  },
  {
   "cell_type": "code",
   "execution_count": 35,
   "metadata": {},
   "outputs": [],
   "source": [
    "X_train, X_test, y_train, y_test = train_test_split(X, y, test_size = 0.2, random_state=42)"
   ]
  },
  {
   "cell_type": "markdown",
   "metadata": {},
   "source": [
    "# Modeling\n",
    "It's time to try some models to see how well we can predict student scores based on these main identifiers. Our dependent variable is the test score, which is continuous, so I'll be using regression models.\n"
   ]
  },
  {
   "cell_type": "code",
   "execution_count": 36,
   "metadata": {},
   "outputs": [],
   "source": [
    "from sklearn.linear_model import LinearRegression, LogisticRegression, Ridge, Lasso, ElasticNet\n",
    "from sklearn.metrics import mean_squared_error, r2_score, mean_absolute_error\n",
    "from sklearn.ensemble import RandomForestRegressor\n",
    "from sklearn.dummy import DummyRegressor\n",
    "import statsmodels.api as sm"
   ]
  },
  {
   "cell_type": "markdown",
   "metadata": {},
   "source": [
    "First, I want to see how just randomly picking the mean works as a predictor. I know my models don't work well if they're not doing any better than the Dummy Regressor model."
   ]
  },
  {
   "cell_type": "code",
   "execution_count": 37,
   "metadata": {},
   "outputs": [
    {
     "name": "stdout",
     "output_type": "stream",
     "text": [
      "The R2 score is: -0.01703929204145327\n",
      "The mean absolute error is: 12.339850000000002\n",
      "The mean squared error is: 247.4847140625\n"
     ]
    }
   ],
   "source": [
    "dumb_reg = DummyRegressor(strategy='mean')\n",
    "dumb_reg.fit(X_train, y_train)\n",
    "y_d_pred_temp = dumb_reg.predict(X_train)\n",
    "y_d_pred = y_d_pred_temp[0:200]\n",
    "print('The R2 score is:', r2_score(y_test, y_d_pred))\n",
    "print('The mean absolute error is:', mean_absolute_error(y_test, y_d_pred))\n",
    "print('The mean squared error is:', mean_squared_error(y_test, y_d_pred))"
   ]
  },
  {
   "cell_type": "markdown",
   "metadata": {},
   "source": [
    "Trying Linear Regression first."
   ]
  },
  {
   "cell_type": "code",
   "execution_count": 38,
   "metadata": {},
   "outputs": [
    {
     "name": "stdout",
     "output_type": "stream",
     "text": [
      "The R2 score is: 0.18848589937761584\n",
      "The mean absolute error is: 11.15561540752078\n",
      "The mean squared error is: 197.47254282288995\n"
     ]
    }
   ],
   "source": [
    "regr = LinearRegression()\n",
    "regr.fit(X_train, y_train)\n",
    "y_pred = regr.predict(X_test)\n",
    "print('The R2 score is:', r2_score(y_test, y_pred))\n",
    "print('The mean absolute error is:', mean_absolute_error(y_test, y_pred))\n",
    "print('The mean squared error is:', mean_squared_error(y_test, y_pred))"
   ]
  },
  {
   "cell_type": "markdown",
   "metadata": {},
   "source": [
    "Random Forest Regression"
   ]
  },
  {
   "cell_type": "code",
   "execution_count": 39,
   "metadata": {},
   "outputs": [
    {
     "name": "stdout",
     "output_type": "stream",
     "text": [
      "The R2 score is: -0.025053023470059888\n",
      "The mean absolute error is: 12.380836768472843\n",
      "The mean squared error is: 249.4347626463668\n"
     ]
    }
   ],
   "source": [
    "model = RandomForestRegressor()\n",
    "model.fit(X_train, y_train)\n",
    "y_pred = model.predict(X_test)\n",
    "print('The R2 score is:', r2_score(y_test, y_pred))\n",
    "print('The mean absolute error is:', mean_absolute_error(y_test, y_pred))\n",
    "print('The mean squared error is:', mean_squared_error(y_test, y_pred))"
   ]
  },
  {
   "cell_type": "markdown",
   "metadata": {},
   "source": [
    "Ridge"
   ]
  },
  {
   "cell_type": "code",
   "execution_count": 40,
   "metadata": {},
   "outputs": [
    {
     "name": "stdout",
     "output_type": "stream",
     "text": [
      "The R2 score is: 0.18796770726980117\n",
      "The mean absolute error is: 11.161600424757662\n",
      "The mean squared error is: 197.5986388612982\n"
     ]
    }
   ],
   "source": [
    "model = Ridge()\n",
    "model.fit(X_train, y_train)\n",
    "y_pred = model.predict(X_test)\n",
    "print('The R2 score is:', r2_score(y_test, y_pred))\n",
    "print('The mean absolute error is:', mean_absolute_error(y_test, y_pred))\n",
    "print('The mean squared error is:', mean_squared_error(y_test, y_pred))"
   ]
  },
  {
   "cell_type": "markdown",
   "metadata": {},
   "source": [
    "Lasso"
   ]
  },
  {
   "cell_type": "code",
   "execution_count": 41,
   "metadata": {},
   "outputs": [
    {
     "name": "stdout",
     "output_type": "stream",
     "text": [
      "The R2 score is: 0.1250815251485361\n",
      "The mean absolute error is: 11.499214184261996\n",
      "The mean squared error is: 212.90126180079548\n"
     ]
    }
   ],
   "source": [
    "model = Lasso()\n",
    "model.fit(X_train, y_train)\n",
    "y_pred = model.predict(X_test)\n",
    "print('The R2 score is:', r2_score(y_test, y_pred))\n",
    "print('The mean absolute error is:', mean_absolute_error(y_test, y_pred))\n",
    "print('The mean squared error is:', mean_squared_error(y_test, y_pred))"
   ]
  },
  {
   "cell_type": "markdown",
   "metadata": {},
   "source": [
    "ElasticNet"
   ]
  },
  {
   "cell_type": "code",
   "execution_count": 42,
   "metadata": {},
   "outputs": [
    {
     "name": "stdout",
     "output_type": "stream",
     "text": [
      "The R2 score is: 0.09036856479890754\n",
      "The mean absolute error is: 11.740997741425552\n",
      "The mean squared error is: 221.3482580315375\n"
     ]
    }
   ],
   "source": [
    "model = ElasticNet()\n",
    "model.fit(X_train, y_train)\n",
    "y_pred = model.predict(X_test)\n",
    "print('The R2 score is:', r2_score(y_test, y_pred))\n",
    "print('The mean absolute error is:', mean_absolute_error(y_test, y_pred))\n",
    "print('The mean squared error is:', mean_squared_error(y_test, y_pred))"
   ]
  },
  {
   "cell_type": "markdown",
   "metadata": {},
   "source": [
    "Time to repeat, this time with the Reading and Writing Scores."
   ]
  },
  {
   "cell_type": "code",
   "execution_count": 43,
   "metadata": {},
   "outputs": [],
   "source": [
    "X = dummies\n",
    "y = student_perf['r/w score']\n",
    "X_train, X_test, y_train, y_test = train_test_split(X, y, test_size = 0.2, random_state=42)"
   ]
  },
  {
   "cell_type": "markdown",
   "metadata": {},
   "source": [
    "Dummy Regressor"
   ]
  },
  {
   "cell_type": "code",
   "execution_count": 44,
   "metadata": {},
   "outputs": [
    {
     "name": "stdout",
     "output_type": "stream",
     "text": [
      "The R2 score is: -0.017056323720227917\n",
      "The mean absolute error is: 11.9598875\n",
      "The mean squared error is: 231.56213789062497\n"
     ]
    }
   ],
   "source": [
    "dumb_reg = DummyRegressor(strategy='mean')\n",
    "dumb_reg.fit(X_train, y_train)\n",
    "y_d_pred_temp = dumb_reg.predict(X_train)\n",
    "y_d_pred = y_d_pred_temp[0:200]\n",
    "print('The R2 score is:', r2_score(y_test, y_d_pred))\n",
    "print('The mean absolute error is:', mean_absolute_error(y_test, y_d_pred))\n",
    "print('The mean squared error is:', mean_squared_error(y_test, y_d_pred))"
   ]
  },
  {
   "cell_type": "markdown",
   "metadata": {},
   "source": [
    "Linear Regression"
   ]
  },
  {
   "cell_type": "code",
   "execution_count": 45,
   "metadata": {
    "scrolled": true
   },
   "outputs": [
    {
     "name": "stdout",
     "output_type": "stream",
     "text": [
      "The R2 score is: 0.22996223601420085\n",
      "The mean absolute error is: 10.291614676032175\n",
      "The mean squared error is: 175.32125480802588\n"
     ]
    }
   ],
   "source": [
    "regr = LinearRegression()\n",
    "regr.fit(X_train, y_train)\n",
    "y_pred = regr.predict(X_test)\n",
    "print('The R2 score is:', r2_score(y_test, y_pred))\n",
    "print('The mean absolute error is:', mean_absolute_error(y_test, y_pred))\n",
    "print('The mean squared error is:', mean_squared_error(y_test, y_pred))"
   ]
  },
  {
   "cell_type": "markdown",
   "metadata": {},
   "source": [
    "Random Forest Regression"
   ]
  },
  {
   "cell_type": "code",
   "execution_count": 46,
   "metadata": {},
   "outputs": [
    {
     "name": "stdout",
     "output_type": "stream",
     "text": [
      "The R2 score is: 0.04002839343834008\n",
      "The mean absolute error is: 11.388871290476205\n",
      "The mean squared error is: 218.56515941674073\n"
     ]
    }
   ],
   "source": [
    "model = RandomForestRegressor()\n",
    "model.fit(X_train, y_train)\n",
    "y_pred = model.predict(X_test)\n",
    "print('The R2 score is:', r2_score(y_test, y_pred))\n",
    "print('The mean absolute error is:', mean_absolute_error(y_test, y_pred))\n",
    "print('The mean squared error is:', mean_squared_error(y_test, y_pred))"
   ]
  },
  {
   "cell_type": "markdown",
   "metadata": {},
   "source": [
    "Ridge"
   ]
  },
  {
   "cell_type": "code",
   "execution_count": 47,
   "metadata": {},
   "outputs": [
    {
     "name": "stdout",
     "output_type": "stream",
     "text": [
      "The R2 score is: 0.22981524681567878\n",
      "The mean absolute error is: 10.29196633958163\n",
      "The mean squared error is: 175.35472112868362\n"
     ]
    }
   ],
   "source": [
    "model = Ridge()\n",
    "model.fit(X_train, y_train)\n",
    "y_pred = model.predict(X_test)\n",
    "print('The R2 score is:', r2_score(y_test, y_pred))\n",
    "print('The mean absolute error is:', mean_absolute_error(y_test, y_pred))\n",
    "print('The mean squared error is:', mean_squared_error(y_test, y_pred))"
   ]
  },
  {
   "cell_type": "markdown",
   "metadata": {},
   "source": [
    "Lasso"
   ]
  },
  {
   "cell_type": "code",
   "execution_count": 48,
   "metadata": {},
   "outputs": [
    {
     "name": "stdout",
     "output_type": "stream",
     "text": [
      "The R2 score is: 0.17899279222489983\n",
      "The mean absolute error is: 10.696373755305398\n",
      "The mean squared error is: 186.9259153324053\n"
     ]
    }
   ],
   "source": [
    "model = Lasso()\n",
    "model.fit(X_train, y_train)\n",
    "y_pred = model.predict(X_test)\n",
    "print('The R2 score is:', r2_score(y_test, y_pred))\n",
    "print('The mean absolute error is:', mean_absolute_error(y_test, y_pred))\n",
    "print('The mean squared error is:', mean_squared_error(y_test, y_pred))"
   ]
  },
  {
   "cell_type": "markdown",
   "metadata": {},
   "source": [
    "ElasticNet"
   ]
  },
  {
   "cell_type": "code",
   "execution_count": 49,
   "metadata": {
    "scrolled": true
   },
   "outputs": [
    {
     "name": "stdout",
     "output_type": "stream",
     "text": [
      "The R2 score is: 0.12051993709303122\n",
      "The mean absolute error is: 11.120150341020022\n",
      "The mean squared error is: 200.2389433595816\n"
     ]
    }
   ],
   "source": [
    "model = ElasticNet()\n",
    "model.fit(X_train, y_train)\n",
    "y_pred = model.predict(X_test)\n",
    "print('The R2 score is:', r2_score(y_test, y_pred))\n",
    "print('The mean absolute error is:', mean_absolute_error(y_test, y_pred))\n",
    "print('The mean squared error is:', mean_squared_error(y_test, y_pred))"
   ]
  },
  {
   "cell_type": "markdown",
   "metadata": {},
   "source": [
    "# Trying Ordinary Least Squares Method for Regression"
   ]
  },
  {
   "cell_type": "code",
   "execution_count": 50,
   "metadata": {
    "scrolled": true
   },
   "outputs": [
    {
     "data": {
      "text/html": [
       "<table class=\"simpletable\">\n",
       "<caption>OLS Regression Results</caption>\n",
       "<tr>\n",
       "  <th>Dep. Variable:</th>       <td>math score</td>    <th>  R-squared:         </th> <td>   0.251</td>\n",
       "</tr>\n",
       "<tr>\n",
       "  <th>Model:</th>                   <td>OLS</td>       <th>  Adj. R-squared:    </th> <td>   0.245</td>\n",
       "</tr>\n",
       "<tr>\n",
       "  <th>Method:</th>             <td>Least Squares</td>  <th>  F-statistic:       </th> <td>   41.58</td>\n",
       "</tr>\n",
       "<tr>\n",
       "  <th>Date:</th>             <td>Sun, 29 Aug 2021</td> <th>  Prob (F-statistic):</th> <td>1.72e-57</td>\n",
       "</tr>\n",
       "<tr>\n",
       "  <th>Time:</th>                 <td>11:08:09</td>     <th>  Log-Likelihood:    </th> <td> -3992.6</td>\n",
       "</tr>\n",
       "<tr>\n",
       "  <th>No. Observations:</th>      <td>  1000</td>      <th>  AIC:               </th> <td>   8003.</td>\n",
       "</tr>\n",
       "<tr>\n",
       "  <th>Df Residuals:</th>          <td>   991</td>      <th>  BIC:               </th> <td>   8047.</td>\n",
       "</tr>\n",
       "<tr>\n",
       "  <th>Df Model:</th>              <td>     8</td>      <th>                     </th>     <td> </td>   \n",
       "</tr>\n",
       "<tr>\n",
       "  <th>Covariance Type:</th>      <td>nonrobust</td>    <th>                     </th>     <td> </td>   \n",
       "</tr>\n",
       "</table>\n",
       "<table class=\"simpletable\">\n",
       "<tr>\n",
       "               <td></td>                  <th>coef</th>     <th>std err</th>      <th>t</th>      <th>P>|t|</th>  <th>[0.025</th>    <th>0.975]</th>  \n",
       "</tr>\n",
       "<tr>\n",
       "  <th>const</th>                       <td>   52.8766</td> <td>    1.751</td> <td>   30.200</td> <td> 0.000</td> <td>   49.441</td> <td>   56.313</td>\n",
       "</tr>\n",
       "<tr>\n",
       "  <th>standard</th>                    <td>   10.8994</td> <td>    0.873</td> <td>   12.488</td> <td> 0.000</td> <td>    9.187</td> <td>   12.612</td>\n",
       "</tr>\n",
       "<tr>\n",
       "  <th>no prep</th>                     <td>   -5.6195</td> <td>    0.872</td> <td>   -6.448</td> <td> 0.000</td> <td>   -7.330</td> <td>   -3.909</td>\n",
       "</tr>\n",
       "<tr>\n",
       "  <th>parental level of education</th> <td>    1.6662</td> <td>    0.287</td> <td>    5.796</td> <td> 0.000</td> <td>    1.102</td> <td>    2.230</td>\n",
       "</tr>\n",
       "<tr>\n",
       "  <th>group B</th>                     <td>    1.8897</td> <td>    1.697</td> <td>    1.114</td> <td> 0.266</td> <td>   -1.440</td> <td>    5.220</td>\n",
       "</tr>\n",
       "<tr>\n",
       "  <th>group C</th>                     <td>    2.3755</td> <td>    1.589</td> <td>    1.495</td> <td> 0.135</td> <td>   -0.743</td> <td>    5.494</td>\n",
       "</tr>\n",
       "<tr>\n",
       "  <th>group D</th>                     <td>    5.3573</td> <td>    1.621</td> <td>    3.304</td> <td> 0.001</td> <td>    2.176</td> <td>    8.539</td>\n",
       "</tr>\n",
       "<tr>\n",
       "  <th>group E</th>                     <td>   10.1181</td> <td>    1.798</td> <td>    5.629</td> <td> 0.000</td> <td>    6.591</td> <td>   13.645</td>\n",
       "</tr>\n",
       "<tr>\n",
       "  <th>male</th>                        <td>    4.9492</td> <td>    0.838</td> <td>    5.903</td> <td> 0.000</td> <td>    3.304</td> <td>    6.594</td>\n",
       "</tr>\n",
       "</table>\n",
       "<table class=\"simpletable\">\n",
       "<tr>\n",
       "  <th>Omnibus:</th>       <td> 8.601</td> <th>  Durbin-Watson:     </th> <td>   2.041</td>\n",
       "</tr>\n",
       "<tr>\n",
       "  <th>Prob(Omnibus):</th> <td> 0.014</td> <th>  Jarque-Bera (JB):  </th> <td>   8.767</td>\n",
       "</tr>\n",
       "<tr>\n",
       "  <th>Skew:</th>          <td>-0.225</td> <th>  Prob(JB):          </th> <td>  0.0125</td>\n",
       "</tr>\n",
       "<tr>\n",
       "  <th>Kurtosis:</th>      <td> 2.911</td> <th>  Cond. No.          </th> <td>    22.5</td>\n",
       "</tr>\n",
       "</table><br/><br/>Notes:<br/>[1] Standard Errors assume that the covariance matrix of the errors is correctly specified."
      ],
      "text/plain": [
       "<class 'statsmodels.iolib.summary.Summary'>\n",
       "\"\"\"\n",
       "                            OLS Regression Results                            \n",
       "==============================================================================\n",
       "Dep. Variable:             math score   R-squared:                       0.251\n",
       "Model:                            OLS   Adj. R-squared:                  0.245\n",
       "Method:                 Least Squares   F-statistic:                     41.58\n",
       "Date:                Sun, 29 Aug 2021   Prob (F-statistic):           1.72e-57\n",
       "Time:                        11:08:09   Log-Likelihood:                -3992.6\n",
       "No. Observations:                1000   AIC:                             8003.\n",
       "Df Residuals:                     991   BIC:                             8047.\n",
       "Df Model:                           8                                         \n",
       "Covariance Type:            nonrobust                                         \n",
       "===============================================================================================\n",
       "                                  coef    std err          t      P>|t|      [0.025      0.975]\n",
       "-----------------------------------------------------------------------------------------------\n",
       "const                          52.8766      1.751     30.200      0.000      49.441      56.313\n",
       "standard                       10.8994      0.873     12.488      0.000       9.187      12.612\n",
       "no prep                        -5.6195      0.872     -6.448      0.000      -7.330      -3.909\n",
       "parental level of education     1.6662      0.287      5.796      0.000       1.102       2.230\n",
       "group B                         1.8897      1.697      1.114      0.266      -1.440       5.220\n",
       "group C                         2.3755      1.589      1.495      0.135      -0.743       5.494\n",
       "group D                         5.3573      1.621      3.304      0.001       2.176       8.539\n",
       "group E                        10.1181      1.798      5.629      0.000       6.591      13.645\n",
       "male                            4.9492      0.838      5.903      0.000       3.304       6.594\n",
       "==============================================================================\n",
       "Omnibus:                        8.601   Durbin-Watson:                   2.041\n",
       "Prob(Omnibus):                  0.014   Jarque-Bera (JB):                8.767\n",
       "Skew:                          -0.225   Prob(JB):                       0.0125\n",
       "Kurtosis:                       2.911   Cond. No.                         22.5\n",
       "==============================================================================\n",
       "\n",
       "Notes:\n",
       "[1] Standard Errors assume that the covariance matrix of the errors is correctly specified.\n",
       "\"\"\""
      ]
     },
     "execution_count": 50,
     "metadata": {},
     "output_type": "execute_result"
    }
   ],
   "source": [
    "X = dummies\n",
    "X = sm.add_constant(X)\n",
    "y = student_perf['math score']\n",
    "\n",
    "X_train, X_test, y_train, y_test = train_test_split(X, y, test_size=0.20)\n",
    "\n",
    "model = sm.OLS(y, X)\n",
    "results = model.fit()\n",
    "results.summary()\n",
    "\n"
   ]
  },
  {
   "cell_type": "code",
   "execution_count": 51,
   "metadata": {
    "scrolled": true
   },
   "outputs": [
    {
     "data": {
      "text/html": [
       "<table class=\"simpletable\">\n",
       "<caption>OLS Regression Results</caption>\n",
       "<tr>\n",
       "  <th>Dep. Variable:</th>        <td>r/w score</td>    <th>  R-squared:         </th> <td>   0.281</td>\n",
       "</tr>\n",
       "<tr>\n",
       "  <th>Model:</th>                   <td>OLS</td>       <th>  Adj. R-squared:    </th> <td>   0.275</td>\n",
       "</tr>\n",
       "<tr>\n",
       "  <th>Method:</th>             <td>Least Squares</td>  <th>  F-statistic:       </th> <td>   48.35</td>\n",
       "</tr>\n",
       "<tr>\n",
       "  <th>Date:</th>             <td>Sun, 29 Aug 2021</td> <th>  Prob (F-statistic):</th> <td>5.70e-66</td>\n",
       "</tr>\n",
       "<tr>\n",
       "  <th>Time:</th>                 <td>11:08:09</td>     <th>  Log-Likelihood:    </th> <td> -3943.4</td>\n",
       "</tr>\n",
       "<tr>\n",
       "  <th>No. Observations:</th>      <td>  1000</td>      <th>  AIC:               </th> <td>   7905.</td>\n",
       "</tr>\n",
       "<tr>\n",
       "  <th>Df Residuals:</th>          <td>   991</td>      <th>  BIC:               </th> <td>   7949.</td>\n",
       "</tr>\n",
       "<tr>\n",
       "  <th>Df Model:</th>              <td>     8</td>      <th>                     </th>     <td> </td>   \n",
       "</tr>\n",
       "<tr>\n",
       "  <th>Covariance Type:</th>      <td>nonrobust</td>    <th>                     </th>     <td> </td>   \n",
       "</tr>\n",
       "</table>\n",
       "<table class=\"simpletable\">\n",
       "<tr>\n",
       "               <td></td>                  <th>coef</th>     <th>std err</th>      <th>t</th>      <th>P>|t|</th>  <th>[0.025</th>    <th>0.975]</th>  \n",
       "</tr>\n",
       "<tr>\n",
       "  <th>const</th>                       <td>   66.0548</td> <td>    1.667</td> <td>   39.627</td> <td> 0.000</td> <td>   62.784</td> <td>   69.326</td>\n",
       "</tr>\n",
       "<tr>\n",
       "  <th>standard</th>                    <td>    7.7386</td> <td>    0.831</td> <td>    9.313</td> <td> 0.000</td> <td>    6.108</td> <td>    9.369</td>\n",
       "</tr>\n",
       "<tr>\n",
       "  <th>no prep</th>                     <td>   -8.8706</td> <td>    0.830</td> <td>  -10.691</td> <td> 0.000</td> <td>  -10.499</td> <td>   -7.242</td>\n",
       "</tr>\n",
       "<tr>\n",
       "  <th>parental level of education</th> <td>    2.0399</td> <td>    0.274</td> <td>    7.453</td> <td> 0.000</td> <td>    1.503</td> <td>    2.577</td>\n",
       "</tr>\n",
       "<tr>\n",
       "  <th>group B</th>                     <td>    1.0660</td> <td>    1.615</td> <td>    0.660</td> <td> 0.509</td> <td>   -2.104</td> <td>    4.236</td>\n",
       "</tr>\n",
       "<tr>\n",
       "  <th>group C</th>                     <td>    2.1866</td> <td>    1.513</td> <td>    1.445</td> <td> 0.149</td> <td>   -0.782</td> <td>    5.155</td>\n",
       "</tr>\n",
       "<tr>\n",
       "  <th>group D</th>                     <td>    5.0100</td> <td>    1.543</td> <td>    3.246</td> <td> 0.001</td> <td>    1.981</td> <td>    8.039</td>\n",
       "</tr>\n",
       "<tr>\n",
       "  <th>group E</th>                     <td>    5.2149</td> <td>    1.711</td> <td>    3.047</td> <td> 0.002</td> <td>    1.857</td> <td>    8.573</td>\n",
       "</tr>\n",
       "<tr>\n",
       "  <th>male</th>                        <td>   -8.1486</td> <td>    0.798</td> <td>  -10.209</td> <td> 0.000</td> <td>   -9.715</td> <td>   -6.582</td>\n",
       "</tr>\n",
       "</table>\n",
       "<table class=\"simpletable\">\n",
       "<tr>\n",
       "  <th>Omnibus:</th>       <td>13.077</td> <th>  Durbin-Watson:     </th> <td>   2.036</td>\n",
       "</tr>\n",
       "<tr>\n",
       "  <th>Prob(Omnibus):</th> <td> 0.001</td> <th>  Jarque-Bera (JB):  </th> <td>  13.404</td>\n",
       "</tr>\n",
       "<tr>\n",
       "  <th>Skew:</th>          <td>-0.275</td> <th>  Prob(JB):          </th> <td> 0.00123</td>\n",
       "</tr>\n",
       "<tr>\n",
       "  <th>Kurtosis:</th>      <td> 2.861</td> <th>  Cond. No.          </th> <td>    22.5</td>\n",
       "</tr>\n",
       "</table><br/><br/>Notes:<br/>[1] Standard Errors assume that the covariance matrix of the errors is correctly specified."
      ],
      "text/plain": [
       "<class 'statsmodels.iolib.summary.Summary'>\n",
       "\"\"\"\n",
       "                            OLS Regression Results                            \n",
       "==============================================================================\n",
       "Dep. Variable:              r/w score   R-squared:                       0.281\n",
       "Model:                            OLS   Adj. R-squared:                  0.275\n",
       "Method:                 Least Squares   F-statistic:                     48.35\n",
       "Date:                Sun, 29 Aug 2021   Prob (F-statistic):           5.70e-66\n",
       "Time:                        11:08:09   Log-Likelihood:                -3943.4\n",
       "No. Observations:                1000   AIC:                             7905.\n",
       "Df Residuals:                     991   BIC:                             7949.\n",
       "Df Model:                           8                                         \n",
       "Covariance Type:            nonrobust                                         \n",
       "===============================================================================================\n",
       "                                  coef    std err          t      P>|t|      [0.025      0.975]\n",
       "-----------------------------------------------------------------------------------------------\n",
       "const                          66.0548      1.667     39.627      0.000      62.784      69.326\n",
       "standard                        7.7386      0.831      9.313      0.000       6.108       9.369\n",
       "no prep                        -8.8706      0.830    -10.691      0.000     -10.499      -7.242\n",
       "parental level of education     2.0399      0.274      7.453      0.000       1.503       2.577\n",
       "group B                         1.0660      1.615      0.660      0.509      -2.104       4.236\n",
       "group C                         2.1866      1.513      1.445      0.149      -0.782       5.155\n",
       "group D                         5.0100      1.543      3.246      0.001       1.981       8.039\n",
       "group E                         5.2149      1.711      3.047      0.002       1.857       8.573\n",
       "male                           -8.1486      0.798    -10.209      0.000      -9.715      -6.582\n",
       "==============================================================================\n",
       "Omnibus:                       13.077   Durbin-Watson:                   2.036\n",
       "Prob(Omnibus):                  0.001   Jarque-Bera (JB):               13.404\n",
       "Skew:                          -0.275   Prob(JB):                      0.00123\n",
       "Kurtosis:                       2.861   Cond. No.                         22.5\n",
       "==============================================================================\n",
       "\n",
       "Notes:\n",
       "[1] Standard Errors assume that the covariance matrix of the errors is correctly specified.\n",
       "\"\"\""
      ]
     },
     "execution_count": 51,
     "metadata": {},
     "output_type": "execute_result"
    }
   ],
   "source": [
    "X = dummies\n",
    "X = sm.add_constant(X)\n",
    "y = student_perf['r/w score']\n",
    "\n",
    "X_train, X_test, y_train, y_test = train_test_split(X, y, test_size=0.20)\n",
    "\n",
    "model = sm.OLS(y, X)\n",
    "results = model.fit()\n",
    "results.summary()\n"
   ]
  },
  {
   "cell_type": "markdown",
   "metadata": {},
   "source": [
    "# Initial Conclusions: Modeling\n",
    "\n",
    "Unfortunately, none of the models were overly successful at predicting scores of either kind, with a couple of them actually performing worse than if we had simply picked the mean as a prediction. On both tests, the best predictors were the Linear Regression and Ridge Regression Models. The random Forest Regressor and Logistic Regression models performed the worst. However, the best R2 score we received was just below 0.23 and the lowest mean absolute error was 10.29 from both our Ridge and Linear Regression models, when used on the reading/writing scores.  When used on the math scores, the mean absolute error increased slightly to 11.16. \n",
    "\n",
    "After running Ordinary Least Squares as well, I've found that that model does the best job on the test set, with an R2 of .25 and .28 on the math and reading/writing scores, respectively.\n",
    "\n",
    "What I'd like to see now is if we can make better predictions by turning this in to a classification model.  I can use 70 as the cut/off point for passing the test, and divide students in to 2 categories based on pass or fail.  Then I can use classification models to predict who passes or fails based on the attached independent variables.\n"
   ]
  },
  {
   "cell_type": "code",
   "execution_count": 52,
   "metadata": {},
   "outputs": [],
   "source": [
    "student_perf['math pass/fail'] = student_perf['math score'].apply(lambda x: 1 if x >= 70 else 0)  \n",
    "student_perf['r/w pass/fail'] = student_perf['r/w score'].apply(lambda x: 1 if x >= 70 else 0)"
   ]
  },
  {
   "cell_type": "code",
   "execution_count": 53,
   "metadata": {},
   "outputs": [
    {
     "data": {
      "text/html": [
       "<div>\n",
       "<style scoped>\n",
       "    .dataframe tbody tr th:only-of-type {\n",
       "        vertical-align: middle;\n",
       "    }\n",
       "\n",
       "    .dataframe tbody tr th {\n",
       "        vertical-align: top;\n",
       "    }\n",
       "\n",
       "    .dataframe thead th {\n",
       "        text-align: right;\n",
       "    }\n",
       "</style>\n",
       "<table border=\"1\" class=\"dataframe\">\n",
       "  <thead>\n",
       "    <tr style=\"text-align: right;\">\n",
       "      <th></th>\n",
       "      <th>gender</th>\n",
       "      <th>race/ethnicity</th>\n",
       "      <th>parental level of education</th>\n",
       "      <th>lunch</th>\n",
       "      <th>test preparation course</th>\n",
       "      <th>math score</th>\n",
       "      <th>reading score</th>\n",
       "      <th>writing score</th>\n",
       "      <th>avg_test_score</th>\n",
       "      <th>r/w score</th>\n",
       "      <th>math pass/fail</th>\n",
       "      <th>r/w pass/fail</th>\n",
       "    </tr>\n",
       "  </thead>\n",
       "  <tbody>\n",
       "    <tr>\n",
       "      <th>0</th>\n",
       "      <td>female</td>\n",
       "      <td>group B</td>\n",
       "      <td>bachelor's degree</td>\n",
       "      <td>standard</td>\n",
       "      <td>none</td>\n",
       "      <td>72</td>\n",
       "      <td>72</td>\n",
       "      <td>74</td>\n",
       "      <td>72.666667</td>\n",
       "      <td>73.0</td>\n",
       "      <td>1</td>\n",
       "      <td>1</td>\n",
       "    </tr>\n",
       "    <tr>\n",
       "      <th>1</th>\n",
       "      <td>female</td>\n",
       "      <td>group C</td>\n",
       "      <td>some college</td>\n",
       "      <td>standard</td>\n",
       "      <td>completed</td>\n",
       "      <td>69</td>\n",
       "      <td>90</td>\n",
       "      <td>88</td>\n",
       "      <td>82.333333</td>\n",
       "      <td>89.0</td>\n",
       "      <td>0</td>\n",
       "      <td>1</td>\n",
       "    </tr>\n",
       "    <tr>\n",
       "      <th>2</th>\n",
       "      <td>female</td>\n",
       "      <td>group B</td>\n",
       "      <td>master's degree</td>\n",
       "      <td>standard</td>\n",
       "      <td>none</td>\n",
       "      <td>90</td>\n",
       "      <td>95</td>\n",
       "      <td>93</td>\n",
       "      <td>92.666667</td>\n",
       "      <td>94.0</td>\n",
       "      <td>1</td>\n",
       "      <td>1</td>\n",
       "    </tr>\n",
       "    <tr>\n",
       "      <th>3</th>\n",
       "      <td>male</td>\n",
       "      <td>group A</td>\n",
       "      <td>associate's degree</td>\n",
       "      <td>free/reduced</td>\n",
       "      <td>none</td>\n",
       "      <td>47</td>\n",
       "      <td>57</td>\n",
       "      <td>44</td>\n",
       "      <td>49.333333</td>\n",
       "      <td>50.5</td>\n",
       "      <td>0</td>\n",
       "      <td>0</td>\n",
       "    </tr>\n",
       "    <tr>\n",
       "      <th>4</th>\n",
       "      <td>male</td>\n",
       "      <td>group C</td>\n",
       "      <td>some college</td>\n",
       "      <td>standard</td>\n",
       "      <td>none</td>\n",
       "      <td>76</td>\n",
       "      <td>78</td>\n",
       "      <td>75</td>\n",
       "      <td>76.333333</td>\n",
       "      <td>76.5</td>\n",
       "      <td>1</td>\n",
       "      <td>1</td>\n",
       "    </tr>\n",
       "  </tbody>\n",
       "</table>\n",
       "</div>"
      ],
      "text/plain": [
       "   gender race/ethnicity parental level of education         lunch  \\\n",
       "0  female        group B           bachelor's degree      standard   \n",
       "1  female        group C                some college      standard   \n",
       "2  female        group B             master's degree      standard   \n",
       "3    male        group A          associate's degree  free/reduced   \n",
       "4    male        group C                some college      standard   \n",
       "\n",
       "  test preparation course  math score  reading score  writing score  \\\n",
       "0                    none          72             72             74   \n",
       "1               completed          69             90             88   \n",
       "2                    none          90             95             93   \n",
       "3                    none          47             57             44   \n",
       "4                    none          76             78             75   \n",
       "\n",
       "   avg_test_score  r/w score  math pass/fail  r/w pass/fail  \n",
       "0       72.666667       73.0               1              1  \n",
       "1       82.333333       89.0               0              1  \n",
       "2       92.666667       94.0               1              1  \n",
       "3       49.333333       50.5               0              0  \n",
       "4       76.333333       76.5               1              1  "
      ]
     },
     "execution_count": 53,
     "metadata": {},
     "output_type": "execute_result"
    }
   ],
   "source": [
    "student_perf.head()"
   ]
  },
  {
   "cell_type": "code",
   "execution_count": 54,
   "metadata": {},
   "outputs": [],
   "source": [
    "from sklearn.tree import DecisionTreeClassifier\n",
    "from sklearn.ensemble import RandomForestClassifier\n",
    "from sklearn.neighbors import KNeighborsClassifier\n",
    "from sklearn.svm import SVC\n",
    "from sklearn.metrics import accuracy_score, classification_report, confusion_matrix, f1_score, precision_score, recall_score"
   ]
  },
  {
   "cell_type": "markdown",
   "metadata": {},
   "source": [
    "### RandomForestClassifier"
   ]
  },
  {
   "cell_type": "code",
   "execution_count": 55,
   "metadata": {},
   "outputs": [
    {
     "name": "stdout",
     "output_type": "stream",
     "text": [
      "F1 Score: 0.48\n",
      "Accuracy Score: 0.61\n",
      "Precision Score: 0.5\n",
      "Recall Score: 0.46\n"
     ]
    }
   ],
   "source": [
    "X = dummies\n",
    "y = student_perf['math pass/fail']\n",
    "X_train, X_test, y_train, y_test = train_test_split(X, y, test_size = 0.2, random_state=42)\n",
    "\n",
    "model = RandomForestClassifier()\n",
    "model.fit(X_train, y_train)\n",
    "y_pred = model.predict(X_test)\n",
    "\n",
    "print('F1 Score:', round(f1_score(y_test, y_pred), 2))\n",
    "print('Accuracy Score:', round(accuracy_score(y_test, y_pred), 2))\n",
    "print('Precision Score:', round(precision_score(y_test, y_pred), 2))\n",
    "print('Recall Score:', round(recall_score(y_test, y_pred), 2))\n"
   ]
  },
  {
   "cell_type": "code",
   "execution_count": 56,
   "metadata": {},
   "outputs": [
    {
     "data": {
      "text/plain": [
       "array([[86, 36],\n",
       "       [42, 36]], dtype=int64)"
      ]
     },
     "execution_count": 56,
     "metadata": {},
     "output_type": "execute_result"
    }
   ],
   "source": [
    "confusion_matrix(y_test, y_pred)"
   ]
  },
  {
   "cell_type": "markdown",
   "metadata": {},
   "source": [
    "On the Reading/Writing scores..."
   ]
  },
  {
   "cell_type": "code",
   "execution_count": 57,
   "metadata": {},
   "outputs": [
    {
     "name": "stdout",
     "output_type": "stream",
     "text": [
      "F1 Score: 0.61\n",
      "Accuracy Score: 0.62\n",
      "Precision Score: 0.62\n",
      "Recall Score: 0.6\n"
     ]
    }
   ],
   "source": [
    "X = dummies\n",
    "y = student_perf['r/w pass/fail']\n",
    "X_train, X_test, y_train, y_test = train_test_split(X, y, test_size = 0.2, random_state=42)\n",
    "\n",
    "model = RandomForestClassifier()\n",
    "model.fit(X_train, y_train)\n",
    "y_pred = model.predict(X_test)\n",
    "\n",
    "print('F1 Score:', round(f1_score(y_test, y_pred), 2))\n",
    "print('Accuracy Score:', round(accuracy_score(y_test, y_pred), 2))\n",
    "print('Precision Score:', round(precision_score(y_test, y_pred), 2))\n",
    "print('Recall Score:', round(recall_score(y_test, y_pred), 2))\n"
   ]
  },
  {
   "cell_type": "code",
   "execution_count": 58,
   "metadata": {
    "scrolled": true
   },
   "outputs": [
    {
     "data": {
      "text/plain": [
       "array([[65, 36],\n",
       "       [40, 59]], dtype=int64)"
      ]
     },
     "execution_count": 58,
     "metadata": {},
     "output_type": "execute_result"
    }
   ],
   "source": [
    "confusion_matrix(y_test, y_pred)\n"
   ]
  },
  {
   "cell_type": "markdown",
   "metadata": {},
   "source": [
    "Overall, it seems the Classifier Model works better on the Reading & Writing scores.  "
   ]
  },
  {
   "cell_type": "markdown",
   "metadata": {},
   "source": [
    "### Logistic Regression"
   ]
  },
  {
   "cell_type": "code",
   "execution_count": 59,
   "metadata": {},
   "outputs": [
    {
     "name": "stdout",
     "output_type": "stream",
     "text": [
      "F1 Score: 0.55\n",
      "Accuracy Score: 0.66\n",
      "Precision Score: 0.58\n",
      "Recall Score: 0.53\n"
     ]
    }
   ],
   "source": [
    "X = dummies\n",
    "y = student_perf['math pass/fail']\n",
    "X_train, X_test, y_train, y_test = train_test_split(X, y, test_size = 0.2, random_state=42)\n",
    "\n",
    "model = LogisticRegression()\n",
    "model.fit(X_train, y_train)\n",
    "y_pred = model.predict(X_test)\n",
    "print('F1 Score:', round(f1_score(y_test, y_pred), 2))\n",
    "print('Accuracy Score:', round(accuracy_score(y_test, y_pred), 2))\n",
    "print('Precision Score:', round(precision_score(y_test, y_pred), 2))\n",
    "print('Recall Score:', round(recall_score(y_test, y_pred), 2))"
   ]
  },
  {
   "cell_type": "code",
   "execution_count": 60,
   "metadata": {},
   "outputs": [
    {
     "data": {
      "text/plain": [
       "array([[92, 30],\n",
       "       [37, 41]], dtype=int64)"
      ]
     },
     "execution_count": 60,
     "metadata": {},
     "output_type": "execute_result"
    }
   ],
   "source": [
    "confusion_matrix(y_test, y_pred)\n"
   ]
  },
  {
   "cell_type": "markdown",
   "metadata": {},
   "source": [
    "on r/w scores..."
   ]
  },
  {
   "cell_type": "code",
   "execution_count": 61,
   "metadata": {},
   "outputs": [
    {
     "name": "stdout",
     "output_type": "stream",
     "text": [
      "F1 Score: 0.67\n",
      "Accuracy Score: 0.68\n",
      "Precision Score: 0.69\n",
      "Recall Score: 0.66\n"
     ]
    }
   ],
   "source": [
    "X = dummies\n",
    "y = student_perf['r/w pass/fail']\n",
    "X_train, X_test, y_train, y_test = train_test_split(X, y, test_size = 0.2, random_state=42)\n",
    "\n",
    "model = LogisticRegression()\n",
    "model.fit(X_train, y_train)\n",
    "y_pred = model.predict(X_test)\n",
    "print('F1 Score:', round(f1_score(y_test, y_pred), 2))\n",
    "print('Accuracy Score:', round(accuracy_score(y_test, y_pred), 2))\n",
    "print('Precision Score:', round(precision_score(y_test, y_pred), 2))\n",
    "print('Recall Score:', round(recall_score(y_test, y_pred), 2))"
   ]
  },
  {
   "cell_type": "code",
   "execution_count": 62,
   "metadata": {},
   "outputs": [
    {
     "data": {
      "text/plain": [
       "array([[72, 29],\n",
       "       [34, 65]], dtype=int64)"
      ]
     },
     "execution_count": 62,
     "metadata": {},
     "output_type": "execute_result"
    }
   ],
   "source": [
    "confusion_matrix(y_test, y_pred)"
   ]
  },
  {
   "cell_type": "markdown",
   "metadata": {},
   "source": [
    "### KNeighbors Classifier"
   ]
  },
  {
   "cell_type": "code",
   "execution_count": 63,
   "metadata": {},
   "outputs": [
    {
     "name": "stdout",
     "output_type": "stream",
     "text": [
      "Using 2 Neighbors\n",
      "F1 Score: 0.35\n",
      "Accuracy Score: 0.63\n",
      "Precision Score: 0.56\n",
      "Recall Score: 0.26\n",
      " \n",
      "Using 3 Neighbors\n",
      "F1 Score: 0.47\n",
      "Accuracy Score: 0.59\n",
      "Precision Score: 0.47\n",
      "Recall Score: 0.47\n",
      " \n",
      "Using 4 Neighbors\n",
      "F1 Score: 0.35\n",
      "Accuracy Score: 0.6\n",
      "Precision Score: 0.47\n",
      "Recall Score: 0.28\n",
      " \n",
      "Using 5 Neighbors\n",
      "F1 Score: 0.47\n",
      "Accuracy Score: 0.59\n",
      "Precision Score: 0.47\n",
      "Recall Score: 0.46\n",
      " \n",
      "Using 6 Neighbors\n",
      "F1 Score: 0.29\n",
      "Accuracy Score: 0.56\n",
      "Precision Score: 0.4\n",
      "Recall Score: 0.23\n",
      " \n",
      "Using 7 Neighbors\n",
      "F1 Score: 0.42\n",
      "Accuracy Score: 0.58\n",
      "Precision Score: 0.46\n",
      "Recall Score: 0.38\n",
      " \n",
      "Using 8 Neighbors\n",
      "F1 Score: 0.3\n",
      "Accuracy Score: 0.6\n",
      "Precision Score: 0.47\n",
      "Recall Score: 0.22\n",
      " \n",
      "Using 9 Neighbors\n",
      "F1 Score: 0.45\n",
      "Accuracy Score: 0.62\n",
      "Precision Score: 0.51\n",
      "Recall Score: 0.4\n",
      " \n"
     ]
    }
   ],
   "source": [
    "X = dummies\n",
    "y = student_perf['math pass/fail']\n",
    "X_train, X_test, y_train, y_test = train_test_split(X, y, test_size = 0.2, random_state=42)\n",
    "\n",
    "for i in range(2, 10):\n",
    "    knn = KNeighborsClassifier(n_neighbors=i)\n",
    "    knn.fit(X_train, y_train)\n",
    "    y_pred = knn.predict(X_test)\n",
    "    print('Using', i, 'Neighbors')\n",
    "    print('F1 Score:', round(f1_score(y_test, y_pred), 2))\n",
    "    print('Accuracy Score:', round(accuracy_score(y_test, y_pred), 2))\n",
    "    print('Precision Score:', round(precision_score(y_test, y_pred), 2))\n",
    "    print('Recall Score:', round(recall_score(y_test, y_pred), 2))\n",
    "    print(' ')"
   ]
  },
  {
   "cell_type": "code",
   "execution_count": 64,
   "metadata": {},
   "outputs": [
    {
     "name": "stdout",
     "output_type": "stream",
     "text": [
      "Using 2 Neighbors\n",
      "F1 Score: 0.43\n",
      "Accuracy Score: 0.56\n",
      "Precision Score: 0.6\n",
      "Recall Score: 0.33\n",
      " \n",
      "Using 3 Neighbors\n",
      "F1 Score: 0.54\n",
      "Accuracy Score: 0.56\n",
      "Precision Score: 0.56\n",
      "Recall Score: 0.53\n",
      " \n",
      "Using 4 Neighbors\n",
      "F1 Score: 0.46\n",
      "Accuracy Score: 0.56\n",
      "Precision Score: 0.6\n",
      "Recall Score: 0.37\n",
      " \n",
      "Using 5 Neighbors\n",
      "F1 Score: 0.59\n",
      "Accuracy Score: 0.59\n",
      "Precision Score: 0.59\n",
      "Recall Score: 0.59\n",
      " \n",
      "Using 6 Neighbors\n",
      "F1 Score: 0.49\n",
      "Accuracy Score: 0.58\n",
      "Precision Score: 0.62\n",
      "Recall Score: 0.4\n",
      " \n",
      "Using 7 Neighbors\n",
      "F1 Score: 0.58\n",
      "Accuracy Score: 0.6\n",
      "Precision Score: 0.6\n",
      "Recall Score: 0.56\n",
      " \n",
      "Using 8 Neighbors\n",
      "F1 Score: 0.51\n",
      "Accuracy Score: 0.6\n",
      "Precision Score: 0.64\n",
      "Recall Score: 0.42\n",
      " \n",
      "Using 9 Neighbors\n",
      "F1 Score: 0.55\n",
      "Accuracy Score: 0.58\n",
      "Precision Score: 0.59\n",
      "Recall Score: 0.52\n",
      " \n"
     ]
    }
   ],
   "source": [
    "X = dummies\n",
    "y = student_perf['r/w pass/fail']\n",
    "X_train, X_test, y_train, y_test = train_test_split(X, y, test_size = 0.2, random_state=42)\n",
    "\n",
    "for i in range(2, 10):\n",
    "    knn = KNeighborsClassifier(n_neighbors=i)\n",
    "    knn.fit(X_train, y_train)\n",
    "    y_pred = knn.predict(X_test)\n",
    "    print('Using', i, 'Neighbors')\n",
    "    print('F1 Score:', round(f1_score(y_test, y_pred), 2))\n",
    "    print('Accuracy Score:', round(accuracy_score(y_test, y_pred), 2))\n",
    "    print('Precision Score:', round(precision_score(y_test, y_pred), 2))\n",
    "    print('Recall Score:', round(recall_score(y_test, y_pred), 2))\n",
    "    print(' ')"
   ]
  },
  {
   "cell_type": "markdown",
   "metadata": {},
   "source": [
    "Again, better on the reading/writing scores, but not as effective as the Logistic Regression model on either."
   ]
  },
  {
   "cell_type": "markdown",
   "metadata": {},
   "source": [
    "### Decision Tree Classifier"
   ]
  },
  {
   "cell_type": "code",
   "execution_count": 65,
   "metadata": {
    "scrolled": true
   },
   "outputs": [
    {
     "name": "stdout",
     "output_type": "stream",
     "text": [
      "F1 Score: 0.41\n",
      "Accuracy Score: 0.6\n",
      "Precision Score: 0.49\n",
      "Recall Score: 0.35\n"
     ]
    }
   ],
   "source": [
    "X = dummies\n",
    "y = student_perf['math pass/fail']\n",
    "X_train, X_test, y_train, y_test = train_test_split(X, y, test_size = 0.2, random_state=42)\n",
    "\n",
    "clf = DecisionTreeClassifier()\n",
    "clf.fit(X_train, y_train)\n",
    "y_pred = clf.predict(X_test)\n",
    "\n",
    "print('F1 Score:', round(f1_score(y_test, y_pred), 2))\n",
    "print('Accuracy Score:', round(accuracy_score(y_test, y_pred), 2))\n",
    "print('Precision Score:', round(precision_score(y_test, y_pred), 2))\n",
    "print('Recall Score:', round(recall_score(y_test, y_pred), 2))"
   ]
  },
  {
   "cell_type": "code",
   "execution_count": 66,
   "metadata": {},
   "outputs": [
    {
     "data": {
      "text/plain": [
       "array([[94, 28],\n",
       "       [51, 27]], dtype=int64)"
      ]
     },
     "execution_count": 66,
     "metadata": {},
     "output_type": "execute_result"
    }
   ],
   "source": [
    "confusion_matrix(y_test, y_pred)"
   ]
  },
  {
   "cell_type": "code",
   "execution_count": 67,
   "metadata": {
    "scrolled": true
   },
   "outputs": [
    {
     "name": "stdout",
     "output_type": "stream",
     "text": [
      "F1 Score: 0.56\n",
      "Accuracy Score: 0.6\n",
      "Precision Score: 0.61\n",
      "Recall Score: 0.52\n"
     ]
    }
   ],
   "source": [
    "X = dummies\n",
    "y = student_perf['r/w pass/fail']\n",
    "X_train, X_test, y_train, y_test = train_test_split(X, y, test_size = 0.2, random_state=42)\n",
    "\n",
    "clf = DecisionTreeClassifier()\n",
    "clf.fit(X_train, y_train)\n",
    "y_pred = clf.predict(X_test)\n",
    "\n",
    "print('F1 Score:', round(f1_score(y_test, y_pred), 2))\n",
    "print('Accuracy Score:', round(accuracy_score(y_test, y_pred), 2))\n",
    "print('Precision Score:', round(precision_score(y_test, y_pred), 2))\n",
    "print('Recall Score:', round(recall_score(y_test, y_pred), 2))"
   ]
  },
  {
   "cell_type": "code",
   "execution_count": 68,
   "metadata": {},
   "outputs": [
    {
     "data": {
      "text/plain": [
       "array([[69, 32],\n",
       "       [48, 51]], dtype=int64)"
      ]
     },
     "execution_count": 68,
     "metadata": {},
     "output_type": "execute_result"
    }
   ],
   "source": [
    "confusion_matrix(y_test, y_pred)"
   ]
  },
  {
   "cell_type": "markdown",
   "metadata": {},
   "source": [
    "### SVM"
   ]
  },
  {
   "cell_type": "code",
   "execution_count": 69,
   "metadata": {},
   "outputs": [
    {
     "name": "stdout",
     "output_type": "stream",
     "text": [
      "Kernel = linear\n",
      "F1 Score: 0.54\n",
      "Accuracy Score: 0.66\n",
      "Precision Score: 0.57\n",
      "Recall Score: 0.51\n",
      " \n",
      "Kernel = poly\n",
      "F1 Score: 0.42\n",
      "Accuracy Score: 0.67\n",
      "Precision Score: 0.67\n",
      "Recall Score: 0.31\n",
      " \n",
      "Kernel = rbf\n",
      "F1 Score: 0.54\n",
      "Accuracy Score: 0.7\n",
      "Precision Score: 0.69\n",
      "Recall Score: 0.44\n",
      " \n"
     ]
    }
   ],
   "source": [
    "X = dummies\n",
    "y = student_perf['math pass/fail']\n",
    "X_train, X_test, y_train, y_test = train_test_split(X, y, test_size = 0.2, random_state=42)\n",
    "\n",
    "kernels = ['linear', 'poly', 'rbf']\n",
    "for item in kernels:\n",
    "    clf = SVC(kernel = item)\n",
    "    clf.fit(X_train, y_train)\n",
    "    y_pred = clf.predict(X_test)\n",
    "    print('Kernel =', item)\n",
    "    print('F1 Score:', round(f1_score(y_test, y_pred), 2))\n",
    "    print('Accuracy Score:', round(accuracy_score(y_test, y_pred), 2))\n",
    "    print('Precision Score:', round(precision_score(y_test, y_pred), 2))\n",
    "    print('Recall Score:', round(recall_score(y_test, y_pred), 2))\n",
    "    print(' ')\n",
    "\n"
   ]
  },
  {
   "cell_type": "code",
   "execution_count": 70,
   "metadata": {
    "scrolled": false
   },
   "outputs": [
    {
     "name": "stdout",
     "output_type": "stream",
     "text": [
      "Kernel = linear\n",
      "F1 Score: 0.68\n",
      "Accuracy Score: 0.68\n",
      "Precision Score: 0.68\n",
      "Recall Score: 0.68\n",
      " \n",
      "Kernel = poly\n",
      "F1 Score: 0.63\n",
      "Accuracy Score: 0.66\n",
      "Precision Score: 0.67\n",
      "Recall Score: 0.61\n",
      " \n",
      "Kernel = rbf\n",
      "F1 Score: 0.62\n",
      "Accuracy Score: 0.64\n",
      "Precision Score: 0.65\n",
      "Recall Score: 0.61\n",
      " \n"
     ]
    }
   ],
   "source": [
    "X = dummies\n",
    "y = student_perf['r/w pass/fail']\n",
    "X_train, X_test, y_train, y_test = train_test_split(X, y, test_size = 0.2, random_state=42)\n",
    "\n",
    "kernels = ['linear', 'poly', 'rbf']\n",
    "for item in kernels:\n",
    "    clf = SVC(kernel = item)\n",
    "    clf.fit(X_train, y_train)\n",
    "    y_pred = clf.predict(X_test)\n",
    "    print('Kernel =', item)\n",
    "    print('F1 Score:', round(f1_score(y_test, y_pred), 2))\n",
    "    print('Accuracy Score:', round(accuracy_score(y_test, y_pred), 2))\n",
    "    print('Precision Score:', round(precision_score(y_test, y_pred), 2))\n",
    "    print('Recall Score:', round(recall_score(y_test, y_pred), 2))\n",
    "    print(' ')"
   ]
  },
  {
   "cell_type": "markdown",
   "metadata": {},
   "source": [
    "Reading and Writing scores continue to be easier to predict for our models.  Logistic Regression and SVM perform the best among the classifier models.  Now let's see if we can make some slight adjustments with those 2 models to increase performance and find the best one."
   ]
  },
  {
   "cell_type": "code",
   "execution_count": 71,
   "metadata": {},
   "outputs": [
    {
     "name": "stdout",
     "output_type": "stream",
     "text": [
      "For 100 C-value and newton-cg Solvers\n",
      "F1 Score: 0.57\n",
      "Accuracy Score: 0.68\n",
      "Precision Score: 0.6\n",
      "Recall Score: 0.55\n",
      " \n",
      "For 100 C-value and lbfgs Solvers\n",
      "F1 Score: 0.57\n",
      "Accuracy Score: 0.68\n",
      "Precision Score: 0.6\n",
      "Recall Score: 0.55\n",
      " \n",
      "For 100 C-value and liblinear Solvers\n",
      "F1 Score: 0.57\n",
      "Accuracy Score: 0.68\n",
      "Precision Score: 0.6\n",
      "Recall Score: 0.55\n",
      " \n",
      "For 10 C-value and newton-cg Solvers\n",
      "F1 Score: 0.55\n",
      "Accuracy Score: 0.67\n",
      "Precision Score: 0.59\n",
      "Recall Score: 0.53\n",
      " \n",
      "For 10 C-value and lbfgs Solvers\n",
      "F1 Score: 0.55\n",
      "Accuracy Score: 0.67\n",
      "Precision Score: 0.59\n",
      "Recall Score: 0.53\n",
      " \n",
      "For 10 C-value and liblinear Solvers\n",
      "F1 Score: 0.55\n",
      "Accuracy Score: 0.67\n",
      "Precision Score: 0.59\n",
      "Recall Score: 0.53\n",
      " \n",
      "For 1.0 C-value and newton-cg Solvers\n",
      "F1 Score: 0.55\n",
      "Accuracy Score: 0.66\n",
      "Precision Score: 0.58\n",
      "Recall Score: 0.53\n",
      " \n",
      "For 1.0 C-value and lbfgs Solvers\n",
      "F1 Score: 0.55\n",
      "Accuracy Score: 0.66\n",
      "Precision Score: 0.58\n",
      "Recall Score: 0.53\n",
      " \n",
      "For 1.0 C-value and liblinear Solvers\n",
      "F1 Score: 0.54\n",
      "Accuracy Score: 0.66\n",
      "Precision Score: 0.57\n",
      "Recall Score: 0.51\n",
      " \n",
      "For 0.1 C-value and newton-cg Solvers\n",
      "F1 Score: 0.57\n",
      "Accuracy Score: 0.7\n",
      "Precision Score: 0.63\n",
      "Recall Score: 0.51\n",
      " \n",
      "For 0.1 C-value and lbfgs Solvers\n",
      "F1 Score: 0.57\n",
      "Accuracy Score: 0.7\n",
      "Precision Score: 0.63\n",
      "Recall Score: 0.51\n",
      " \n",
      "For 0.1 C-value and liblinear Solvers\n",
      "F1 Score: 0.56\n",
      "Accuracy Score: 0.68\n",
      "Precision Score: 0.6\n",
      "Recall Score: 0.53\n",
      " \n",
      "For 0.01 C-value and newton-cg Solvers\n",
      "F1 Score: 0.27\n",
      "Accuracy Score: 0.64\n",
      "Precision Score: 0.68\n",
      "Recall Score: 0.17\n",
      " \n",
      "For 0.01 C-value and lbfgs Solvers\n",
      "F1 Score: 0.27\n",
      "Accuracy Score: 0.64\n",
      "Precision Score: 0.68\n",
      "Recall Score: 0.17\n",
      " \n",
      "For 0.01 C-value and liblinear Solvers\n",
      "F1 Score: 0.35\n",
      "Accuracy Score: 0.64\n",
      "Precision Score: 0.57\n",
      "Recall Score: 0.26\n",
      " \n"
     ]
    }
   ],
   "source": [
    "#Tuning Logistic Regression on math scores...\n",
    "\n",
    "X = dummies\n",
    "y = student_perf['math pass/fail']\n",
    "X_train, X_test, y_train, y_test = train_test_split(X, y, test_size = 0.2, random_state=42)\n",
    "\n",
    "c_values = [100, 10, 1.0, 0.1, 0.01]\n",
    "solvers = ['newton-cg', 'lbfgs', 'liblinear']\n",
    "\n",
    "for i in c_values:\n",
    "    for j in solvers:\n",
    "        model = LogisticRegression(C = i, solver = j)\n",
    "        model.fit(X_train, y_train)\n",
    "        y_pred = model.predict(X_test)\n",
    "        print('For', i, 'C-value and', j, 'Solvers')\n",
    "        print('F1 Score:', round(f1_score(y_test, y_pred), 2))\n",
    "        print('Accuracy Score:', round(accuracy_score(y_test, y_pred), 2))\n",
    "        print('Precision Score:', round(precision_score(y_test, y_pred), 2))\n",
    "        print('Recall Score:', round(recall_score(y_test, y_pred), 2))\n",
    "        print(' ')"
   ]
  },
  {
   "cell_type": "code",
   "execution_count": 72,
   "metadata": {},
   "outputs": [
    {
     "name": "stdout",
     "output_type": "stream",
     "text": [
      "For 100 C-value and newton-cg Solvers\n",
      "F1 Score: 0.68\n",
      "Accuracy Score: 0.69\n",
      "Precision Score: 0.7\n",
      "Recall Score: 0.66\n",
      " \n",
      "For 100 C-value and lbfgs Solvers\n",
      "F1 Score: 0.68\n",
      "Accuracy Score: 0.69\n",
      "Precision Score: 0.7\n",
      "Recall Score: 0.66\n",
      " \n",
      "For 100 C-value and liblinear Solvers\n",
      "F1 Score: 0.68\n",
      "Accuracy Score: 0.69\n",
      "Precision Score: 0.7\n",
      "Recall Score: 0.66\n",
      " \n",
      "For 10 C-value and newton-cg Solvers\n",
      "F1 Score: 0.67\n",
      "Accuracy Score: 0.68\n",
      "Precision Score: 0.69\n",
      "Recall Score: 0.66\n",
      " \n",
      "For 10 C-value and lbfgs Solvers\n",
      "F1 Score: 0.67\n",
      "Accuracy Score: 0.68\n",
      "Precision Score: 0.69\n",
      "Recall Score: 0.66\n",
      " \n",
      "For 10 C-value and liblinear Solvers\n",
      "F1 Score: 0.67\n",
      "Accuracy Score: 0.68\n",
      "Precision Score: 0.69\n",
      "Recall Score: 0.66\n",
      " \n",
      "For 1.0 C-value and newton-cg Solvers\n",
      "F1 Score: 0.67\n",
      "Accuracy Score: 0.68\n",
      "Precision Score: 0.69\n",
      "Recall Score: 0.66\n",
      " \n",
      "For 1.0 C-value and lbfgs Solvers\n",
      "F1 Score: 0.67\n",
      "Accuracy Score: 0.68\n",
      "Precision Score: 0.69\n",
      "Recall Score: 0.66\n",
      " \n",
      "For 1.0 C-value and liblinear Solvers\n",
      "F1 Score: 0.67\n",
      "Accuracy Score: 0.68\n",
      "Precision Score: 0.69\n",
      "Recall Score: 0.66\n",
      " \n",
      "For 0.1 C-value and newton-cg Solvers\n",
      "F1 Score: 0.68\n",
      "Accuracy Score: 0.69\n",
      "Precision Score: 0.7\n",
      "Recall Score: 0.66\n",
      " \n",
      "For 0.1 C-value and lbfgs Solvers\n",
      "F1 Score: 0.68\n",
      "Accuracy Score: 0.69\n",
      "Precision Score: 0.7\n",
      "Recall Score: 0.66\n",
      " \n",
      "For 0.1 C-value and liblinear Solvers\n",
      "F1 Score: 0.68\n",
      "Accuracy Score: 0.69\n",
      "Precision Score: 0.7\n",
      "Recall Score: 0.66\n",
      " \n",
      "For 0.01 C-value and newton-cg Solvers\n",
      "F1 Score: 0.66\n",
      "Accuracy Score: 0.68\n",
      "Precision Score: 0.69\n",
      "Recall Score: 0.64\n",
      " \n",
      "For 0.01 C-value and lbfgs Solvers\n",
      "F1 Score: 0.66\n",
      "Accuracy Score: 0.68\n",
      "Precision Score: 0.69\n",
      "Recall Score: 0.64\n",
      " \n",
      "For 0.01 C-value and liblinear Solvers\n",
      "F1 Score: 0.65\n",
      "Accuracy Score: 0.66\n",
      "Precision Score: 0.66\n",
      "Recall Score: 0.64\n",
      " \n"
     ]
    }
   ],
   "source": [
    "#Tuning Logistic Regression on r/w scores...\n",
    "\n",
    "X = dummies\n",
    "y = student_perf['r/w pass/fail']\n",
    "X_train, X_test, y_train, y_test = train_test_split(X, y, test_size = 0.2, random_state=42)\n",
    "\n",
    "c_values = [100, 10, 1.0, 0.1, 0.01]\n",
    "solvers = ['newton-cg', 'lbfgs', 'liblinear']\n",
    "\n",
    "for i in c_values:\n",
    "    for j in solvers:\n",
    "        model = LogisticRegression(C = i, solver = j)\n",
    "        model.fit(X_train, y_train)\n",
    "        y_pred = model.predict(X_test)\n",
    "        print('For', i, 'C-value and', j, 'Solvers')\n",
    "        print('F1 Score:', round(f1_score(y_test, y_pred), 2))\n",
    "        print('Accuracy Score:', round(accuracy_score(y_test, y_pred), 2))\n",
    "        print('Precision Score:', round(precision_score(y_test, y_pred), 2))\n",
    "        print('Recall Score:', round(recall_score(y_test, y_pred), 2))\n",
    "        print(' ')"
   ]
  },
  {
   "cell_type": "markdown",
   "metadata": {},
   "source": [
    "The Logistic Regression model works best with a C-value of 100."
   ]
  },
  {
   "cell_type": "markdown",
   "metadata": {},
   "source": [
    "Next, it's time to try and tune the SVM model.  This time, I'll use the GridSearch function to try and find the optimal parameters."
   ]
  },
  {
   "cell_type": "code",
   "execution_count": 73,
   "metadata": {},
   "outputs": [
    {
     "name": "stdout",
     "output_type": "stream",
     "text": [
      "{'C': 10, 'gamma': 1, 'kernel': 'linear'}\n"
     ]
    }
   ],
   "source": [
    "from sklearn.model_selection import GridSearchCV\n",
    "\n",
    "X = dummies\n",
    "y = student_perf['math pass/fail']\n",
    "X_train, X_test, y_train, y_test = train_test_split(X, y, test_size = 0.2, random_state=42)\n",
    "  \n",
    "param_grid = {'C': [0.1, 1, 10, 100, 1000], \n",
    "              'gamma': [1, 0.1, 0.01, 0.001, 0.0001],\n",
    "              'kernel': ['linear']} \n",
    "  \n",
    "grid = GridSearchCV(SVC(), param_grid, refit = True)\n",
    "grid.fit(X_train, y_train)\n",
    "\n",
    "print(grid.best_params_)"
   ]
  },
  {
   "cell_type": "code",
   "execution_count": 74,
   "metadata": {},
   "outputs": [
    {
     "name": "stdout",
     "output_type": "stream",
     "text": [
      "F1 Score: 0.58\n",
      "Accuracy Score: 0.68\n",
      "Precision Score: 0.59\n",
      "Recall Score: 0.56\n"
     ]
    }
   ],
   "source": [
    "y_pred = grid.predict(X_test)\n",
    "print('F1 Score:', round(f1_score(y_test, y_pred), 2))\n",
    "print('Accuracy Score:', round(accuracy_score(y_test, y_pred), 2))\n",
    "print('Precision Score:', round(precision_score(y_test, y_pred), 2))\n",
    "print('Recall Score:', round(recall_score(y_test, y_pred), 2))"
   ]
  },
  {
   "cell_type": "code",
   "execution_count": 75,
   "metadata": {},
   "outputs": [
    {
     "name": "stdout",
     "output_type": "stream",
     "text": [
      "{'C': 1, 'gamma': 1, 'kernel': 'linear'}\n"
     ]
    }
   ],
   "source": [
    "X = dummies\n",
    "y = student_perf['r/w pass/fail']\n",
    "X_train, X_test, y_train, y_test = train_test_split(X, y, test_size = 0.2, random_state=42)\n",
    "  \n",
    "param_grid = {'C': [0.1, 1, 10, 100, 1000], \n",
    "              'gamma': [1, 0.1, 0.01, 0.001, 0.0001],\n",
    "              'kernel': ['linear']} \n",
    "  \n",
    "grid = GridSearchCV(SVC(), param_grid, refit = True)\n",
    "grid.fit(X_train, y_train)\n",
    "\n",
    "print(grid.best_params_)"
   ]
  },
  {
   "cell_type": "code",
   "execution_count": 76,
   "metadata": {},
   "outputs": [
    {
     "name": "stdout",
     "output_type": "stream",
     "text": [
      "F1 Score: 0.68\n",
      "Accuracy Score: 0.68\n",
      "Precision Score: 0.68\n",
      "Recall Score: 0.68\n"
     ]
    }
   ],
   "source": [
    "y_pred = grid.predict(X_test)\n",
    "print('F1 Score:', round(f1_score(y_test, y_pred), 2))\n",
    "print('Accuracy Score:', round(accuracy_score(y_test, y_pred), 2))\n",
    "print('Precision Score:', round(precision_score(y_test, y_pred), 2))\n",
    "print('Recall Score:', round(recall_score(y_test, y_pred), 2))\n",
    "        "
   ]
  },
  {
   "cell_type": "markdown",
   "metadata": {},
   "source": [
    "It seems the tuned SVM model may very slightly outperform the logistic regression model when it comes to predicting math scores, although they both seem equally effective on reading/writing scores.  The SVM model also appears to have a different optimal 'C' parameter, depending if the model is predicting math scores, or reading/writing scores."
   ]
  },
  {
   "cell_type": "markdown",
   "metadata": {},
   "source": [
    "Next, I want to see if we can improve our SVM model by limiting the independent variables.  Let's try eliminating one at a time, starting with the test prep variable."
   ]
  },
  {
   "cell_type": "code",
   "execution_count": 77,
   "metadata": {},
   "outputs": [
    {
     "name": "stdout",
     "output_type": "stream",
     "text": [
      "F1 Score: 0.29\n",
      "Accuracy Score: 0.64\n",
      "Precision Score: 0.62\n",
      "Recall Score: 0.19\n"
     ]
    }
   ],
   "source": [
    "X = dummies.drop('no prep', axis=1)\n",
    "y = student_perf['math pass/fail']\n",
    "X_train, X_test, y_train, y_test = train_test_split(X, y, test_size = 0.2, random_state=42)\n",
    "\n",
    "clf = SVC(C = 10, gamma = 1, kernel = 'linear')\n",
    "clf.fit(X_train, y_train)\n",
    "y_pred = clf.predict(X_test)\n",
    "\n",
    "print('F1 Score:', round(f1_score(y_test, y_pred), 2))\n",
    "print('Accuracy Score:', round(accuracy_score(y_test, y_pred), 2))\n",
    "print('Precision Score:', round(precision_score(y_test, y_pred), 2))\n",
    "print('Recall Score:', round(recall_score(y_test, y_pred), 2))"
   ]
  },
  {
   "cell_type": "markdown",
   "metadata": {},
   "source": [
    "The model performs much worse without the test prep variable on math."
   ]
  },
  {
   "cell_type": "code",
   "execution_count": 78,
   "metadata": {},
   "outputs": [
    {
     "name": "stdout",
     "output_type": "stream",
     "text": [
      "F1 Score: 0.56\n",
      "Accuracy Score: 0.68\n",
      "Precision Score: 0.6\n",
      "Recall Score: 0.53\n"
     ]
    }
   ],
   "source": [
    "X = dummies.drop(['parental level of education'], axis=1)\n",
    "y = student_perf['math pass/fail']\n",
    "X_train, X_test, y_train, y_test = train_test_split(X, y, test_size = 0.2, random_state=42)\n",
    "\n",
    "clf = SVC(C = 10, gamma = 1, kernel = 'linear')\n",
    "clf.fit(X_train, y_train)\n",
    "y_pred = clf.predict(X_test)\n",
    "\n",
    "print('F1 Score:', round(f1_score(y_test, y_pred), 2))\n",
    "print('Accuracy Score:', round(accuracy_score(y_test, y_pred), 2))\n",
    "print('Precision Score:', round(precision_score(y_test, y_pred), 2))\n",
    "print('Recall Score:', round(recall_score(y_test, y_pred), 2))"
   ]
  },
  {
   "cell_type": "markdown",
   "metadata": {},
   "source": [
    "Removing Parental level of education doesnt appear to help."
   ]
  },
  {
   "cell_type": "code",
   "execution_count": 79,
   "metadata": {
    "scrolled": true
   },
   "outputs": [
    {
     "name": "stdout",
     "output_type": "stream",
     "text": [
      "F1 Score: 0.53\n",
      "Accuracy Score: 0.68\n",
      "Precision Score: 0.64\n",
      "Recall Score: 0.45\n"
     ]
    }
   ],
   "source": [
    "X = dummies.drop(['male'], axis=1)\n",
    "y = student_perf['math pass/fail']\n",
    "X_train, X_test, y_train, y_test = train_test_split(X, y, test_size = 0.2, random_state=42)\n",
    "\n",
    "clf = SVC(C = 10, gamma = 1, kernel = 'linear')\n",
    "clf.fit(X_train, y_train)\n",
    "y_pred = clf.predict(X_test)\n",
    "\n",
    "print('F1 Score:', round(f1_score(y_test, y_pred), 2))\n",
    "print('Accuracy Score:', round(accuracy_score(y_test, y_pred), 2))\n",
    "print('Precision Score:', round(precision_score(y_test, y_pred), 2))\n",
    "print('Recall Score:', round(recall_score(y_test, y_pred), 2))"
   ]
  },
  {
   "cell_type": "markdown",
   "metadata": {},
   "source": [
    "Nor does removing gender."
   ]
  },
  {
   "cell_type": "code",
   "execution_count": 80,
   "metadata": {},
   "outputs": [
    {
     "name": "stdout",
     "output_type": "stream",
     "text": [
      "F1 Score: 0.39\n",
      "Accuracy Score: 0.62\n",
      "Precision Score: 0.51\n",
      "Recall Score: 0.32\n"
     ]
    }
   ],
   "source": [
    "X = dummies.drop(['group B', 'group C', 'group D', 'group E'], axis=1)\n",
    "y = student_perf['math pass/fail']\n",
    "X_train, X_test, y_train, y_test = train_test_split(X, y, test_size = 0.2, random_state=42)\n",
    "\n",
    "clf = SVC(C = 10, gamma = 1, kernel = 'linear')\n",
    "clf.fit(X_train, y_train)\n",
    "y_pred = clf.predict(X_test)\n",
    "\n",
    "print('F1 Score:', round(f1_score(y_test, y_pred), 2))\n",
    "print('Accuracy Score:', round(accuracy_score(y_test, y_pred), 2))\n",
    "print('Precision Score:', round(precision_score(y_test, y_pred), 2))\n",
    "print('Recall Score:', round(recall_score(y_test, y_pred), 2))"
   ]
  },
  {
   "cell_type": "markdown",
   "metadata": {},
   "source": [
    "Removing the ethnic group variable made the model perform considerably worse.  Last categorical variable to look at would be lunch.  I don't expect the model to perform without this variable at all, but let's see."
   ]
  },
  {
   "cell_type": "code",
   "execution_count": 81,
   "metadata": {},
   "outputs": [
    {
     "name": "stdout",
     "output_type": "stream",
     "text": [
      "F1 Score: 0.29\n",
      "Accuracy Score: 0.64\n",
      "Precision Score: 0.62\n",
      "Recall Score: 0.19\n"
     ]
    }
   ],
   "source": [
    "X = dummies.drop(['standard'], axis=1)\n",
    "y = student_perf['math pass/fail']\n",
    "X_train, X_test, y_train, y_test = train_test_split(X, y, test_size = 0.2, random_state=42)\n",
    "\n",
    "clf = SVC(C = 10, gamma = 1, kernel = 'linear')\n",
    "clf.fit(X_train, y_train)\n",
    "y_pred = clf.predict(X_test)\n",
    "\n",
    "print('F1 Score:', round(f1_score(y_test, y_pred), 2))\n",
    "print('Accuracy Score:', round(accuracy_score(y_test, y_pred), 2))\n",
    "print('Precision Score:', round(precision_score(y_test, y_pred), 2))\n",
    "print('Recall Score:', round(recall_score(y_test, y_pred), 2))"
   ]
  },
  {
   "cell_type": "markdown",
   "metadata": {},
   "source": [
    "When it comes to math scores, it looks like using all 5 variables is the best approach.  Time to look at Reading and Writing scores."
   ]
  },
  {
   "cell_type": "code",
   "execution_count": 82,
   "metadata": {},
   "outputs": [
    {
     "name": "stdout",
     "output_type": "stream",
     "text": [
      "F1 Score: 0.58\n",
      "Accuracy Score: 0.59\n",
      "Precision Score: 0.59\n",
      "Recall Score: 0.58\n"
     ]
    }
   ],
   "source": [
    "# Removing test preparation\n",
    "\n",
    "X = dummies.drop('no prep', axis=1)\n",
    "y = student_perf['r/w pass/fail']\n",
    "X_train, X_test, y_train, y_test = train_test_split(X, y, test_size = 0.2, random_state=42)\n",
    "\n",
    "clf = SVC(C = 1, gamma = 1, kernel = 'linear')\n",
    "clf.fit(X_train, y_train)\n",
    "y_pred = clf.predict(X_test)\n",
    "\n",
    "\n",
    "print('F1 Score:', round(f1_score(y_test, y_pred), 2))\n",
    "print('Accuracy Score:', round(accuracy_score(y_test, y_pred), 2))\n",
    "print('Precision Score:', round(precision_score(y_test, y_pred), 2))\n",
    "print('Recall Score:', round(recall_score(y_test, y_pred), 2))"
   ]
  },
  {
   "cell_type": "code",
   "execution_count": 83,
   "metadata": {},
   "outputs": [
    {
     "name": "stdout",
     "output_type": "stream",
     "text": [
      "F1 Score: 0.62\n",
      "Accuracy Score: 0.6\n",
      "Precision Score: 0.59\n",
      "Recall Score: 0.65\n"
     ]
    }
   ],
   "source": [
    "# Removing parental level of ed\n",
    "X = dummies.drop(['parental level of education'], axis=1)\n",
    "y = student_perf['r/w pass/fail']\n",
    "X_train, X_test, y_train, y_test = train_test_split(X, y, test_size = 0.2, random_state=42)\n",
    "\n",
    "clf = SVC(C = 1, gamma = 1, kernel = 'linear')\n",
    "clf.fit(X_train, y_train)\n",
    "y_pred = clf.predict(X_test)\n",
    "\n",
    "\n",
    "print('F1 Score:', round(f1_score(y_test, y_pred), 2))\n",
    "print('Accuracy Score:', round(accuracy_score(y_test, y_pred), 2))\n",
    "print('Precision Score:', round(precision_score(y_test, y_pred), 2))\n",
    "print('Recall Score:', round(recall_score(y_test, y_pred), 2))"
   ]
  },
  {
   "cell_type": "code",
   "execution_count": 84,
   "metadata": {
    "scrolled": false
   },
   "outputs": [
    {
     "name": "stdout",
     "output_type": "stream",
     "text": [
      "F1 Score: 0.65\n",
      "Accuracy Score: 0.66\n",
      "Precision Score: 0.66\n",
      "Recall Score: 0.65\n"
     ]
    }
   ],
   "source": [
    "#Removing Gender\n",
    "X = dummies.drop(['male'], axis=1)\n",
    "y = student_perf['r/w pass/fail']\n",
    "X_train, X_test, y_train, y_test = train_test_split(X, y, test_size = 0.2, random_state=42)\n",
    "\n",
    "clf = SVC(C = 1, gamma = 1, kernel = 'linear')\n",
    "clf.fit(X_train, y_train)\n",
    "y_pred = clf.predict(X_test)\n",
    "\n",
    "\n",
    "print('F1 Score:', round(f1_score(y_test, y_pred), 2))\n",
    "print('Accuracy Score:', round(accuracy_score(y_test, y_pred), 2))\n",
    "print('Precision Score:', round(precision_score(y_test, y_pred), 2))\n",
    "print('Recall Score:', round(recall_score(y_test, y_pred), 2))"
   ]
  },
  {
   "cell_type": "code",
   "execution_count": 85,
   "metadata": {},
   "outputs": [
    {
     "name": "stdout",
     "output_type": "stream",
     "text": [
      "F1 Score: 0.65\n",
      "Accuracy Score: 0.67\n",
      "Precision Score: 0.69\n",
      "Recall Score: 0.62\n"
     ]
    }
   ],
   "source": [
    "# Removing Ethnic Group\n",
    "\n",
    "X = dummies.drop(['group B', 'group C', 'group D', 'group E'], axis=1)\n",
    "y = student_perf['r/w pass/fail']\n",
    "X_train, X_test, y_train, y_test = train_test_split(X, y, test_size = 0.2, random_state=42)\n",
    "\n",
    "clf = SVC(C = 1, gamma = 1, kernel = 'linear')\n",
    "clf.fit(X_train, y_train)\n",
    "y_pred = clf.predict(X_test)\n",
    "\n",
    "print('F1 Score:', round(f1_score(y_test, y_pred), 2))\n",
    "print('Accuracy Score:', round(accuracy_score(y_test, y_pred), 2))\n",
    "print('Precision Score:', round(precision_score(y_test, y_pred), 2))\n",
    "print('Recall Score:', round(recall_score(y_test, y_pred), 2))"
   ]
  },
  {
   "cell_type": "code",
   "execution_count": 86,
   "metadata": {
    "scrolled": true
   },
   "outputs": [
    {
     "name": "stdout",
     "output_type": "stream",
     "text": [
      "F1 Score: 0.64\n",
      "Accuracy Score: 0.66\n",
      "Precision Score: 0.67\n",
      "Recall Score: 0.62\n"
     ]
    }
   ],
   "source": [
    "X = dummies.drop(['standard'], axis=1)\n",
    "y = student_perf['r/w pass/fail']\n",
    "X_train, X_test, y_train, y_test = train_test_split(X, y, test_size = 0.2, random_state=42)\n",
    "\n",
    "clf = SVC(C = 1, gamma = 1, kernel = 'linear')\n",
    "clf.fit(X_train, y_train)\n",
    "y_pred = clf.predict(X_test)\n",
    "\n",
    "print('F1 Score:', round(f1_score(y_test, y_pred), 2))\n",
    "print('Accuracy Score:', round(accuracy_score(y_test, y_pred), 2))\n",
    "print('Precision Score:', round(precision_score(y_test, y_pred), 2))\n",
    "print('Recall Score:', round(recall_score(y_test, y_pred), 2))"
   ]
  },
  {
   "cell_type": "markdown",
   "metadata": {},
   "source": [
    "Again, it looks like using all 5 features is our best course of action.  On the reading and writing scores tho, we do see a much smaller influence when removing individual independent variables.  On reading and writing, Removing the lunch and ethnic group variables don't decrease the efficacy of the model near as much as it did with the math scores.  Removing the test prep variable harmed the model's performance on reading and writing scores the most.\n",
    "\n",
    "Since Logistic regression performed just as well as SVM on the reading/writing scores, let's try removing some features and applying that model again, as well."
   ]
  },
  {
   "cell_type": "code",
   "execution_count": 87,
   "metadata": {},
   "outputs": [
    {
     "name": "stdout",
     "output_type": "stream",
     "text": [
      "F1 Score: 0.62\n",
      "Accuracy Score: 0.64\n",
      "Precision Score: 0.65\n",
      "Recall Score: 0.6\n"
     ]
    }
   ],
   "source": [
    "# Removing test preparation\n",
    "\n",
    "X = dummies.drop('no prep', axis=1)\n",
    "y = student_perf['r/w pass/fail']\n",
    "X_train, X_test, y_train, y_test = train_test_split(X, y, test_size = 0.2, random_state=42)\n",
    "\n",
    "model = LogisticRegression(C = 100)\n",
    "model.fit(X_train, y_train)\n",
    "y_pred = model.predict(X_test)\n",
    "\n",
    "\n",
    "print('F1 Score:', round(f1_score(y_test, y_pred), 2))\n",
    "print('Accuracy Score:', round(accuracy_score(y_test, y_pred), 2))\n",
    "print('Precision Score:', round(precision_score(y_test, y_pred), 2))\n",
    "print('Recall Score:', round(recall_score(y_test, y_pred), 2))"
   ]
  },
  {
   "cell_type": "code",
   "execution_count": 88,
   "metadata": {},
   "outputs": [
    {
     "name": "stdout",
     "output_type": "stream",
     "text": [
      "F1 Score: 0.66\n",
      "Accuracy Score: 0.67\n",
      "Precision Score: 0.67\n",
      "Recall Score: 0.65\n"
     ]
    }
   ],
   "source": [
    "# Removing parental level of ed\n",
    "X = dummies.drop(['parental level of education'], axis=1)\n",
    "y = student_perf['r/w pass/fail']\n",
    "X_train, X_test, y_train, y_test = train_test_split(X, y, test_size = 0.2, random_state=42)\n",
    "\n",
    "model = LogisticRegression(C = 100)\n",
    "model.fit(X_train, y_train)\n",
    "y_pred = model.predict(X_test)\n",
    "\n",
    "\n",
    "print('F1 Score:', round(f1_score(y_test, y_pred), 2))\n",
    "print('Accuracy Score:', round(accuracy_score(y_test, y_pred), 2))\n",
    "print('Precision Score:', round(precision_score(y_test, y_pred), 2))\n",
    "print('Recall Score:', round(recall_score(y_test, y_pred), 2))"
   ]
  },
  {
   "cell_type": "code",
   "execution_count": 89,
   "metadata": {
    "scrolled": false
   },
   "outputs": [
    {
     "name": "stdout",
     "output_type": "stream",
     "text": [
      "F1 Score: 0.68\n",
      "Accuracy Score: 0.68\n",
      "Precision Score: 0.67\n",
      "Recall Score: 0.69\n"
     ]
    }
   ],
   "source": [
    "#Removing Gender\n",
    "X = dummies.drop(['male'], axis=1)\n",
    "y = student_perf['r/w pass/fail']\n",
    "X_train, X_test, y_train, y_test = train_test_split(X, y, test_size = 0.2, random_state=42)\n",
    "\n",
    "model = LogisticRegression(C = 100)\n",
    "model.fit(X_train, y_train)\n",
    "y_pred = model.predict(X_test)\n",
    "\n",
    "\n",
    "print('F1 Score:', round(f1_score(y_test, y_pred), 2))\n",
    "print('Accuracy Score:', round(accuracy_score(y_test, y_pred), 2))\n",
    "print('Precision Score:', round(precision_score(y_test, y_pred), 2))\n",
    "print('Recall Score:', round(recall_score(y_test, y_pred), 2))"
   ]
  },
  {
   "cell_type": "code",
   "execution_count": 90,
   "metadata": {},
   "outputs": [
    {
     "name": "stdout",
     "output_type": "stream",
     "text": [
      "F1 Score: 0.66\n",
      "Accuracy Score: 0.66\n",
      "Precision Score: 0.66\n",
      "Recall Score: 0.67\n"
     ]
    }
   ],
   "source": [
    "# Removing Ethnic Group\n",
    "\n",
    "X = dummies.drop(['group B', 'group C', 'group D', 'group E'], axis=1)\n",
    "y = student_perf['r/w pass/fail']\n",
    "X_train, X_test, y_train, y_test = train_test_split(X, y, test_size = 0.2, random_state=42)\n",
    "\n",
    "model = LogisticRegression(C = 100)\n",
    "model.fit(X_train, y_train)\n",
    "y_pred = model.predict(X_test)\n",
    "\n",
    "print('F1 Score:', round(f1_score(y_test, y_pred), 2))\n",
    "print('Accuracy Score:', round(accuracy_score(y_test, y_pred), 2))\n",
    "print('Precision Score:', round(precision_score(y_test, y_pred), 2))\n",
    "print('Recall Score:', round(recall_score(y_test, y_pred), 2))"
   ]
  },
  {
   "cell_type": "code",
   "execution_count": 91,
   "metadata": {},
   "outputs": [
    {
     "name": "stdout",
     "output_type": "stream",
     "text": [
      "F1 Score: 0.67\n",
      "Accuracy Score: 0.68\n",
      "Precision Score: 0.68\n",
      "Recall Score: 0.67\n"
     ]
    }
   ],
   "source": [
    "X = dummies.drop(['standard'], axis=1)\n",
    "y = student_perf['r/w pass/fail']\n",
    "X_train, X_test, y_train, y_test = train_test_split(X, y, test_size = 0.2, random_state=42)\n",
    "\n",
    "model = LogisticRegression(C = 100)\n",
    "model.fit(X_train, y_train)\n",
    "y_pred = model.predict(X_test)\n",
    "\n",
    "print('F1 Score:', round(f1_score(y_test, y_pred), 2))\n",
    "print('Accuracy Score:', round(accuracy_score(y_test, y_pred), 2))\n",
    "print('Precision Score:', round(precision_score(y_test, y_pred), 2))\n",
    "print('Recall Score:', round(recall_score(y_test, y_pred), 2))"
   ]
  },
  {
   "cell_type": "markdown",
   "metadata": {},
   "source": [
    "With the logistic regression model, all 5 variables still work best, but there is even a smaller difference seen when removing individual variables."
   ]
  },
  {
   "cell_type": "markdown",
   "metadata": {},
   "source": [
    "Final Takeaways\n",
    "\n",
    "-R/W scores are much easier to predict than math scores.\n",
    "-SVM model worked best on Math scores, while SVM and Logistic regression performed equally as well on the r/w scores.\n",
    "-The models work best with all 5 variables considered.\n",
    "-Lunch is clearly the most influential factor on math scores, but not near as large a factor on r/w scores.\n",
    "-Test prep seems to have been the largest factor on r/w scores\n",
    "-Ethnicity and lunch are a much larger factors when it comes to math scores\n",
    "-Girls scored on average 8 points higher than boys on reading/writing.  Boys scored 5 points higher on average in math.\n",
    "-Parental level of education affected "
   ]
  },
  {
   "cell_type": "code",
   "execution_count": null,
   "metadata": {},
   "outputs": [],
   "source": []
  },
  {
   "cell_type": "code",
   "execution_count": null,
   "metadata": {},
   "outputs": [],
   "source": []
  }
 ],
 "metadata": {
  "kernelspec": {
   "display_name": "Python 3",
   "language": "python",
   "name": "python3"
  },
  "language_info": {
   "codemirror_mode": {
    "name": "ipython",
    "version": 3
   },
   "file_extension": ".py",
   "mimetype": "text/x-python",
   "name": "python",
   "nbconvert_exporter": "python",
   "pygments_lexer": "ipython3",
   "version": "3.8.5"
  }
 },
 "nbformat": 4,
 "nbformat_minor": 4
}
